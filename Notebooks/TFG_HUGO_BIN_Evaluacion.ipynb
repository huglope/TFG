{
 "cells": [
  {
   "cell_type": "markdown",
   "id": "082e6c34",
   "metadata": {},
   "source": [
    "# TFG: Título del TFG"
   ]
  },
  {
   "cell_type": "markdown",
   "id": "08820e3c",
   "metadata": {},
   "source": [
    "## Hugo López Álvarez"
   ]
  },
  {
   "cell_type": "code",
   "execution_count": 1,
   "id": "a66de8d0",
   "metadata": {},
   "outputs": [],
   "source": [
    "import math\n",
    "import numpy    \n",
    "import pandas   \n",
    "import wandb\n",
    "import torch    \n",
    "import torch.nn as nn\n",
    "import torch.optim as optim\n",
    "from torch.utils.data import Dataset, DataLoader, Subset\n",
    "from sklearn.preprocessing import LabelEncoder, MinMaxScaler\n",
    "from sklearn.model_selection import train_test_split\n",
    "from sklearn.metrics import accuracy_score, precision_score, recall_score, f1_score, roc_auc_score, confusion_matrix, log_loss, fbeta_score\n",
    "from sklearn.model_selection import KFold, StratifiedKFold"
   ]
  },
  {
   "cell_type": "markdown",
   "id": "91b6b379",
   "metadata": {},
   "source": [
    "## Clases"
   ]
  },
  {
   "cell_type": "markdown",
   "id": "934e415a",
   "metadata": {},
   "source": [
    "Definición de la clase DatasetTFG que se usará para entrenar al modelo"
   ]
  },
  {
   "cell_type": "code",
   "execution_count": 2,
   "id": "5917f16f",
   "metadata": {},
   "outputs": [],
   "source": [
    "class DatasetTFG(Dataset):\n",
    "    def __init__(self, X, Y):\n",
    "        self.X = X\n",
    "        self.Y = Y\n",
    "    def __len__(self):\n",
    "        return len(self.X)\n",
    "    def __getitem__(self, idx):\n",
    "        return self.X[idx], self.Y[idx]"
   ]
  },
  {
   "cell_type": "markdown",
   "id": "86a33f8e",
   "metadata": {},
   "source": [
    "Definición de la clase Modelo\n",
    "- La capa1 transforma la dimensión de entrada a 64 neuronas\n",
    "- La capa2 pasa de las 64 neuronas a 1 neurona"
   ]
  },
  {
   "cell_type": "code",
   "execution_count": 3,
   "id": "4b046d24",
   "metadata": {},
   "outputs": [],
   "source": [
    "class Modelo(nn.Module):\n",
    "    def __init__(self, input_dim, ventanaOculta):\n",
    "        super().__init__()\n",
    "        self.capa1 = nn.Linear(input_dim, ventanaOculta)\n",
    "        self.capa2 =  nn.Linear(ventanaOculta, 1) \n",
    "        \n",
    "    def forward(self,  X):\n",
    "        X = self.capa1(X)\n",
    "        X = self.capa2(X)\n",
    "        return X"
   ]
  },
  {
   "cell_type": "markdown",
   "id": "e240a0da",
   "metadata": {},
   "source": [
    "# Funciones"
   ]
  },
  {
   "cell_type": "code",
   "execution_count": 4,
   "id": "fa2cafb4",
   "metadata": {},
   "outputs": [],
   "source": [
    "\n",
    "def split_ip_column(df, ip_column_name):\n",
    "    \n",
    "    # Divide la IP en cuatro partes\n",
    "    ip_parts = df[ip_column_name].str.split('.', expand=True)\n",
    "    \n",
    "    # Crea nombres de columnas basados en el nombre original\n",
    "    new_columns = {\n",
    "        0: f\"{ip_column_name}_part1\",\n",
    "        1: f\"{ip_column_name}_part2\", \n",
    "        2: f\"{ip_column_name}_part3\",\n",
    "        3: f\"{ip_column_name}_part4\"\n",
    "    }\n",
    "    \n",
    "    # Se elimina la columna de ip_column_name\n",
    "    df = df.drop(columns=[ip_column_name]) \n",
    "    \n",
    "    # Añade las nuevas columnas al DataFrame\n",
    "    for part, col_name in new_columns.items():\n",
    "        df[col_name] = pandas.to_numeric(ip_parts[part])  # Convierte a numérico\n",
    "    \n",
    "    return df"
   ]
  },
  {
   "cell_type": "markdown",
   "id": "8e2bc3e1",
   "metadata": {},
   "source": [
    "## Cargar datos"
   ]
  },
  {
   "cell_type": "code",
   "execution_count": 5,
   "id": "281eeefe",
   "metadata": {},
   "outputs": [],
   "source": [
    "fileData = pandas.read_csv('../Datasets/modUQ.csv')"
   ]
  },
  {
   "cell_type": "markdown",
   "id": "16021721",
   "metadata": {},
   "source": [
    "### Comprobación de la obtención correcta del csv"
   ]
  },
  {
   "cell_type": "code",
   "execution_count": 6,
   "id": "77275e21",
   "metadata": {},
   "outputs": [
    {
     "data": {
      "text/html": [
       "<div>\n",
       "<style scoped>\n",
       "    .dataframe tbody tr th:only-of-type {\n",
       "        vertical-align: middle;\n",
       "    }\n",
       "\n",
       "    .dataframe tbody tr th {\n",
       "        vertical-align: top;\n",
       "    }\n",
       "\n",
       "    .dataframe thead th {\n",
       "        text-align: right;\n",
       "    }\n",
       "</style>\n",
       "<table border=\"1\" class=\"dataframe\">\n",
       "  <thead>\n",
       "    <tr style=\"text-align: right;\">\n",
       "      <th></th>\n",
       "      <th>FLOW_START_MILLISECONDS</th>\n",
       "      <th>FLOW_END_MILLISECONDS</th>\n",
       "      <th>IPV4_SRC_ADDR</th>\n",
       "      <th>L4_SRC_PORT</th>\n",
       "      <th>IPV4_DST_ADDR</th>\n",
       "      <th>L4_DST_PORT</th>\n",
       "      <th>PROTOCOL</th>\n",
       "      <th>L7_PROTO</th>\n",
       "      <th>IN_BYTES</th>\n",
       "      <th>IN_PKTS</th>\n",
       "      <th>...</th>\n",
       "      <th>SRC_TO_DST_IAT_MIN</th>\n",
       "      <th>SRC_TO_DST_IAT_MAX</th>\n",
       "      <th>SRC_TO_DST_IAT_AVG</th>\n",
       "      <th>SRC_TO_DST_IAT_STDDEV</th>\n",
       "      <th>DST_TO_SRC_IAT_MIN</th>\n",
       "      <th>DST_TO_SRC_IAT_MAX</th>\n",
       "      <th>DST_TO_SRC_IAT_AVG</th>\n",
       "      <th>DST_TO_SRC_IAT_STDDEV</th>\n",
       "      <th>Label</th>\n",
       "      <th>Attack</th>\n",
       "    </tr>\n",
       "  </thead>\n",
       "  <tbody>\n",
       "    <tr>\n",
       "      <th>0</th>\n",
       "      <td>1424242193040</td>\n",
       "      <td>1424242193043</td>\n",
       "      <td>59.166.0.2</td>\n",
       "      <td>4894</td>\n",
       "      <td>149.171.126.3</td>\n",
       "      <td>53</td>\n",
       "      <td>17</td>\n",
       "      <td>5.0</td>\n",
       "      <td>146</td>\n",
       "      <td>2</td>\n",
       "      <td>...</td>\n",
       "      <td>0</td>\n",
       "      <td>0</td>\n",
       "      <td>0</td>\n",
       "      <td>0</td>\n",
       "      <td>0</td>\n",
       "      <td>0</td>\n",
       "      <td>0</td>\n",
       "      <td>0</td>\n",
       "      <td>0</td>\n",
       "      <td>Benign</td>\n",
       "    </tr>\n",
       "    <tr>\n",
       "      <th>1</th>\n",
       "      <td>1424242192744</td>\n",
       "      <td>1424242193079</td>\n",
       "      <td>59.166.0.4</td>\n",
       "      <td>52671</td>\n",
       "      <td>149.171.126.6</td>\n",
       "      <td>31992</td>\n",
       "      <td>6</td>\n",
       "      <td>11.0</td>\n",
       "      <td>4704</td>\n",
       "      <td>28</td>\n",
       "      <td>...</td>\n",
       "      <td>0</td>\n",
       "      <td>91</td>\n",
       "      <td>12</td>\n",
       "      <td>19</td>\n",
       "      <td>0</td>\n",
       "      <td>90</td>\n",
       "      <td>12</td>\n",
       "      <td>19</td>\n",
       "      <td>0</td>\n",
       "      <td>Benign</td>\n",
       "    </tr>\n",
       "    <tr>\n",
       "      <th>2</th>\n",
       "      <td>1424242190649</td>\n",
       "      <td>1424242193109</td>\n",
       "      <td>59.166.0.0</td>\n",
       "      <td>47290</td>\n",
       "      <td>149.171.126.9</td>\n",
       "      <td>6881</td>\n",
       "      <td>6</td>\n",
       "      <td>37.0</td>\n",
       "      <td>13662</td>\n",
       "      <td>238</td>\n",
       "      <td>...</td>\n",
       "      <td>0</td>\n",
       "      <td>1843</td>\n",
       "      <td>10</td>\n",
       "      <td>119</td>\n",
       "      <td>0</td>\n",
       "      <td>1843</td>\n",
       "      <td>5</td>\n",
       "      <td>88</td>\n",
       "      <td>0</td>\n",
       "      <td>Benign</td>\n",
       "    </tr>\n",
       "    <tr>\n",
       "      <th>3</th>\n",
       "      <td>1424242193145</td>\n",
       "      <td>1424242193146</td>\n",
       "      <td>59.166.0.8</td>\n",
       "      <td>43310</td>\n",
       "      <td>149.171.126.7</td>\n",
       "      <td>53</td>\n",
       "      <td>17</td>\n",
       "      <td>5.0</td>\n",
       "      <td>146</td>\n",
       "      <td>2</td>\n",
       "      <td>...</td>\n",
       "      <td>0</td>\n",
       "      <td>0</td>\n",
       "      <td>0</td>\n",
       "      <td>0</td>\n",
       "      <td>0</td>\n",
       "      <td>0</td>\n",
       "      <td>0</td>\n",
       "      <td>0</td>\n",
       "      <td>0</td>\n",
       "      <td>Benign</td>\n",
       "    </tr>\n",
       "    <tr>\n",
       "      <th>4</th>\n",
       "      <td>1424242193239</td>\n",
       "      <td>1424242193241</td>\n",
       "      <td>59.166.0.1</td>\n",
       "      <td>45870</td>\n",
       "      <td>149.171.126.1</td>\n",
       "      <td>53</td>\n",
       "      <td>17</td>\n",
       "      <td>5.0</td>\n",
       "      <td>130</td>\n",
       "      <td>2</td>\n",
       "      <td>...</td>\n",
       "      <td>0</td>\n",
       "      <td>0</td>\n",
       "      <td>0</td>\n",
       "      <td>0</td>\n",
       "      <td>0</td>\n",
       "      <td>0</td>\n",
       "      <td>0</td>\n",
       "      <td>0</td>\n",
       "      <td>0</td>\n",
       "      <td>Benign</td>\n",
       "    </tr>\n",
       "  </tbody>\n",
       "</table>\n",
       "<p>5 rows × 55 columns</p>\n",
       "</div>"
      ],
      "text/plain": [
       "   FLOW_START_MILLISECONDS  FLOW_END_MILLISECONDS IPV4_SRC_ADDR  L4_SRC_PORT  \\\n",
       "0            1424242193040          1424242193043    59.166.0.2         4894   \n",
       "1            1424242192744          1424242193079    59.166.0.4        52671   \n",
       "2            1424242190649          1424242193109    59.166.0.0        47290   \n",
       "3            1424242193145          1424242193146    59.166.0.8        43310   \n",
       "4            1424242193239          1424242193241    59.166.0.1        45870   \n",
       "\n",
       "   IPV4_DST_ADDR  L4_DST_PORT  PROTOCOL  L7_PROTO  IN_BYTES  IN_PKTS  ...  \\\n",
       "0  149.171.126.3           53        17       5.0       146        2  ...   \n",
       "1  149.171.126.6        31992         6      11.0      4704       28  ...   \n",
       "2  149.171.126.9         6881         6      37.0     13662      238  ...   \n",
       "3  149.171.126.7           53        17       5.0       146        2  ...   \n",
       "4  149.171.126.1           53        17       5.0       130        2  ...   \n",
       "\n",
       "   SRC_TO_DST_IAT_MIN  SRC_TO_DST_IAT_MAX  SRC_TO_DST_IAT_AVG  \\\n",
       "0                   0                   0                   0   \n",
       "1                   0                  91                  12   \n",
       "2                   0                1843                  10   \n",
       "3                   0                   0                   0   \n",
       "4                   0                   0                   0   \n",
       "\n",
       "   SRC_TO_DST_IAT_STDDEV  DST_TO_SRC_IAT_MIN  DST_TO_SRC_IAT_MAX  \\\n",
       "0                      0                   0                   0   \n",
       "1                     19                   0                  90   \n",
       "2                    119                   0                1843   \n",
       "3                      0                   0                   0   \n",
       "4                      0                   0                   0   \n",
       "\n",
       "   DST_TO_SRC_IAT_AVG  DST_TO_SRC_IAT_STDDEV  Label  Attack  \n",
       "0                   0                      0      0  Benign  \n",
       "1                  12                     19      0  Benign  \n",
       "2                   5                     88      0  Benign  \n",
       "3                   0                      0      0  Benign  \n",
       "4                   0                      0      0  Benign  \n",
       "\n",
       "[5 rows x 55 columns]"
      ]
     },
     "execution_count": 6,
     "metadata": {},
     "output_type": "execute_result"
    }
   ],
   "source": [
    "fileData.head()"
   ]
  },
  {
   "cell_type": "markdown",
   "id": "0a96a971",
   "metadata": {},
   "source": [
    "### Se convierten las columnas no numéricas para poder utilizarlas con pytorch"
   ]
  },
  {
   "cell_type": "code",
   "execution_count": 7,
   "id": "067862ec",
   "metadata": {},
   "outputs": [],
   "source": [
    "#fileData = split_ip_column(fileData, 'IPV4_SRC_ADDR')\n",
    "#fileData = split_ip_column(fileData, 'IPV4_DST_ADDR')\n",
    "fileData['Attack'] = LabelEncoder().fit_transform(fileData['Attack'])"
   ]
  },
  {
   "cell_type": "markdown",
   "id": "b5ac848f",
   "metadata": {},
   "source": [
    "### Se comprueba que los datos se han transformado correctamente"
   ]
  },
  {
   "cell_type": "code",
   "execution_count": 8,
   "id": "2678ffd3",
   "metadata": {},
   "outputs": [
    {
     "name": "stdout",
     "output_type": "stream",
     "text": [
      "FLOW_START_MILLISECONDS          int64\n",
      "FLOW_END_MILLISECONDS            int64\n",
      "IPV4_SRC_ADDR                   object\n",
      "L4_SRC_PORT                      int64\n",
      "IPV4_DST_ADDR                   object\n",
      "L4_DST_PORT                      int64\n",
      "PROTOCOL                         int64\n",
      "L7_PROTO                       float64\n",
      "IN_BYTES                         int64\n",
      "IN_PKTS                          int64\n",
      "OUT_BYTES                        int64\n",
      "OUT_PKTS                         int64\n",
      "TCP_FLAGS                        int64\n",
      "CLIENT_TCP_FLAGS                 int64\n",
      "SERVER_TCP_FLAGS                 int64\n",
      "FLOW_DURATION_MILLISECONDS       int64\n",
      "DURATION_IN                      int64\n",
      "DURATION_OUT                     int64\n",
      "MIN_TTL                          int64\n",
      "MAX_TTL                          int64\n",
      "LONGEST_FLOW_PKT                 int64\n",
      "SHORTEST_FLOW_PKT                int64\n",
      "MIN_IP_PKT_LEN                   int64\n",
      "MAX_IP_PKT_LEN                   int64\n",
      "SRC_TO_DST_SECOND_BYTES        float64\n",
      "DST_TO_SRC_SECOND_BYTES        float64\n",
      "RETRANSMITTED_IN_BYTES           int64\n",
      "RETRANSMITTED_IN_PKTS            int64\n",
      "RETRANSMITTED_OUT_BYTES          int64\n",
      "RETRANSMITTED_OUT_PKTS           int64\n",
      "SRC_TO_DST_AVG_THROUGHPUT        int64\n",
      "DST_TO_SRC_AVG_THROUGHPUT        int64\n",
      "NUM_PKTS_UP_TO_128_BYTES         int64\n",
      "NUM_PKTS_128_TO_256_BYTES        int64\n",
      "NUM_PKTS_256_TO_512_BYTES        int64\n",
      "NUM_PKTS_512_TO_1024_BYTES       int64\n",
      "NUM_PKTS_1024_TO_1514_BYTES      int64\n",
      "TCP_WIN_MAX_IN                   int64\n",
      "TCP_WIN_MAX_OUT                  int64\n",
      "ICMP_TYPE                        int64\n",
      "ICMP_IPV4_TYPE                   int64\n",
      "DNS_QUERY_ID                     int64\n",
      "DNS_QUERY_TYPE                   int64\n",
      "DNS_TTL_ANSWER                   int64\n",
      "FTP_COMMAND_RET_CODE             int64\n",
      "SRC_TO_DST_IAT_MIN               int64\n",
      "SRC_TO_DST_IAT_MAX               int64\n",
      "SRC_TO_DST_IAT_AVG               int64\n",
      "SRC_TO_DST_IAT_STDDEV            int64\n",
      "DST_TO_SRC_IAT_MIN               int64\n",
      "DST_TO_SRC_IAT_MAX               int64\n",
      "DST_TO_SRC_IAT_AVG               int64\n",
      "DST_TO_SRC_IAT_STDDEV            int64\n",
      "Label                            int64\n",
      "Attack                           int64\n",
      "dtype: object\n"
     ]
    }
   ],
   "source": [
    "print(fileData.dtypes)"
   ]
  },
  {
   "cell_type": "markdown",
   "id": "4d28c573",
   "metadata": {},
   "source": [
    "## Se eliminan los datos con valores infinitos"
   ]
  },
  {
   "cell_type": "code",
   "execution_count": 9,
   "id": "8249588b",
   "metadata": {},
   "outputs": [],
   "source": [
    "#print(\"¿Existen valores infinitos en X?: \", numpy.isinf(fileData.values).any())\n",
    "fileData = fileData.replace([numpy.inf, -numpy.inf], numpy.nan).dropna()\n",
    "#print(\"¿Siguen existiendo valores infinitos en X?: \", numpy.isinf(fileData.values).any())"
   ]
  },
  {
   "cell_type": "markdown",
   "id": "1803ca7d",
   "metadata": {},
   "source": [
    "### Se separan las características (X) de la etiqueta (Y)"
   ]
  },
  {
   "cell_type": "code",
   "execution_count": 10,
   "id": "b4a7f031",
   "metadata": {},
   "outputs": [],
   "source": [
    "X = fileData.drop(columns=['Label', 'Attack', 'FLOW_START_MILLISECONDS', 'FLOW_END_MILLISECONDS', 'IPV4_SRC_ADDR', 'IPV4_DST_ADDR']).values\n",
    "Y = fileData['Label'].values"
   ]
  },
  {
   "cell_type": "markdown",
   "id": "7c1f7f18",
   "metadata": {},
   "source": [
    "### Se elimina fileData que contiene el csv con los datos para liberar memoria"
   ]
  },
  {
   "cell_type": "code",
   "execution_count": 11,
   "id": "346e5aab",
   "metadata": {},
   "outputs": [],
   "source": [
    "del fileData"
   ]
  },
  {
   "cell_type": "markdown",
   "id": "9b84d514",
   "metadata": {},
   "source": [
    "## Se separan los datos del entrenamiento de los datos de prueba\n",
    "El entrenamiento tendrá el 80% de los datos\n",
    "\n",
    "La prueba tendrá el 20% de los datos"
   ]
  },
  {
   "cell_type": "code",
   "execution_count": 12,
   "id": "b5706da4",
   "metadata": {},
   "outputs": [],
   "source": [
    "X_entrena, X_prueba, Y_entrana, Y_prueba = train_test_split(\n",
    "    X, Y, test_size=0.2, random_state=42,  stratify=Y\n",
    ")"
   ]
  },
  {
   "cell_type": "markdown",
   "id": "5085b6e7",
   "metadata": {},
   "source": [
    "## Se normalizan los datos"
   ]
  },
  {
   "cell_type": "code",
   "execution_count": 13,
   "id": "db3ffa32",
   "metadata": {},
   "outputs": [],
   "source": [
    "escalador = MinMaxScaler(feature_range=(0,1))\n",
    "X_entrena_normalizado = escalador.fit_transform(X_entrena)"
   ]
  },
  {
   "cell_type": "markdown",
   "id": "056a8afc",
   "metadata": {},
   "source": [
    "### Se convierten los datos a tensores de Pytorch"
   ]
  },
  {
   "cell_type": "code",
   "execution_count": 14,
   "id": "f95e3105",
   "metadata": {},
   "outputs": [],
   "source": [
    "X_entrena_tensor = torch.tensor(X_entrena_normalizado, dtype=torch.float32)\n",
    "Y_entrena_tensor = torch.tensor(Y_entrana, dtype=torch.float32)"
   ]
  },
  {
   "cell_type": "markdown",
   "id": "76fec3c1",
   "metadata": {},
   "source": [
    "## Creación del Dataset personalizado"
   ]
  },
  {
   "cell_type": "code",
   "execution_count": 15,
   "id": "451c11fc",
   "metadata": {},
   "outputs": [],
   "source": [
    "dataset_entrena = DatasetTFG(X_entrena_tensor, Y_entrena_tensor)"
   ]
  },
  {
   "cell_type": "markdown",
   "id": "4591504a",
   "metadata": {},
   "source": [
    "## Mejores combinaciones de hiperparámetros encontrados"
   ]
  },
  {
   "cell_type": "code",
   "execution_count": 16,
   "id": "3612c337",
   "metadata": {},
   "outputs": [],
   "source": [
    "combinaciones = [\n",
    "    {'batch_size': 15000, 'learning_rate': 1e-2, 'hidden_size': 25, 'epochs': 10},\n",
    "    {'batch_size': 10000, 'learning_rate': 1e-3, 'hidden_size': 25, 'epochs': 30},\n",
    "    {'batch_size': 20000, 'learning_rate': 1e-2, 'hidden_size': 25, 'epochs': 10},\n",
    "    {'batch_size': 20000, 'learning_rate': 1e-2, 'hidden_size': 25, 'epochs': 20},\n",
    "    {'batch_size': 2000, 'learning_rate': 1e-3, 'hidden_size': 25, 'epochs': 10},\n",
    "    \n",
    "    \n",
    "    {'batch_size': 20000, 'learning_rate': 1e-2, 'hidden_size': 49, 'epochs': 10},\n",
    "    {'batch_size': 10000, 'learning_rate': 1e-3, 'hidden_size': 49, 'epochs': 30},\n",
    "    {'batch_size': 15000, 'learning_rate': 1e-2, 'hidden_size': 49, 'epochs': 10},\n",
    "    {'batch_size': 2000, 'learning_rate': 1e-3, 'hidden_size': 49, 'epochs': 10},\n",
    "    {'batch_size': 2000, 'learning_rate': 1e-4, 'hidden_size': 49, 'epochs': 30},\n",
    "    \n",
    "    \n",
    "    {'batch_size': 20000, 'learning_rate': 1e-2, 'hidden_size': 98, 'epochs': 10},\n",
    "    {'batch_size': 10000, 'learning_rate': 1e-3, 'hidden_size': 98, 'epochs': 30},\n",
    "    {'batch_size': 15000, 'learning_rate': 1e-3, 'hidden_size': 98, 'epochs': 30},\n",
    "    {'batch_size': 15000, 'learning_rate': 1e-2, 'hidden_size': 98, 'epochs': 10},\n",
    "    {'batch_size': 10000, 'learning_rate': 1e-3, 'hidden_size': 98, 'epochs': 20},\n",
    "]"
   ]
  },
  {
   "cell_type": "markdown",
   "id": "a19482a0",
   "metadata": {},
   "source": [
    "## Se preparan los datos de prueba"
   ]
  },
  {
   "cell_type": "code",
   "execution_count": 17,
   "id": "13aa9797",
   "metadata": {},
   "outputs": [],
   "source": [
    "X_prueba_normalizado = escalador.transform(X_prueba)\n",
    "X_prueba_tensor = torch.tensor(X_prueba_normalizado, dtype=torch.float32)\n",
    "Y_prueba_tensor = torch.tensor(Y_prueba, dtype=torch.float32)\n",
    "test_dataset = DatasetTFG(X_prueba_tensor, Y_prueba_tensor)"
   ]
  },
  {
   "cell_type": "markdown",
   "id": "ece36861",
   "metadata": {},
   "source": [
    "## Bucle de entrenamiento o épocas"
   ]
  },
  {
   "cell_type": "code",
   "execution_count": null,
   "id": "134de800",
   "metadata": {},
   "outputs": [
    {
     "name": "stderr",
     "output_type": "stream",
     "text": [
      "\u001b[34m\u001b[1mwandb\u001b[0m: Currently logged in as: \u001b[33malv-lop-hugo\u001b[0m (\u001b[33mTFG_Hugo\u001b[0m) to \u001b[32mhttps://api.wandb.ai\u001b[0m. Use \u001b[1m`wandb login --relogin`\u001b[0m to force relogin\n"
     ]
    },
    {
     "data": {
      "text/html": [
       "Tracking run with wandb version 0.19.10"
      ],
      "text/plain": [
       "<IPython.core.display.HTML object>"
      ]
     },
     "metadata": {},
     "output_type": "display_data"
    },
    {
     "data": {
      "text/html": [
       "Run data is saved locally in <code>/home/hugo/TFG/Notebooks/wandb/run-20250604_111519-l5ou8fm4</code>"
      ],
      "text/plain": [
       "<IPython.core.display.HTML object>"
      ]
     },
     "metadata": {},
     "output_type": "display_data"
    },
    {
     "data": {
      "text/html": [
       "Syncing run <strong><a href='https://wandb.ai/TFG_Hugo/TFG_BIN_EVAL/runs/l5ou8fm4' target=\"_blank\">bs(15000)_lr(0.01)_hs(25)_e(10)</a></strong> to <a href='https://wandb.ai/TFG_Hugo/TFG_BIN_EVAL' target=\"_blank\">Weights & Biases</a> (<a href='https://wandb.me/developer-guide' target=\"_blank\">docs</a>)<br>"
      ],
      "text/plain": [
       "<IPython.core.display.HTML object>"
      ]
     },
     "metadata": {},
     "output_type": "display_data"
    },
    {
     "data": {
      "text/html": [
       " View project at <a href='https://wandb.ai/TFG_Hugo/TFG_BIN_EVAL' target=\"_blank\">https://wandb.ai/TFG_Hugo/TFG_BIN_EVAL</a>"
      ],
      "text/plain": [
       "<IPython.core.display.HTML object>"
      ]
     },
     "metadata": {},
     "output_type": "display_data"
    },
    {
     "data": {
      "text/html": [
       " View run at <a href='https://wandb.ai/TFG_Hugo/TFG_BIN_EVAL/runs/l5ou8fm4' target=\"_blank\">https://wandb.ai/TFG_Hugo/TFG_BIN_EVAL/runs/l5ou8fm4</a>"
      ],
      "text/plain": [
       "<IPython.core.display.HTML object>"
      ]
     },
     "metadata": {},
     "output_type": "display_data"
    },
    {
     "name": "stdout",
     "output_type": "stream",
     "text": [
      "\n",
      "Entrenando con: bs=15000, lr=0.01, hs=25, e=10\n",
      "Evaluación de bs=15000, lr=0.01 finalizada\n"
     ]
    },
    {
     "data": {
      "text/html": [
       "Finishing previous runs because reinit is set to 'default'."
      ],
      "text/plain": [
       "<IPython.core.display.HTML object>"
      ]
     },
     "metadata": {},
     "output_type": "display_data"
    },
    {
     "data": {
      "text/html": [],
      "text/plain": [
       "<IPython.core.display.HTML object>"
      ]
     },
     "metadata": {},
     "output_type": "display_data"
    },
    {
     "data": {
      "text/html": [
       "<br>    <style><br>        .wandb-row {<br>            display: flex;<br>            flex-direction: row;<br>            flex-wrap: wrap;<br>            justify-content: flex-start;<br>            width: 100%;<br>        }<br>        .wandb-col {<br>            display: flex;<br>            flex-direction: column;<br>            flex-basis: 100%;<br>            flex: 1;<br>            padding: 10px;<br>        }<br>    </style><br><div class=\"wandb-row\"><div class=\"wandb-col\"><h3>Run history:</h3><br/><table class=\"wandb\"><tr><td>epoch</td><td>▁▂▃▃▄▅▆▆▇█</td></tr><tr><td>test_accuracy</td><td>▁</td></tr><tr><td>test_f1</td><td>▁</td></tr><tr><td>test_f2</td><td>▁</td></tr><tr><td>test_false_negatives</td><td>▁</td></tr><tr><td>test_false_positives</td><td>▁</td></tr><tr><td>test_loss</td><td>▁</td></tr><tr><td>test_precision</td><td>▁</td></tr><tr><td>test_recall</td><td>▁</td></tr><tr><td>test_roc_auc</td><td>▁</td></tr><tr><td>test_specificity</td><td>▁</td></tr><tr><td>test_true_negatives</td><td>▁</td></tr><tr><td>test_true_positives</td><td>▁</td></tr><tr><td>train_loss</td><td>█▂▁▁▁▁▁▁▁▁</td></tr></table><br/></div><div class=\"wandb-col\"><h3>Run summary:</h3><br/><table class=\"wandb\"><tr><td>epoch</td><td>9</td></tr><tr><td>test_accuracy</td><td>0.99982</td></tr><tr><td>test_f1</td><td>0.99785</td></tr><tr><td>test_f2</td><td>0.99829</td></tr><tr><td>test_false_negatives</td><td>26</td></tr><tr><td>test_false_positives</td><td>53</td></tr><tr><td>test_loss</td><td>0.00407</td></tr><tr><td>test_precision</td><td>0.99712</td></tr><tr><td>test_recall</td><td>0.99859</td></tr><tr><td>test_roc_auc</td><td>0.99984</td></tr><tr><td>test_specificity</td><td>0.99988</td></tr><tr><td>test_true_negatives</td><td>430153</td></tr><tr><td>test_true_positives</td><td>18355</td></tr><tr><td>train_loss</td><td>0.00388</td></tr></table><br/></div></div>"
      ],
      "text/plain": [
       "<IPython.core.display.HTML object>"
      ]
     },
     "metadata": {},
     "output_type": "display_data"
    },
    {
     "data": {
      "text/html": [
       " View run <strong style=\"color:#cdcd00\">bs(15000)_lr(0.01)_hs(25)_e(10)</strong> at: <a href='https://wandb.ai/TFG_Hugo/TFG_BIN_EVAL/runs/l5ou8fm4' target=\"_blank\">https://wandb.ai/TFG_Hugo/TFG_BIN_EVAL/runs/l5ou8fm4</a><br> View project at: <a href='https://wandb.ai/TFG_Hugo/TFG_BIN_EVAL' target=\"_blank\">https://wandb.ai/TFG_Hugo/TFG_BIN_EVAL</a><br>Synced 5 W&B file(s), 0 media file(s), 0 artifact file(s) and 1 other file(s)"
      ],
      "text/plain": [
       "<IPython.core.display.HTML object>"
      ]
     },
     "metadata": {},
     "output_type": "display_data"
    },
    {
     "data": {
      "text/html": [
       "Find logs at: <code>./wandb/run-20250604_111519-l5ou8fm4/logs</code>"
      ],
      "text/plain": [
       "<IPython.core.display.HTML object>"
      ]
     },
     "metadata": {},
     "output_type": "display_data"
    },
    {
     "data": {
      "text/html": [
       "Tracking run with wandb version 0.19.10"
      ],
      "text/plain": [
       "<IPython.core.display.HTML object>"
      ]
     },
     "metadata": {},
     "output_type": "display_data"
    },
    {
     "data": {
      "text/html": [
       "Run data is saved locally in <code>/home/hugo/TFG/Notebooks/wandb/run-20250604_111809-3mgtpg2z</code>"
      ],
      "text/plain": [
       "<IPython.core.display.HTML object>"
      ]
     },
     "metadata": {},
     "output_type": "display_data"
    },
    {
     "data": {
      "text/html": [
       "Syncing run <strong><a href='https://wandb.ai/TFG_Hugo/TFG_BIN_EVAL/runs/3mgtpg2z' target=\"_blank\">bs(10000)_lr(0.001)_hs(25)_e(30)</a></strong> to <a href='https://wandb.ai/TFG_Hugo/TFG_BIN_EVAL' target=\"_blank\">Weights & Biases</a> (<a href='https://wandb.me/developer-guide' target=\"_blank\">docs</a>)<br>"
      ],
      "text/plain": [
       "<IPython.core.display.HTML object>"
      ]
     },
     "metadata": {},
     "output_type": "display_data"
    },
    {
     "data": {
      "text/html": [
       " View project at <a href='https://wandb.ai/TFG_Hugo/TFG_BIN_EVAL' target=\"_blank\">https://wandb.ai/TFG_Hugo/TFG_BIN_EVAL</a>"
      ],
      "text/plain": [
       "<IPython.core.display.HTML object>"
      ]
     },
     "metadata": {},
     "output_type": "display_data"
    },
    {
     "data": {
      "text/html": [
       " View run at <a href='https://wandb.ai/TFG_Hugo/TFG_BIN_EVAL/runs/3mgtpg2z' target=\"_blank\">https://wandb.ai/TFG_Hugo/TFG_BIN_EVAL/runs/3mgtpg2z</a>"
      ],
      "text/plain": [
       "<IPython.core.display.HTML object>"
      ]
     },
     "metadata": {},
     "output_type": "display_data"
    },
    {
     "name": "stdout",
     "output_type": "stream",
     "text": [
      "\n",
      "Entrenando con: bs=10000, lr=0.001, hs=25, e=30\n",
      "Evaluación de bs=10000, lr=0.001 finalizada\n"
     ]
    },
    {
     "data": {
      "text/html": [
       "Finishing previous runs because reinit is set to 'default'."
      ],
      "text/plain": [
       "<IPython.core.display.HTML object>"
      ]
     },
     "metadata": {},
     "output_type": "display_data"
    },
    {
     "data": {
      "text/html": [],
      "text/plain": [
       "<IPython.core.display.HTML object>"
      ]
     },
     "metadata": {},
     "output_type": "display_data"
    },
    {
     "data": {
      "text/html": [
       "<br>    <style><br>        .wandb-row {<br>            display: flex;<br>            flex-direction: row;<br>            flex-wrap: wrap;<br>            justify-content: flex-start;<br>            width: 100%;<br>        }<br>        .wandb-col {<br>            display: flex;<br>            flex-direction: column;<br>            flex-basis: 100%;<br>            flex: 1;<br>            padding: 10px;<br>        }<br>    </style><br><div class=\"wandb-row\"><div class=\"wandb-col\"><h3>Run history:</h3><br/><table class=\"wandb\"><tr><td>epoch</td><td>▁▁▁▂▂▂▂▃▃▃▃▄▄▄▄▅▅▅▅▆▆▆▆▇▇▇▇███</td></tr><tr><td>test_accuracy</td><td>▁</td></tr><tr><td>test_f1</td><td>▁</td></tr><tr><td>test_f2</td><td>▁</td></tr><tr><td>test_false_negatives</td><td>▁</td></tr><tr><td>test_false_positives</td><td>▁</td></tr><tr><td>test_loss</td><td>▁</td></tr><tr><td>test_precision</td><td>▁</td></tr><tr><td>test_recall</td><td>▁</td></tr><tr><td>test_roc_auc</td><td>▁</td></tr><tr><td>test_specificity</td><td>▁</td></tr><tr><td>test_true_negatives</td><td>▁</td></tr><tr><td>test_true_positives</td><td>▁</td></tr><tr><td>train_loss</td><td>█▄▃▂▂▂▂▁▁▁▁▁▁▁▁▁▁▁▁▁▁▁▁▁▁▁▁▁▁▁</td></tr></table><br/></div><div class=\"wandb-col\"><h3>Run summary:</h3><br/><table class=\"wandb\"><tr><td>epoch</td><td>29</td></tr><tr><td>test_accuracy</td><td>0.99981</td></tr><tr><td>test_f1</td><td>0.99772</td></tr><tr><td>test_f2</td><td>0.99827</td></tr><tr><td>test_false_negatives</td><td>25</td></tr><tr><td>test_false_positives</td><td>59</td></tr><tr><td>test_loss</td><td>0.0043</td></tr><tr><td>test_precision</td><td>0.9968</td></tr><tr><td>test_recall</td><td>0.99864</td></tr><tr><td>test_roc_auc</td><td>0.99977</td></tr><tr><td>test_specificity</td><td>0.99986</td></tr><tr><td>test_true_negatives</td><td>430147</td></tr><tr><td>test_true_positives</td><td>18356</td></tr><tr><td>train_loss</td><td>0.00402</td></tr></table><br/></div></div>"
      ],
      "text/plain": [
       "<IPython.core.display.HTML object>"
      ]
     },
     "metadata": {},
     "output_type": "display_data"
    },
    {
     "data": {
      "text/html": [
       " View run <strong style=\"color:#cdcd00\">bs(10000)_lr(0.001)_hs(25)_e(30)</strong> at: <a href='https://wandb.ai/TFG_Hugo/TFG_BIN_EVAL/runs/3mgtpg2z' target=\"_blank\">https://wandb.ai/TFG_Hugo/TFG_BIN_EVAL/runs/3mgtpg2z</a><br> View project at: <a href='https://wandb.ai/TFG_Hugo/TFG_BIN_EVAL' target=\"_blank\">https://wandb.ai/TFG_Hugo/TFG_BIN_EVAL</a><br>Synced 5 W&B file(s), 0 media file(s), 0 artifact file(s) and 1 other file(s)"
      ],
      "text/plain": [
       "<IPython.core.display.HTML object>"
      ]
     },
     "metadata": {},
     "output_type": "display_data"
    },
    {
     "data": {
      "text/html": [
       "Find logs at: <code>./wandb/run-20250604_111809-3mgtpg2z/logs</code>"
      ],
      "text/plain": [
       "<IPython.core.display.HTML object>"
      ]
     },
     "metadata": {},
     "output_type": "display_data"
    },
    {
     "data": {
      "text/html": [
       "Tracking run with wandb version 0.19.10"
      ],
      "text/plain": [
       "<IPython.core.display.HTML object>"
      ]
     },
     "metadata": {},
     "output_type": "display_data"
    },
    {
     "data": {
      "text/html": [
       "Run data is saved locally in <code>/home/hugo/TFG/Notebooks/wandb/run-20250604_112825-jfykvkzs</code>"
      ],
      "text/plain": [
       "<IPython.core.display.HTML object>"
      ]
     },
     "metadata": {},
     "output_type": "display_data"
    },
    {
     "data": {
      "text/html": [
       "Syncing run <strong><a href='https://wandb.ai/TFG_Hugo/TFG_BIN_EVAL/runs/jfykvkzs' target=\"_blank\">bs(20000)_lr(0.01)_hs(25)_e(10)</a></strong> to <a href='https://wandb.ai/TFG_Hugo/TFG_BIN_EVAL' target=\"_blank\">Weights & Biases</a> (<a href='https://wandb.me/developer-guide' target=\"_blank\">docs</a>)<br>"
      ],
      "text/plain": [
       "<IPython.core.display.HTML object>"
      ]
     },
     "metadata": {},
     "output_type": "display_data"
    },
    {
     "data": {
      "text/html": [
       " View project at <a href='https://wandb.ai/TFG_Hugo/TFG_BIN_EVAL' target=\"_blank\">https://wandb.ai/TFG_Hugo/TFG_BIN_EVAL</a>"
      ],
      "text/plain": [
       "<IPython.core.display.HTML object>"
      ]
     },
     "metadata": {},
     "output_type": "display_data"
    },
    {
     "data": {
      "text/html": [
       " View run at <a href='https://wandb.ai/TFG_Hugo/TFG_BIN_EVAL/runs/jfykvkzs' target=\"_blank\">https://wandb.ai/TFG_Hugo/TFG_BIN_EVAL/runs/jfykvkzs</a>"
      ],
      "text/plain": [
       "<IPython.core.display.HTML object>"
      ]
     },
     "metadata": {},
     "output_type": "display_data"
    },
    {
     "name": "stdout",
     "output_type": "stream",
     "text": [
      "\n",
      "Entrenando con: bs=20000, lr=0.01, hs=25, e=10\n",
      "Evaluación de bs=20000, lr=0.01 finalizada\n"
     ]
    },
    {
     "data": {
      "text/html": [
       "Finishing previous runs because reinit is set to 'default'."
      ],
      "text/plain": [
       "<IPython.core.display.HTML object>"
      ]
     },
     "metadata": {},
     "output_type": "display_data"
    },
    {
     "data": {
      "text/html": [],
      "text/plain": [
       "<IPython.core.display.HTML object>"
      ]
     },
     "metadata": {},
     "output_type": "display_data"
    },
    {
     "data": {
      "text/html": [
       "<br>    <style><br>        .wandb-row {<br>            display: flex;<br>            flex-direction: row;<br>            flex-wrap: wrap;<br>            justify-content: flex-start;<br>            width: 100%;<br>        }<br>        .wandb-col {<br>            display: flex;<br>            flex-direction: column;<br>            flex-basis: 100%;<br>            flex: 1;<br>            padding: 10px;<br>        }<br>    </style><br><div class=\"wandb-row\"><div class=\"wandb-col\"><h3>Run history:</h3><br/><table class=\"wandb\"><tr><td>epoch</td><td>▁▂▃▃▄▅▆▆▇█</td></tr><tr><td>test_accuracy</td><td>▁</td></tr><tr><td>test_f1</td><td>▁</td></tr><tr><td>test_f2</td><td>▁</td></tr><tr><td>test_false_negatives</td><td>▁</td></tr><tr><td>test_false_positives</td><td>▁</td></tr><tr><td>test_loss</td><td>▁</td></tr><tr><td>test_precision</td><td>▁</td></tr><tr><td>test_recall</td><td>▁</td></tr><tr><td>test_roc_auc</td><td>▁</td></tr><tr><td>test_specificity</td><td>▁</td></tr><tr><td>test_true_negatives</td><td>▁</td></tr><tr><td>test_true_positives</td><td>▁</td></tr><tr><td>train_loss</td><td>█▃▂▁▁▁▁▁▁▁</td></tr></table><br/></div><div class=\"wandb-col\"><h3>Run summary:</h3><br/><table class=\"wandb\"><tr><td>epoch</td><td>9</td></tr><tr><td>test_accuracy</td><td>0.99983</td></tr><tr><td>test_f1</td><td>0.99793</td></tr><tr><td>test_f2</td><td>0.99842</td></tr><tr><td>test_false_negatives</td><td>23</td></tr><tr><td>test_false_positives</td><td>53</td></tr><tr><td>test_loss</td><td>0.00444</td></tr><tr><td>test_precision</td><td>0.99712</td></tr><tr><td>test_recall</td><td>0.99875</td></tr><tr><td>test_roc_auc</td><td>0.99977</td></tr><tr><td>test_specificity</td><td>0.99988</td></tr><tr><td>test_true_negatives</td><td>430153</td></tr><tr><td>test_true_positives</td><td>18358</td></tr><tr><td>train_loss</td><td>0.00413</td></tr></table><br/></div></div>"
      ],
      "text/plain": [
       "<IPython.core.display.HTML object>"
      ]
     },
     "metadata": {},
     "output_type": "display_data"
    },
    {
     "data": {
      "text/html": [
       " View run <strong style=\"color:#cdcd00\">bs(20000)_lr(0.01)_hs(25)_e(10)</strong> at: <a href='https://wandb.ai/TFG_Hugo/TFG_BIN_EVAL/runs/jfykvkzs' target=\"_blank\">https://wandb.ai/TFG_Hugo/TFG_BIN_EVAL/runs/jfykvkzs</a><br> View project at: <a href='https://wandb.ai/TFG_Hugo/TFG_BIN_EVAL' target=\"_blank\">https://wandb.ai/TFG_Hugo/TFG_BIN_EVAL</a><br>Synced 5 W&B file(s), 0 media file(s), 0 artifact file(s) and 1 other file(s)"
      ],
      "text/plain": [
       "<IPython.core.display.HTML object>"
      ]
     },
     "metadata": {},
     "output_type": "display_data"
    },
    {
     "data": {
      "text/html": [
       "Find logs at: <code>./wandb/run-20250604_112825-jfykvkzs/logs</code>"
      ],
      "text/plain": [
       "<IPython.core.display.HTML object>"
      ]
     },
     "metadata": {},
     "output_type": "display_data"
    },
    {
     "data": {
      "text/html": [
       "Tracking run with wandb version 0.19.10"
      ],
      "text/plain": [
       "<IPython.core.display.HTML object>"
      ]
     },
     "metadata": {},
     "output_type": "display_data"
    },
    {
     "data": {
      "text/html": [
       "Run data is saved locally in <code>/home/hugo/TFG/Notebooks/wandb/run-20250604_113122-o96tomd6</code>"
      ],
      "text/plain": [
       "<IPython.core.display.HTML object>"
      ]
     },
     "metadata": {},
     "output_type": "display_data"
    },
    {
     "data": {
      "text/html": [
       "Syncing run <strong><a href='https://wandb.ai/TFG_Hugo/TFG_BIN_EVAL/runs/o96tomd6' target=\"_blank\">bs(20000)_lr(0.01)_hs(25)_e(20)</a></strong> to <a href='https://wandb.ai/TFG_Hugo/TFG_BIN_EVAL' target=\"_blank\">Weights & Biases</a> (<a href='https://wandb.me/developer-guide' target=\"_blank\">docs</a>)<br>"
      ],
      "text/plain": [
       "<IPython.core.display.HTML object>"
      ]
     },
     "metadata": {},
     "output_type": "display_data"
    },
    {
     "data": {
      "text/html": [
       " View project at <a href='https://wandb.ai/TFG_Hugo/TFG_BIN_EVAL' target=\"_blank\">https://wandb.ai/TFG_Hugo/TFG_BIN_EVAL</a>"
      ],
      "text/plain": [
       "<IPython.core.display.HTML object>"
      ]
     },
     "metadata": {},
     "output_type": "display_data"
    },
    {
     "data": {
      "text/html": [
       " View run at <a href='https://wandb.ai/TFG_Hugo/TFG_BIN_EVAL/runs/o96tomd6' target=\"_blank\">https://wandb.ai/TFG_Hugo/TFG_BIN_EVAL/runs/o96tomd6</a>"
      ],
      "text/plain": [
       "<IPython.core.display.HTML object>"
      ]
     },
     "metadata": {},
     "output_type": "display_data"
    },
    {
     "name": "stdout",
     "output_type": "stream",
     "text": [
      "\n",
      "Entrenando con: bs=20000, lr=0.01, hs=25, e=20\n",
      "Evaluación de bs=20000, lr=0.01 finalizada\n"
     ]
    },
    {
     "data": {
      "text/html": [
       "Finishing previous runs because reinit is set to 'default'."
      ],
      "text/plain": [
       "<IPython.core.display.HTML object>"
      ]
     },
     "metadata": {},
     "output_type": "display_data"
    },
    {
     "data": {
      "text/html": [],
      "text/plain": [
       "<IPython.core.display.HTML object>"
      ]
     },
     "metadata": {},
     "output_type": "display_data"
    },
    {
     "data": {
      "text/html": [
       "<br>    <style><br>        .wandb-row {<br>            display: flex;<br>            flex-direction: row;<br>            flex-wrap: wrap;<br>            justify-content: flex-start;<br>            width: 100%;<br>        }<br>        .wandb-col {<br>            display: flex;<br>            flex-direction: column;<br>            flex-basis: 100%;<br>            flex: 1;<br>            padding: 10px;<br>        }<br>    </style><br><div class=\"wandb-row\"><div class=\"wandb-col\"><h3>Run history:</h3><br/><table class=\"wandb\"><tr><td>epoch</td><td>▁▁▂▂▂▃▃▄▄▄▅▅▅▆▆▇▇▇██</td></tr><tr><td>test_accuracy</td><td>▁</td></tr><tr><td>test_f1</td><td>▁</td></tr><tr><td>test_f2</td><td>▁</td></tr><tr><td>test_false_negatives</td><td>▁</td></tr><tr><td>test_false_positives</td><td>▁</td></tr><tr><td>test_loss</td><td>▁</td></tr><tr><td>test_precision</td><td>▁</td></tr><tr><td>test_recall</td><td>▁</td></tr><tr><td>test_roc_auc</td><td>▁</td></tr><tr><td>test_specificity</td><td>▁</td></tr><tr><td>test_true_negatives</td><td>▁</td></tr><tr><td>test_true_positives</td><td>▁</td></tr><tr><td>train_loss</td><td>█▂▁▁▁▁▁▁▁▁▁▁▁▁▁▁▁▁▁▁</td></tr></table><br/></div><div class=\"wandb-col\"><h3>Run summary:</h3><br/><table class=\"wandb\"><tr><td>epoch</td><td>19</td></tr><tr><td>test_accuracy</td><td>0.99983</td></tr><tr><td>test_f1</td><td>0.99788</td></tr><tr><td>test_f2</td><td>0.99817</td></tr><tr><td>test_false_negatives</td><td>30</td></tr><tr><td>test_false_positives</td><td>48</td></tr><tr><td>test_loss</td><td>0.00394</td></tr><tr><td>test_precision</td><td>0.99739</td></tr><tr><td>test_recall</td><td>0.99837</td></tr><tr><td>test_roc_auc</td><td>0.9999</td></tr><tr><td>test_specificity</td><td>0.99989</td></tr><tr><td>test_true_negatives</td><td>430158</td></tr><tr><td>test_true_positives</td><td>18351</td></tr><tr><td>train_loss</td><td>0.00372</td></tr></table><br/></div></div>"
      ],
      "text/plain": [
       "<IPython.core.display.HTML object>"
      ]
     },
     "metadata": {},
     "output_type": "display_data"
    },
    {
     "data": {
      "text/html": [
       " View run <strong style=\"color:#cdcd00\">bs(20000)_lr(0.01)_hs(25)_e(20)</strong> at: <a href='https://wandb.ai/TFG_Hugo/TFG_BIN_EVAL/runs/o96tomd6' target=\"_blank\">https://wandb.ai/TFG_Hugo/TFG_BIN_EVAL/runs/o96tomd6</a><br> View project at: <a href='https://wandb.ai/TFG_Hugo/TFG_BIN_EVAL' target=\"_blank\">https://wandb.ai/TFG_Hugo/TFG_BIN_EVAL</a><br>Synced 5 W&B file(s), 0 media file(s), 0 artifact file(s) and 1 other file(s)"
      ],
      "text/plain": [
       "<IPython.core.display.HTML object>"
      ]
     },
     "metadata": {},
     "output_type": "display_data"
    },
    {
     "data": {
      "text/html": [
       "Find logs at: <code>./wandb/run-20250604_113122-o96tomd6/logs</code>"
      ],
      "text/plain": [
       "<IPython.core.display.HTML object>"
      ]
     },
     "metadata": {},
     "output_type": "display_data"
    },
    {
     "data": {
      "text/html": [
       "Tracking run with wandb version 0.19.10"
      ],
      "text/plain": [
       "<IPython.core.display.HTML object>"
      ]
     },
     "metadata": {},
     "output_type": "display_data"
    },
    {
     "data": {
      "text/html": [
       "Run data is saved locally in <code>/home/hugo/TFG/Notebooks/wandb/run-20250604_113710-45wrwpre</code>"
      ],
      "text/plain": [
       "<IPython.core.display.HTML object>"
      ]
     },
     "metadata": {},
     "output_type": "display_data"
    },
    {
     "data": {
      "text/html": [
       "Syncing run <strong><a href='https://wandb.ai/TFG_Hugo/TFG_BIN_EVAL/runs/45wrwpre' target=\"_blank\">bs(2000)_lr(0.001)_hs(25)_e(10)</a></strong> to <a href='https://wandb.ai/TFG_Hugo/TFG_BIN_EVAL' target=\"_blank\">Weights & Biases</a> (<a href='https://wandb.me/developer-guide' target=\"_blank\">docs</a>)<br>"
      ],
      "text/plain": [
       "<IPython.core.display.HTML object>"
      ]
     },
     "metadata": {},
     "output_type": "display_data"
    },
    {
     "data": {
      "text/html": [
       " View project at <a href='https://wandb.ai/TFG_Hugo/TFG_BIN_EVAL' target=\"_blank\">https://wandb.ai/TFG_Hugo/TFG_BIN_EVAL</a>"
      ],
      "text/plain": [
       "<IPython.core.display.HTML object>"
      ]
     },
     "metadata": {},
     "output_type": "display_data"
    },
    {
     "data": {
      "text/html": [
       " View run at <a href='https://wandb.ai/TFG_Hugo/TFG_BIN_EVAL/runs/45wrwpre' target=\"_blank\">https://wandb.ai/TFG_Hugo/TFG_BIN_EVAL/runs/45wrwpre</a>"
      ],
      "text/plain": [
       "<IPython.core.display.HTML object>"
      ]
     },
     "metadata": {},
     "output_type": "display_data"
    },
    {
     "name": "stdout",
     "output_type": "stream",
     "text": [
      "\n",
      "Entrenando con: bs=2000, lr=0.001, hs=25, e=10\n",
      "Evaluación de bs=2000, lr=0.001 finalizada\n"
     ]
    },
    {
     "data": {
      "text/html": [
       "Finishing previous runs because reinit is set to 'default'."
      ],
      "text/plain": [
       "<IPython.core.display.HTML object>"
      ]
     },
     "metadata": {},
     "output_type": "display_data"
    },
    {
     "data": {
      "text/html": [],
      "text/plain": [
       "<IPython.core.display.HTML object>"
      ]
     },
     "metadata": {},
     "output_type": "display_data"
    },
    {
     "data": {
      "text/html": [
       "<br>    <style><br>        .wandb-row {<br>            display: flex;<br>            flex-direction: row;<br>            flex-wrap: wrap;<br>            justify-content: flex-start;<br>            width: 100%;<br>        }<br>        .wandb-col {<br>            display: flex;<br>            flex-direction: column;<br>            flex-basis: 100%;<br>            flex: 1;<br>            padding: 10px;<br>        }<br>    </style><br><div class=\"wandb-row\"><div class=\"wandb-col\"><h3>Run history:</h3><br/><table class=\"wandb\"><tr><td>epoch</td><td>▁▂▃▃▄▅▆▆▇█</td></tr><tr><td>test_accuracy</td><td>▁</td></tr><tr><td>test_f1</td><td>▁</td></tr><tr><td>test_f2</td><td>▁</td></tr><tr><td>test_false_negatives</td><td>▁</td></tr><tr><td>test_false_positives</td><td>▁</td></tr><tr><td>test_loss</td><td>▁</td></tr><tr><td>test_precision</td><td>▁</td></tr><tr><td>test_recall</td><td>▁</td></tr><tr><td>test_roc_auc</td><td>▁</td></tr><tr><td>test_specificity</td><td>▁</td></tr><tr><td>test_true_negatives</td><td>▁</td></tr><tr><td>test_true_positives</td><td>▁</td></tr><tr><td>train_loss</td><td>█▂▁▁▁▁▁▁▁▁</td></tr></table><br/></div><div class=\"wandb-col\"><h3>Run summary:</h3><br/><table class=\"wandb\"><tr><td>epoch</td><td>9</td></tr><tr><td>test_accuracy</td><td>0.99983</td></tr><tr><td>test_f1</td><td>0.99788</td></tr><tr><td>test_f2</td><td>0.99821</td></tr><tr><td>test_false_negatives</td><td>29</td></tr><tr><td>test_false_positives</td><td>49</td></tr><tr><td>test_loss</td><td>0.0041</td></tr><tr><td>test_precision</td><td>0.99734</td></tr><tr><td>test_recall</td><td>0.99842</td></tr><tr><td>test_roc_auc</td><td>0.99982</td></tr><tr><td>test_specificity</td><td>0.99989</td></tr><tr><td>test_true_negatives</td><td>430157</td></tr><tr><td>test_true_positives</td><td>18352</td></tr><tr><td>train_loss</td><td>0.00391</td></tr></table><br/></div></div>"
      ],
      "text/plain": [
       "<IPython.core.display.HTML object>"
      ]
     },
     "metadata": {},
     "output_type": "display_data"
    },
    {
     "data": {
      "text/html": [
       " View run <strong style=\"color:#cdcd00\">bs(2000)_lr(0.001)_hs(25)_e(10)</strong> at: <a href='https://wandb.ai/TFG_Hugo/TFG_BIN_EVAL/runs/45wrwpre' target=\"_blank\">https://wandb.ai/TFG_Hugo/TFG_BIN_EVAL/runs/45wrwpre</a><br> View project at: <a href='https://wandb.ai/TFG_Hugo/TFG_BIN_EVAL' target=\"_blank\">https://wandb.ai/TFG_Hugo/TFG_BIN_EVAL</a><br>Synced 5 W&B file(s), 0 media file(s), 0 artifact file(s) and 1 other file(s)"
      ],
      "text/plain": [
       "<IPython.core.display.HTML object>"
      ]
     },
     "metadata": {},
     "output_type": "display_data"
    },
    {
     "data": {
      "text/html": [
       "Find logs at: <code>./wandb/run-20250604_113710-45wrwpre/logs</code>"
      ],
      "text/plain": [
       "<IPython.core.display.HTML object>"
      ]
     },
     "metadata": {},
     "output_type": "display_data"
    },
    {
     "data": {
      "text/html": [
       "Tracking run with wandb version 0.19.10"
      ],
      "text/plain": [
       "<IPython.core.display.HTML object>"
      ]
     },
     "metadata": {},
     "output_type": "display_data"
    },
    {
     "data": {
      "text/html": [
       "Run data is saved locally in <code>/home/hugo/TFG/Notebooks/wandb/run-20250604_113906-yeco0m3u</code>"
      ],
      "text/plain": [
       "<IPython.core.display.HTML object>"
      ]
     },
     "metadata": {},
     "output_type": "display_data"
    },
    {
     "data": {
      "text/html": [
       "Syncing run <strong><a href='https://wandb.ai/TFG_Hugo/TFG_BIN_EVAL/runs/yeco0m3u' target=\"_blank\">bs(20000)_lr(0.01)_hs(49)_e(10)</a></strong> to <a href='https://wandb.ai/TFG_Hugo/TFG_BIN_EVAL' target=\"_blank\">Weights & Biases</a> (<a href='https://wandb.me/developer-guide' target=\"_blank\">docs</a>)<br>"
      ],
      "text/plain": [
       "<IPython.core.display.HTML object>"
      ]
     },
     "metadata": {},
     "output_type": "display_data"
    },
    {
     "data": {
      "text/html": [
       " View project at <a href='https://wandb.ai/TFG_Hugo/TFG_BIN_EVAL' target=\"_blank\">https://wandb.ai/TFG_Hugo/TFG_BIN_EVAL</a>"
      ],
      "text/plain": [
       "<IPython.core.display.HTML object>"
      ]
     },
     "metadata": {},
     "output_type": "display_data"
    },
    {
     "data": {
      "text/html": [
       " View run at <a href='https://wandb.ai/TFG_Hugo/TFG_BIN_EVAL/runs/yeco0m3u' target=\"_blank\">https://wandb.ai/TFG_Hugo/TFG_BIN_EVAL/runs/yeco0m3u</a>"
      ],
      "text/plain": [
       "<IPython.core.display.HTML object>"
      ]
     },
     "metadata": {},
     "output_type": "display_data"
    },
    {
     "name": "stdout",
     "output_type": "stream",
     "text": [
      "\n",
      "Entrenando con: bs=20000, lr=0.01, hs=49, e=10\n",
      "Evaluación de bs=20000, lr=0.01 finalizada\n"
     ]
    },
    {
     "data": {
      "text/html": [
       "Finishing previous runs because reinit is set to 'default'."
      ],
      "text/plain": [
       "<IPython.core.display.HTML object>"
      ]
     },
     "metadata": {},
     "output_type": "display_data"
    },
    {
     "data": {
      "text/html": [],
      "text/plain": [
       "<IPython.core.display.HTML object>"
      ]
     },
     "metadata": {},
     "output_type": "display_data"
    },
    {
     "data": {
      "text/html": [
       "<br>    <style><br>        .wandb-row {<br>            display: flex;<br>            flex-direction: row;<br>            flex-wrap: wrap;<br>            justify-content: flex-start;<br>            width: 100%;<br>        }<br>        .wandb-col {<br>            display: flex;<br>            flex-direction: column;<br>            flex-basis: 100%;<br>            flex: 1;<br>            padding: 10px;<br>        }<br>    </style><br><div class=\"wandb-row\"><div class=\"wandb-col\"><h3>Run history:</h3><br/><table class=\"wandb\"><tr><td>epoch</td><td>▁▂▃▃▄▅▆▆▇█</td></tr><tr><td>test_accuracy</td><td>▁</td></tr><tr><td>test_f1</td><td>▁</td></tr><tr><td>test_f2</td><td>▁</td></tr><tr><td>test_false_negatives</td><td>▁</td></tr><tr><td>test_false_positives</td><td>▁</td></tr><tr><td>test_loss</td><td>▁</td></tr><tr><td>test_precision</td><td>▁</td></tr><tr><td>test_recall</td><td>▁</td></tr><tr><td>test_roc_auc</td><td>▁</td></tr><tr><td>test_specificity</td><td>▁</td></tr><tr><td>test_true_negatives</td><td>▁</td></tr><tr><td>test_true_positives</td><td>▁</td></tr><tr><td>train_loss</td><td>█▂▁▁▁▁▁▁▁▁</td></tr></table><br/></div><div class=\"wandb-col\"><h3>Run summary:</h3><br/><table class=\"wandb\"><tr><td>epoch</td><td>9</td></tr><tr><td>test_accuracy</td><td>0.99984</td></tr><tr><td>test_f1</td><td>0.99799</td></tr><tr><td>test_f2</td><td>0.99838</td></tr><tr><td>test_false_negatives</td><td>25</td></tr><tr><td>test_false_positives</td><td>49</td></tr><tr><td>test_loss</td><td>0.0042</td></tr><tr><td>test_precision</td><td>0.99734</td></tr><tr><td>test_recall</td><td>0.99864</td></tr><tr><td>test_roc_auc</td><td>0.99984</td></tr><tr><td>test_specificity</td><td>0.99989</td></tr><tr><td>test_true_negatives</td><td>430157</td></tr><tr><td>test_true_positives</td><td>18356</td></tr><tr><td>train_loss</td><td>0.00391</td></tr></table><br/></div></div>"
      ],
      "text/plain": [
       "<IPython.core.display.HTML object>"
      ]
     },
     "metadata": {},
     "output_type": "display_data"
    },
    {
     "data": {
      "text/html": [
       " View run <strong style=\"color:#cdcd00\">bs(20000)_lr(0.01)_hs(49)_e(10)</strong> at: <a href='https://wandb.ai/TFG_Hugo/TFG_BIN_EVAL/runs/yeco0m3u' target=\"_blank\">https://wandb.ai/TFG_Hugo/TFG_BIN_EVAL/runs/yeco0m3u</a><br> View project at: <a href='https://wandb.ai/TFG_Hugo/TFG_BIN_EVAL' target=\"_blank\">https://wandb.ai/TFG_Hugo/TFG_BIN_EVAL</a><br>Synced 5 W&B file(s), 0 media file(s), 0 artifact file(s) and 1 other file(s)"
      ],
      "text/plain": [
       "<IPython.core.display.HTML object>"
      ]
     },
     "metadata": {},
     "output_type": "display_data"
    },
    {
     "data": {
      "text/html": [
       "Find logs at: <code>./wandb/run-20250604_113906-yeco0m3u/logs</code>"
      ],
      "text/plain": [
       "<IPython.core.display.HTML object>"
      ]
     },
     "metadata": {},
     "output_type": "display_data"
    },
    {
     "data": {
      "text/html": [
       "Tracking run with wandb version 0.19.10"
      ],
      "text/plain": [
       "<IPython.core.display.HTML object>"
      ]
     },
     "metadata": {},
     "output_type": "display_data"
    },
    {
     "data": {
      "text/html": [
       "Run data is saved locally in <code>/home/hugo/TFG/Notebooks/wandb/run-20250604_114206-az9b2yhp</code>"
      ],
      "text/plain": [
       "<IPython.core.display.HTML object>"
      ]
     },
     "metadata": {},
     "output_type": "display_data"
    },
    {
     "data": {
      "text/html": [
       "Syncing run <strong><a href='https://wandb.ai/TFG_Hugo/TFG_BIN_EVAL/runs/az9b2yhp' target=\"_blank\">bs(10000)_lr(0.001)_hs(49)_e(30)</a></strong> to <a href='https://wandb.ai/TFG_Hugo/TFG_BIN_EVAL' target=\"_blank\">Weights & Biases</a> (<a href='https://wandb.me/developer-guide' target=\"_blank\">docs</a>)<br>"
      ],
      "text/plain": [
       "<IPython.core.display.HTML object>"
      ]
     },
     "metadata": {},
     "output_type": "display_data"
    },
    {
     "data": {
      "text/html": [
       " View project at <a href='https://wandb.ai/TFG_Hugo/TFG_BIN_EVAL' target=\"_blank\">https://wandb.ai/TFG_Hugo/TFG_BIN_EVAL</a>"
      ],
      "text/plain": [
       "<IPython.core.display.HTML object>"
      ]
     },
     "metadata": {},
     "output_type": "display_data"
    },
    {
     "data": {
      "text/html": [
       " View run at <a href='https://wandb.ai/TFG_Hugo/TFG_BIN_EVAL/runs/az9b2yhp' target=\"_blank\">https://wandb.ai/TFG_Hugo/TFG_BIN_EVAL/runs/az9b2yhp</a>"
      ],
      "text/plain": [
       "<IPython.core.display.HTML object>"
      ]
     },
     "metadata": {},
     "output_type": "display_data"
    },
    {
     "name": "stdout",
     "output_type": "stream",
     "text": [
      "\n",
      "Entrenando con: bs=10000, lr=0.001, hs=49, e=30\n",
      "Evaluación de bs=10000, lr=0.001 finalizada\n"
     ]
    },
    {
     "data": {
      "text/html": [
       "Finishing previous runs because reinit is set to 'default'."
      ],
      "text/plain": [
       "<IPython.core.display.HTML object>"
      ]
     },
     "metadata": {},
     "output_type": "display_data"
    },
    {
     "data": {
      "text/html": [],
      "text/plain": [
       "<IPython.core.display.HTML object>"
      ]
     },
     "metadata": {},
     "output_type": "display_data"
    },
    {
     "data": {
      "text/html": [
       "<br>    <style><br>        .wandb-row {<br>            display: flex;<br>            flex-direction: row;<br>            flex-wrap: wrap;<br>            justify-content: flex-start;<br>            width: 100%;<br>        }<br>        .wandb-col {<br>            display: flex;<br>            flex-direction: column;<br>            flex-basis: 100%;<br>            flex: 1;<br>            padding: 10px;<br>        }<br>    </style><br><div class=\"wandb-row\"><div class=\"wandb-col\"><h3>Run history:</h3><br/><table class=\"wandb\"><tr><td>epoch</td><td>▁▁▁▂▂▂▂▃▃▃▃▄▄▄▄▅▅▅▅▆▆▆▆▇▇▇▇███</td></tr><tr><td>test_accuracy</td><td>▁</td></tr><tr><td>test_f1</td><td>▁</td></tr><tr><td>test_f2</td><td>▁</td></tr><tr><td>test_false_negatives</td><td>▁</td></tr><tr><td>test_false_positives</td><td>▁</td></tr><tr><td>test_loss</td><td>▁</td></tr><tr><td>test_precision</td><td>▁</td></tr><tr><td>test_recall</td><td>▁</td></tr><tr><td>test_roc_auc</td><td>▁</td></tr><tr><td>test_specificity</td><td>▁</td></tr><tr><td>test_true_negatives</td><td>▁</td></tr><tr><td>test_true_positives</td><td>▁</td></tr><tr><td>train_loss</td><td>█▃▂▂▂▂▁▁▁▁▁▁▁▁▁▁▁▁▁▁▁▁▁▁▁▁▁▁▁▁</td></tr></table><br/></div><div class=\"wandb-col\"><h3>Run summary:</h3><br/><table class=\"wandb\"><tr><td>epoch</td><td>29</td></tr><tr><td>test_accuracy</td><td>0.99983</td></tr><tr><td>test_f1</td><td>0.99788</td></tr><tr><td>test_f2</td><td>0.99834</td></tr><tr><td>test_false_negatives</td><td>25</td></tr><tr><td>test_false_positives</td><td>53</td></tr><tr><td>test_loss</td><td>0.00415</td></tr><tr><td>test_precision</td><td>0.99712</td></tr><tr><td>test_recall</td><td>0.99864</td></tr><tr><td>test_roc_auc</td><td>0.99981</td></tr><tr><td>test_specificity</td><td>0.99988</td></tr><tr><td>test_true_negatives</td><td>430153</td></tr><tr><td>test_true_positives</td><td>18356</td></tr><tr><td>train_loss</td><td>0.00389</td></tr></table><br/></div></div>"
      ],
      "text/plain": [
       "<IPython.core.display.HTML object>"
      ]
     },
     "metadata": {},
     "output_type": "display_data"
    },
    {
     "data": {
      "text/html": [
       " View run <strong style=\"color:#cdcd00\">bs(10000)_lr(0.001)_hs(49)_e(30)</strong> at: <a href='https://wandb.ai/TFG_Hugo/TFG_BIN_EVAL/runs/az9b2yhp' target=\"_blank\">https://wandb.ai/TFG_Hugo/TFG_BIN_EVAL/runs/az9b2yhp</a><br> View project at: <a href='https://wandb.ai/TFG_Hugo/TFG_BIN_EVAL' target=\"_blank\">https://wandb.ai/TFG_Hugo/TFG_BIN_EVAL</a><br>Synced 5 W&B file(s), 0 media file(s), 0 artifact file(s) and 1 other file(s)"
      ],
      "text/plain": [
       "<IPython.core.display.HTML object>"
      ]
     },
     "metadata": {},
     "output_type": "display_data"
    },
    {
     "data": {
      "text/html": [
       "Find logs at: <code>./wandb/run-20250604_114206-az9b2yhp/logs</code>"
      ],
      "text/plain": [
       "<IPython.core.display.HTML object>"
      ]
     },
     "metadata": {},
     "output_type": "display_data"
    },
    {
     "data": {
      "text/html": [
       "Tracking run with wandb version 0.19.10"
      ],
      "text/plain": [
       "<IPython.core.display.HTML object>"
      ]
     },
     "metadata": {},
     "output_type": "display_data"
    },
    {
     "data": {
      "text/html": [
       "Run data is saved locally in <code>/home/hugo/TFG/Notebooks/wandb/run-20250604_115020-spp9pfcc</code>"
      ],
      "text/plain": [
       "<IPython.core.display.HTML object>"
      ]
     },
     "metadata": {},
     "output_type": "display_data"
    },
    {
     "data": {
      "text/html": [
       "Syncing run <strong><a href='https://wandb.ai/TFG_Hugo/TFG_BIN_EVAL/runs/spp9pfcc' target=\"_blank\">bs(15000)_lr(0.01)_hs(49)_e(10)</a></strong> to <a href='https://wandb.ai/TFG_Hugo/TFG_BIN_EVAL' target=\"_blank\">Weights & Biases</a> (<a href='https://wandb.me/developer-guide' target=\"_blank\">docs</a>)<br>"
      ],
      "text/plain": [
       "<IPython.core.display.HTML object>"
      ]
     },
     "metadata": {},
     "output_type": "display_data"
    },
    {
     "data": {
      "text/html": [
       " View project at <a href='https://wandb.ai/TFG_Hugo/TFG_BIN_EVAL' target=\"_blank\">https://wandb.ai/TFG_Hugo/TFG_BIN_EVAL</a>"
      ],
      "text/plain": [
       "<IPython.core.display.HTML object>"
      ]
     },
     "metadata": {},
     "output_type": "display_data"
    },
    {
     "data": {
      "text/html": [
       " View run at <a href='https://wandb.ai/TFG_Hugo/TFG_BIN_EVAL/runs/spp9pfcc' target=\"_blank\">https://wandb.ai/TFG_Hugo/TFG_BIN_EVAL/runs/spp9pfcc</a>"
      ],
      "text/plain": [
       "<IPython.core.display.HTML object>"
      ]
     },
     "metadata": {},
     "output_type": "display_data"
    },
    {
     "name": "stdout",
     "output_type": "stream",
     "text": [
      "\n",
      "Entrenando con: bs=15000, lr=0.01, hs=49, e=10\n",
      "Evaluación de bs=15000, lr=0.01 finalizada\n"
     ]
    },
    {
     "data": {
      "text/html": [
       "Finishing previous runs because reinit is set to 'default'."
      ],
      "text/plain": [
       "<IPython.core.display.HTML object>"
      ]
     },
     "metadata": {},
     "output_type": "display_data"
    },
    {
     "data": {
      "text/html": [],
      "text/plain": [
       "<IPython.core.display.HTML object>"
      ]
     },
     "metadata": {},
     "output_type": "display_data"
    },
    {
     "data": {
      "text/html": [
       "<br>    <style><br>        .wandb-row {<br>            display: flex;<br>            flex-direction: row;<br>            flex-wrap: wrap;<br>            justify-content: flex-start;<br>            width: 100%;<br>        }<br>        .wandb-col {<br>            display: flex;<br>            flex-direction: column;<br>            flex-basis: 100%;<br>            flex: 1;<br>            padding: 10px;<br>        }<br>    </style><br><div class=\"wandb-row\"><div class=\"wandb-col\"><h3>Run history:</h3><br/><table class=\"wandb\"><tr><td>epoch</td><td>▁▂▃▃▄▅▆▆▇█</td></tr><tr><td>test_accuracy</td><td>▁</td></tr><tr><td>test_f1</td><td>▁</td></tr><tr><td>test_f2</td><td>▁</td></tr><tr><td>test_false_negatives</td><td>▁</td></tr><tr><td>test_false_positives</td><td>▁</td></tr><tr><td>test_loss</td><td>▁</td></tr><tr><td>test_precision</td><td>▁</td></tr><tr><td>test_recall</td><td>▁</td></tr><tr><td>test_roc_auc</td><td>▁</td></tr><tr><td>test_specificity</td><td>▁</td></tr><tr><td>test_true_negatives</td><td>▁</td></tr><tr><td>test_true_positives</td><td>▁</td></tr><tr><td>train_loss</td><td>█▂▁▁▁▁▁▁▁▁</td></tr></table><br/></div><div class=\"wandb-col\"><h3>Run summary:</h3><br/><table class=\"wandb\"><tr><td>epoch</td><td>9</td></tr><tr><td>test_accuracy</td><td>0.99984</td></tr><tr><td>test_f1</td><td>0.99799</td></tr><tr><td>test_f2</td><td>0.99828</td></tr><tr><td>test_false_negatives</td><td>28</td></tr><tr><td>test_false_positives</td><td>46</td></tr><tr><td>test_loss</td><td>0.00394</td></tr><tr><td>test_precision</td><td>0.9975</td></tr><tr><td>test_recall</td><td>0.99848</td></tr><tr><td>test_roc_auc</td><td>0.9999</td></tr><tr><td>test_specificity</td><td>0.99989</td></tr><tr><td>test_true_negatives</td><td>430160</td></tr><tr><td>test_true_positives</td><td>18353</td></tr><tr><td>train_loss</td><td>0.00384</td></tr></table><br/></div></div>"
      ],
      "text/plain": [
       "<IPython.core.display.HTML object>"
      ]
     },
     "metadata": {},
     "output_type": "display_data"
    },
    {
     "data": {
      "text/html": [
       " View run <strong style=\"color:#cdcd00\">bs(15000)_lr(0.01)_hs(49)_e(10)</strong> at: <a href='https://wandb.ai/TFG_Hugo/TFG_BIN_EVAL/runs/spp9pfcc' target=\"_blank\">https://wandb.ai/TFG_Hugo/TFG_BIN_EVAL/runs/spp9pfcc</a><br> View project at: <a href='https://wandb.ai/TFG_Hugo/TFG_BIN_EVAL' target=\"_blank\">https://wandb.ai/TFG_Hugo/TFG_BIN_EVAL</a><br>Synced 5 W&B file(s), 0 media file(s), 0 artifact file(s) and 1 other file(s)"
      ],
      "text/plain": [
       "<IPython.core.display.HTML object>"
      ]
     },
     "metadata": {},
     "output_type": "display_data"
    },
    {
     "data": {
      "text/html": [
       "Find logs at: <code>./wandb/run-20250604_115020-spp9pfcc/logs</code>"
      ],
      "text/plain": [
       "<IPython.core.display.HTML object>"
      ]
     },
     "metadata": {},
     "output_type": "display_data"
    },
    {
     "data": {
      "text/html": [
       "Tracking run with wandb version 0.19.10"
      ],
      "text/plain": [
       "<IPython.core.display.HTML object>"
      ]
     },
     "metadata": {},
     "output_type": "display_data"
    },
    {
     "data": {
      "text/html": [
       "Run data is saved locally in <code>/home/hugo/TFG/Notebooks/wandb/run-20250604_115313-7hscp87d</code>"
      ],
      "text/plain": [
       "<IPython.core.display.HTML object>"
      ]
     },
     "metadata": {},
     "output_type": "display_data"
    },
    {
     "data": {
      "text/html": [
       "Syncing run <strong><a href='https://wandb.ai/TFG_Hugo/TFG_BIN_EVAL/runs/7hscp87d' target=\"_blank\">bs(2000)_lr(0.001)_hs(49)_e(10)</a></strong> to <a href='https://wandb.ai/TFG_Hugo/TFG_BIN_EVAL' target=\"_blank\">Weights & Biases</a> (<a href='https://wandb.me/developer-guide' target=\"_blank\">docs</a>)<br>"
      ],
      "text/plain": [
       "<IPython.core.display.HTML object>"
      ]
     },
     "metadata": {},
     "output_type": "display_data"
    },
    {
     "data": {
      "text/html": [
       " View project at <a href='https://wandb.ai/TFG_Hugo/TFG_BIN_EVAL' target=\"_blank\">https://wandb.ai/TFG_Hugo/TFG_BIN_EVAL</a>"
      ],
      "text/plain": [
       "<IPython.core.display.HTML object>"
      ]
     },
     "metadata": {},
     "output_type": "display_data"
    },
    {
     "data": {
      "text/html": [
       " View run at <a href='https://wandb.ai/TFG_Hugo/TFG_BIN_EVAL/runs/7hscp87d' target=\"_blank\">https://wandb.ai/TFG_Hugo/TFG_BIN_EVAL/runs/7hscp87d</a>"
      ],
      "text/plain": [
       "<IPython.core.display.HTML object>"
      ]
     },
     "metadata": {},
     "output_type": "display_data"
    },
    {
     "name": "stdout",
     "output_type": "stream",
     "text": [
      "\n",
      "Entrenando con: bs=2000, lr=0.001, hs=49, e=10\n",
      "Evaluación de bs=2000, lr=0.001 finalizada\n"
     ]
    },
    {
     "data": {
      "text/html": [
       "Finishing previous runs because reinit is set to 'default'."
      ],
      "text/plain": [
       "<IPython.core.display.HTML object>"
      ]
     },
     "metadata": {},
     "output_type": "display_data"
    },
    {
     "data": {
      "text/html": [],
      "text/plain": [
       "<IPython.core.display.HTML object>"
      ]
     },
     "metadata": {},
     "output_type": "display_data"
    },
    {
     "data": {
      "text/html": [
       "<br>    <style><br>        .wandb-row {<br>            display: flex;<br>            flex-direction: row;<br>            flex-wrap: wrap;<br>            justify-content: flex-start;<br>            width: 100%;<br>        }<br>        .wandb-col {<br>            display: flex;<br>            flex-direction: column;<br>            flex-basis: 100%;<br>            flex: 1;<br>            padding: 10px;<br>        }<br>    </style><br><div class=\"wandb-row\"><div class=\"wandb-col\"><h3>Run history:</h3><br/><table class=\"wandb\"><tr><td>epoch</td><td>▁▂▃▃▄▅▆▆▇█</td></tr><tr><td>test_accuracy</td><td>▁</td></tr><tr><td>test_f1</td><td>▁</td></tr><tr><td>test_f2</td><td>▁</td></tr><tr><td>test_false_negatives</td><td>▁</td></tr><tr><td>test_false_positives</td><td>▁</td></tr><tr><td>test_loss</td><td>▁</td></tr><tr><td>test_precision</td><td>▁</td></tr><tr><td>test_recall</td><td>▁</td></tr><tr><td>test_roc_auc</td><td>▁</td></tr><tr><td>test_specificity</td><td>▁</td></tr><tr><td>test_true_negatives</td><td>▁</td></tr><tr><td>test_true_positives</td><td>▁</td></tr><tr><td>train_loss</td><td>█▂▁▁▁▁▁▁▁▁</td></tr></table><br/></div><div class=\"wandb-col\"><h3>Run summary:</h3><br/><table class=\"wandb\"><tr><td>epoch</td><td>9</td></tr><tr><td>test_accuracy</td><td>0.99982</td></tr><tr><td>test_f1</td><td>0.99785</td></tr><tr><td>test_f2</td><td>0.9981</td></tr><tr><td>test_false_negatives</td><td>32</td></tr><tr><td>test_false_positives</td><td>47</td></tr><tr><td>test_loss</td><td>0.00394</td></tr><tr><td>test_precision</td><td>0.99745</td></tr><tr><td>test_recall</td><td>0.99826</td></tr><tr><td>test_roc_auc</td><td>0.99986</td></tr><tr><td>test_specificity</td><td>0.99989</td></tr><tr><td>test_true_negatives</td><td>430159</td></tr><tr><td>test_true_positives</td><td>18349</td></tr><tr><td>train_loss</td><td>0.00379</td></tr></table><br/></div></div>"
      ],
      "text/plain": [
       "<IPython.core.display.HTML object>"
      ]
     },
     "metadata": {},
     "output_type": "display_data"
    },
    {
     "data": {
      "text/html": [
       " View run <strong style=\"color:#cdcd00\">bs(2000)_lr(0.001)_hs(49)_e(10)</strong> at: <a href='https://wandb.ai/TFG_Hugo/TFG_BIN_EVAL/runs/7hscp87d' target=\"_blank\">https://wandb.ai/TFG_Hugo/TFG_BIN_EVAL/runs/7hscp87d</a><br> View project at: <a href='https://wandb.ai/TFG_Hugo/TFG_BIN_EVAL' target=\"_blank\">https://wandb.ai/TFG_Hugo/TFG_BIN_EVAL</a><br>Synced 5 W&B file(s), 0 media file(s), 0 artifact file(s) and 1 other file(s)"
      ],
      "text/plain": [
       "<IPython.core.display.HTML object>"
      ]
     },
     "metadata": {},
     "output_type": "display_data"
    },
    {
     "data": {
      "text/html": [
       "Find logs at: <code>./wandb/run-20250604_115313-7hscp87d/logs</code>"
      ],
      "text/plain": [
       "<IPython.core.display.HTML object>"
      ]
     },
     "metadata": {},
     "output_type": "display_data"
    },
    {
     "data": {
      "text/html": [
       "Tracking run with wandb version 0.19.10"
      ],
      "text/plain": [
       "<IPython.core.display.HTML object>"
      ]
     },
     "metadata": {},
     "output_type": "display_data"
    },
    {
     "data": {
      "text/html": [
       "Run data is saved locally in <code>/home/hugo/TFG/Notebooks/wandb/run-20250604_115509-ct9zad8m</code>"
      ],
      "text/plain": [
       "<IPython.core.display.HTML object>"
      ]
     },
     "metadata": {},
     "output_type": "display_data"
    },
    {
     "data": {
      "text/html": [
       "Syncing run <strong><a href='https://wandb.ai/TFG_Hugo/TFG_BIN_EVAL/runs/ct9zad8m' target=\"_blank\">bs(2000)_lr(0.0001)_hs(49)_e(30)</a></strong> to <a href='https://wandb.ai/TFG_Hugo/TFG_BIN_EVAL' target=\"_blank\">Weights & Biases</a> (<a href='https://wandb.me/developer-guide' target=\"_blank\">docs</a>)<br>"
      ],
      "text/plain": [
       "<IPython.core.display.HTML object>"
      ]
     },
     "metadata": {},
     "output_type": "display_data"
    },
    {
     "data": {
      "text/html": [
       " View project at <a href='https://wandb.ai/TFG_Hugo/TFG_BIN_EVAL' target=\"_blank\">https://wandb.ai/TFG_Hugo/TFG_BIN_EVAL</a>"
      ],
      "text/plain": [
       "<IPython.core.display.HTML object>"
      ]
     },
     "metadata": {},
     "output_type": "display_data"
    },
    {
     "data": {
      "text/html": [
       " View run at <a href='https://wandb.ai/TFG_Hugo/TFG_BIN_EVAL/runs/ct9zad8m' target=\"_blank\">https://wandb.ai/TFG_Hugo/TFG_BIN_EVAL/runs/ct9zad8m</a>"
      ],
      "text/plain": [
       "<IPython.core.display.HTML object>"
      ]
     },
     "metadata": {},
     "output_type": "display_data"
    },
    {
     "name": "stdout",
     "output_type": "stream",
     "text": [
      "\n",
      "Entrenando con: bs=2000, lr=0.0001, hs=49, e=30\n",
      "Evaluación de bs=2000, lr=0.0001 finalizada\n"
     ]
    },
    {
     "data": {
      "text/html": [
       "Finishing previous runs because reinit is set to 'default'."
      ],
      "text/plain": [
       "<IPython.core.display.HTML object>"
      ]
     },
     "metadata": {},
     "output_type": "display_data"
    },
    {
     "data": {
      "text/html": [],
      "text/plain": [
       "<IPython.core.display.HTML object>"
      ]
     },
     "metadata": {},
     "output_type": "display_data"
    },
    {
     "data": {
      "text/html": [
       "<br>    <style><br>        .wandb-row {<br>            display: flex;<br>            flex-direction: row;<br>            flex-wrap: wrap;<br>            justify-content: flex-start;<br>            width: 100%;<br>        }<br>        .wandb-col {<br>            display: flex;<br>            flex-direction: column;<br>            flex-basis: 100%;<br>            flex: 1;<br>            padding: 10px;<br>        }<br>    </style><br><div class=\"wandb-row\"><div class=\"wandb-col\"><h3>Run history:</h3><br/><table class=\"wandb\"><tr><td>epoch</td><td>▁▁▁▂▂▂▂▃▃▃▃▄▄▄▄▅▅▅▅▆▆▆▆▇▇▇▇███</td></tr><tr><td>test_accuracy</td><td>▁</td></tr><tr><td>test_f1</td><td>▁</td></tr><tr><td>test_f2</td><td>▁</td></tr><tr><td>test_false_negatives</td><td>▁</td></tr><tr><td>test_false_positives</td><td>▁</td></tr><tr><td>test_loss</td><td>▁</td></tr><tr><td>test_precision</td><td>▁</td></tr><tr><td>test_recall</td><td>▁</td></tr><tr><td>test_roc_auc</td><td>▁</td></tr><tr><td>test_specificity</td><td>▁</td></tr><tr><td>test_true_negatives</td><td>▁</td></tr><tr><td>test_true_positives</td><td>▁</td></tr><tr><td>train_loss</td><td>█▄▃▂▂▂▂▁▁▁▁▁▁▁▁▁▁▁▁▁▁▁▁▁▁▁▁▁▁▁</td></tr></table><br/></div><div class=\"wandb-col\"><h3>Run summary:</h3><br/><table class=\"wandb\"><tr><td>epoch</td><td>29</td></tr><tr><td>test_accuracy</td><td>0.9998</td></tr><tr><td>test_f1</td><td>0.99755</td></tr><tr><td>test_f2</td><td>0.99811</td></tr><tr><td>test_false_negatives</td><td>28</td></tr><tr><td>test_false_positives</td><td>62</td></tr><tr><td>test_loss</td><td>0.00425</td></tr><tr><td>test_precision</td><td>0.99663</td></tr><tr><td>test_recall</td><td>0.99848</td></tr><tr><td>test_roc_auc</td><td>0.99981</td></tr><tr><td>test_specificity</td><td>0.99986</td></tr><tr><td>test_true_negatives</td><td>430144</td></tr><tr><td>test_true_positives</td><td>18353</td></tr><tr><td>train_loss</td><td>0.00398</td></tr></table><br/></div></div>"
      ],
      "text/plain": [
       "<IPython.core.display.HTML object>"
      ]
     },
     "metadata": {},
     "output_type": "display_data"
    },
    {
     "data": {
      "text/html": [
       " View run <strong style=\"color:#cdcd00\">bs(2000)_lr(0.0001)_hs(49)_e(30)</strong> at: <a href='https://wandb.ai/TFG_Hugo/TFG_BIN_EVAL/runs/ct9zad8m' target=\"_blank\">https://wandb.ai/TFG_Hugo/TFG_BIN_EVAL/runs/ct9zad8m</a><br> View project at: <a href='https://wandb.ai/TFG_Hugo/TFG_BIN_EVAL' target=\"_blank\">https://wandb.ai/TFG_Hugo/TFG_BIN_EVAL</a><br>Synced 5 W&B file(s), 0 media file(s), 0 artifact file(s) and 1 other file(s)"
      ],
      "text/plain": [
       "<IPython.core.display.HTML object>"
      ]
     },
     "metadata": {},
     "output_type": "display_data"
    },
    {
     "data": {
      "text/html": [
       "Find logs at: <code>./wandb/run-20250604_115509-ct9zad8m/logs</code>"
      ],
      "text/plain": [
       "<IPython.core.display.HTML object>"
      ]
     },
     "metadata": {},
     "output_type": "display_data"
    },
    {
     "data": {
      "text/html": [
       "Tracking run with wandb version 0.19.10"
      ],
      "text/plain": [
       "<IPython.core.display.HTML object>"
      ]
     },
     "metadata": {},
     "output_type": "display_data"
    },
    {
     "data": {
      "text/html": [
       "Run data is saved locally in <code>/home/hugo/TFG/Notebooks/wandb/run-20250604_120037-59gstw0e</code>"
      ],
      "text/plain": [
       "<IPython.core.display.HTML object>"
      ]
     },
     "metadata": {},
     "output_type": "display_data"
    },
    {
     "data": {
      "text/html": [
       "Syncing run <strong><a href='https://wandb.ai/TFG_Hugo/TFG_BIN_EVAL/runs/59gstw0e' target=\"_blank\">bs(20000)_lr(0.01)_hs(98)_e(10)</a></strong> to <a href='https://wandb.ai/TFG_Hugo/TFG_BIN_EVAL' target=\"_blank\">Weights & Biases</a> (<a href='https://wandb.me/developer-guide' target=\"_blank\">docs</a>)<br>"
      ],
      "text/plain": [
       "<IPython.core.display.HTML object>"
      ]
     },
     "metadata": {},
     "output_type": "display_data"
    },
    {
     "data": {
      "text/html": [
       " View project at <a href='https://wandb.ai/TFG_Hugo/TFG_BIN_EVAL' target=\"_blank\">https://wandb.ai/TFG_Hugo/TFG_BIN_EVAL</a>"
      ],
      "text/plain": [
       "<IPython.core.display.HTML object>"
      ]
     },
     "metadata": {},
     "output_type": "display_data"
    },
    {
     "data": {
      "text/html": [
       " View run at <a href='https://wandb.ai/TFG_Hugo/TFG_BIN_EVAL/runs/59gstw0e' target=\"_blank\">https://wandb.ai/TFG_Hugo/TFG_BIN_EVAL/runs/59gstw0e</a>"
      ],
      "text/plain": [
       "<IPython.core.display.HTML object>"
      ]
     },
     "metadata": {},
     "output_type": "display_data"
    },
    {
     "name": "stdout",
     "output_type": "stream",
     "text": [
      "\n",
      "Entrenando con: bs=20000, lr=0.01, hs=98, e=10\n",
      "Evaluación de bs=20000, lr=0.01 finalizada\n"
     ]
    },
    {
     "data": {
      "text/html": [
       "Finishing previous runs because reinit is set to 'default'."
      ],
      "text/plain": [
       "<IPython.core.display.HTML object>"
      ]
     },
     "metadata": {},
     "output_type": "display_data"
    },
    {
     "data": {
      "text/html": [],
      "text/plain": [
       "<IPython.core.display.HTML object>"
      ]
     },
     "metadata": {},
     "output_type": "display_data"
    },
    {
     "data": {
      "text/html": [
       "<br>    <style><br>        .wandb-row {<br>            display: flex;<br>            flex-direction: row;<br>            flex-wrap: wrap;<br>            justify-content: flex-start;<br>            width: 100%;<br>        }<br>        .wandb-col {<br>            display: flex;<br>            flex-direction: column;<br>            flex-basis: 100%;<br>            flex: 1;<br>            padding: 10px;<br>        }<br>    </style><br><div class=\"wandb-row\"><div class=\"wandb-col\"><h3>Run history:</h3><br/><table class=\"wandb\"><tr><td>epoch</td><td>▁▂▃▃▄▅▆▆▇█</td></tr><tr><td>test_accuracy</td><td>▁</td></tr><tr><td>test_f1</td><td>▁</td></tr><tr><td>test_f2</td><td>▁</td></tr><tr><td>test_false_negatives</td><td>▁</td></tr><tr><td>test_false_positives</td><td>▁</td></tr><tr><td>test_loss</td><td>▁</td></tr><tr><td>test_precision</td><td>▁</td></tr><tr><td>test_recall</td><td>▁</td></tr><tr><td>test_roc_auc</td><td>▁</td></tr><tr><td>test_specificity</td><td>▁</td></tr><tr><td>test_true_negatives</td><td>▁</td></tr><tr><td>test_true_positives</td><td>▁</td></tr><tr><td>train_loss</td><td>█▂▁▁▁▁▁▁▁▁</td></tr></table><br/></div><div class=\"wandb-col\"><h3>Run summary:</h3><br/><table class=\"wandb\"><tr><td>epoch</td><td>9</td></tr><tr><td>test_accuracy</td><td>0.99984</td></tr><tr><td>test_f1</td><td>0.99807</td></tr><tr><td>test_f2</td><td>0.99844</td></tr><tr><td>test_false_negatives</td><td>24</td></tr><tr><td>test_false_positives</td><td>47</td></tr><tr><td>test_loss</td><td>0.00408</td></tr><tr><td>test_precision</td><td>0.99745</td></tr><tr><td>test_recall</td><td>0.99869</td></tr><tr><td>test_roc_auc</td><td>0.9999</td></tr><tr><td>test_specificity</td><td>0.99989</td></tr><tr><td>test_true_negatives</td><td>430159</td></tr><tr><td>test_true_positives</td><td>18357</td></tr><tr><td>train_loss</td><td>0.00383</td></tr></table><br/></div></div>"
      ],
      "text/plain": [
       "<IPython.core.display.HTML object>"
      ]
     },
     "metadata": {},
     "output_type": "display_data"
    },
    {
     "data": {
      "text/html": [
       " View run <strong style=\"color:#cdcd00\">bs(20000)_lr(0.01)_hs(98)_e(10)</strong> at: <a href='https://wandb.ai/TFG_Hugo/TFG_BIN_EVAL/runs/59gstw0e' target=\"_blank\">https://wandb.ai/TFG_Hugo/TFG_BIN_EVAL/runs/59gstw0e</a><br> View project at: <a href='https://wandb.ai/TFG_Hugo/TFG_BIN_EVAL' target=\"_blank\">https://wandb.ai/TFG_Hugo/TFG_BIN_EVAL</a><br>Synced 5 W&B file(s), 0 media file(s), 0 artifact file(s) and 1 other file(s)"
      ],
      "text/plain": [
       "<IPython.core.display.HTML object>"
      ]
     },
     "metadata": {},
     "output_type": "display_data"
    },
    {
     "data": {
      "text/html": [
       "Find logs at: <code>./wandb/run-20250604_120037-59gstw0e/logs</code>"
      ],
      "text/plain": [
       "<IPython.core.display.HTML object>"
      ]
     },
     "metadata": {},
     "output_type": "display_data"
    },
    {
     "data": {
      "text/html": [
       "Tracking run with wandb version 0.19.10"
      ],
      "text/plain": [
       "<IPython.core.display.HTML object>"
      ]
     },
     "metadata": {},
     "output_type": "display_data"
    },
    {
     "data": {
      "text/html": [
       "Run data is saved locally in <code>/home/hugo/TFG/Notebooks/wandb/run-20250604_120334-asselsit</code>"
      ],
      "text/plain": [
       "<IPython.core.display.HTML object>"
      ]
     },
     "metadata": {},
     "output_type": "display_data"
    },
    {
     "data": {
      "text/html": [
       "Syncing run <strong><a href='https://wandb.ai/TFG_Hugo/TFG_BIN_EVAL/runs/asselsit' target=\"_blank\">bs(10000)_lr(0.001)_hs(98)_e(30)</a></strong> to <a href='https://wandb.ai/TFG_Hugo/TFG_BIN_EVAL' target=\"_blank\">Weights & Biases</a> (<a href='https://wandb.me/developer-guide' target=\"_blank\">docs</a>)<br>"
      ],
      "text/plain": [
       "<IPython.core.display.HTML object>"
      ]
     },
     "metadata": {},
     "output_type": "display_data"
    },
    {
     "data": {
      "text/html": [
       " View project at <a href='https://wandb.ai/TFG_Hugo/TFG_BIN_EVAL' target=\"_blank\">https://wandb.ai/TFG_Hugo/TFG_BIN_EVAL</a>"
      ],
      "text/plain": [
       "<IPython.core.display.HTML object>"
      ]
     },
     "metadata": {},
     "output_type": "display_data"
    },
    {
     "data": {
      "text/html": [
       " View run at <a href='https://wandb.ai/TFG_Hugo/TFG_BIN_EVAL/runs/asselsit' target=\"_blank\">https://wandb.ai/TFG_Hugo/TFG_BIN_EVAL/runs/asselsit</a>"
      ],
      "text/plain": [
       "<IPython.core.display.HTML object>"
      ]
     },
     "metadata": {},
     "output_type": "display_data"
    },
    {
     "name": "stdout",
     "output_type": "stream",
     "text": [
      "\n",
      "Entrenando con: bs=10000, lr=0.001, hs=98, e=30\n",
      "Evaluación de bs=10000, lr=0.001 finalizada\n"
     ]
    },
    {
     "data": {
      "text/html": [
       "Finishing previous runs because reinit is set to 'default'."
      ],
      "text/plain": [
       "<IPython.core.display.HTML object>"
      ]
     },
     "metadata": {},
     "output_type": "display_data"
    },
    {
     "data": {
      "text/html": [],
      "text/plain": [
       "<IPython.core.display.HTML object>"
      ]
     },
     "metadata": {},
     "output_type": "display_data"
    },
    {
     "data": {
      "text/html": [
       "<br>    <style><br>        .wandb-row {<br>            display: flex;<br>            flex-direction: row;<br>            flex-wrap: wrap;<br>            justify-content: flex-start;<br>            width: 100%;<br>        }<br>        .wandb-col {<br>            display: flex;<br>            flex-direction: column;<br>            flex-basis: 100%;<br>            flex: 1;<br>            padding: 10px;<br>        }<br>    </style><br><div class=\"wandb-row\"><div class=\"wandb-col\"><h3>Run history:</h3><br/><table class=\"wandb\"><tr><td>epoch</td><td>▁▁▁▂▂▂▂▃▃▃▃▄▄▄▄▅▅▅▅▆▆▆▆▇▇▇▇███</td></tr><tr><td>test_accuracy</td><td>▁</td></tr><tr><td>test_f1</td><td>▁</td></tr><tr><td>test_f2</td><td>▁</td></tr><tr><td>test_false_negatives</td><td>▁</td></tr><tr><td>test_false_positives</td><td>▁</td></tr><tr><td>test_loss</td><td>▁</td></tr><tr><td>test_precision</td><td>▁</td></tr><tr><td>test_recall</td><td>▁</td></tr><tr><td>test_roc_auc</td><td>▁</td></tr><tr><td>test_specificity</td><td>▁</td></tr><tr><td>test_true_negatives</td><td>▁</td></tr><tr><td>test_true_positives</td><td>▁</td></tr><tr><td>train_loss</td><td>█▃▂▂▂▁▁▁▁▁▁▁▁▁▁▁▁▁▁▁▁▁▁▁▁▁▁▁▁▁</td></tr></table><br/></div><div class=\"wandb-col\"><h3>Run summary:</h3><br/><table class=\"wandb\"><tr><td>epoch</td><td>29</td></tr><tr><td>test_accuracy</td><td>0.99982</td></tr><tr><td>test_f1</td><td>0.99777</td></tr><tr><td>test_f2</td><td>0.99797</td></tr><tr><td>test_false_negatives</td><td>35</td></tr><tr><td>test_false_positives</td><td>47</td></tr><tr><td>test_loss</td><td>0.00402</td></tr><tr><td>test_precision</td><td>0.99744</td></tr><tr><td>test_recall</td><td>0.9981</td></tr><tr><td>test_roc_auc</td><td>0.99987</td></tr><tr><td>test_specificity</td><td>0.99989</td></tr><tr><td>test_true_negatives</td><td>430159</td></tr><tr><td>test_true_positives</td><td>18346</td></tr><tr><td>train_loss</td><td>0.00381</td></tr></table><br/></div></div>"
      ],
      "text/plain": [
       "<IPython.core.display.HTML object>"
      ]
     },
     "metadata": {},
     "output_type": "display_data"
    },
    {
     "data": {
      "text/html": [
       " View run <strong style=\"color:#cdcd00\">bs(10000)_lr(0.001)_hs(98)_e(30)</strong> at: <a href='https://wandb.ai/TFG_Hugo/TFG_BIN_EVAL/runs/asselsit' target=\"_blank\">https://wandb.ai/TFG_Hugo/TFG_BIN_EVAL/runs/asselsit</a><br> View project at: <a href='https://wandb.ai/TFG_Hugo/TFG_BIN_EVAL' target=\"_blank\">https://wandb.ai/TFG_Hugo/TFG_BIN_EVAL</a><br>Synced 5 W&B file(s), 0 media file(s), 0 artifact file(s) and 1 other file(s)"
      ],
      "text/plain": [
       "<IPython.core.display.HTML object>"
      ]
     },
     "metadata": {},
     "output_type": "display_data"
    },
    {
     "data": {
      "text/html": [
       "Find logs at: <code>./wandb/run-20250604_120334-asselsit/logs</code>"
      ],
      "text/plain": [
       "<IPython.core.display.HTML object>"
      ]
     },
     "metadata": {},
     "output_type": "display_data"
    },
    {
     "data": {
      "text/html": [
       "Tracking run with wandb version 0.19.10"
      ],
      "text/plain": [
       "<IPython.core.display.HTML object>"
      ]
     },
     "metadata": {},
     "output_type": "display_data"
    },
    {
     "data": {
      "text/html": [
       "Run data is saved locally in <code>/home/hugo/TFG/Notebooks/wandb/run-20250604_121156-600j9b3l</code>"
      ],
      "text/plain": [
       "<IPython.core.display.HTML object>"
      ]
     },
     "metadata": {},
     "output_type": "display_data"
    },
    {
     "data": {
      "text/html": [
       "Syncing run <strong><a href='https://wandb.ai/TFG_Hugo/TFG_BIN_EVAL/runs/600j9b3l' target=\"_blank\">bs(15000)_lr(0.001)_hs(98)_e(30)</a></strong> to <a href='https://wandb.ai/TFG_Hugo/TFG_BIN_EVAL' target=\"_blank\">Weights & Biases</a> (<a href='https://wandb.me/developer-guide' target=\"_blank\">docs</a>)<br>"
      ],
      "text/plain": [
       "<IPython.core.display.HTML object>"
      ]
     },
     "metadata": {},
     "output_type": "display_data"
    },
    {
     "data": {
      "text/html": [
       " View project at <a href='https://wandb.ai/TFG_Hugo/TFG_BIN_EVAL' target=\"_blank\">https://wandb.ai/TFG_Hugo/TFG_BIN_EVAL</a>"
      ],
      "text/plain": [
       "<IPython.core.display.HTML object>"
      ]
     },
     "metadata": {},
     "output_type": "display_data"
    },
    {
     "data": {
      "text/html": [
       " View run at <a href='https://wandb.ai/TFG_Hugo/TFG_BIN_EVAL/runs/600j9b3l' target=\"_blank\">https://wandb.ai/TFG_Hugo/TFG_BIN_EVAL/runs/600j9b3l</a>"
      ],
      "text/plain": [
       "<IPython.core.display.HTML object>"
      ]
     },
     "metadata": {},
     "output_type": "display_data"
    },
    {
     "name": "stdout",
     "output_type": "stream",
     "text": [
      "\n",
      "Entrenando con: bs=15000, lr=0.001, hs=98, e=30\n",
      "Evaluación de bs=15000, lr=0.001 finalizada\n"
     ]
    },
    {
     "data": {
      "text/html": [
       "Finishing previous runs because reinit is set to 'default'."
      ],
      "text/plain": [
       "<IPython.core.display.HTML object>"
      ]
     },
     "metadata": {},
     "output_type": "display_data"
    },
    {
     "data": {
      "text/html": [],
      "text/plain": [
       "<IPython.core.display.HTML object>"
      ]
     },
     "metadata": {},
     "output_type": "display_data"
    },
    {
     "data": {
      "text/html": [
       "<br>    <style><br>        .wandb-row {<br>            display: flex;<br>            flex-direction: row;<br>            flex-wrap: wrap;<br>            justify-content: flex-start;<br>            width: 100%;<br>        }<br>        .wandb-col {<br>            display: flex;<br>            flex-direction: column;<br>            flex-basis: 100%;<br>            flex: 1;<br>            padding: 10px;<br>        }<br>    </style><br><div class=\"wandb-row\"><div class=\"wandb-col\"><h3>Run history:</h3><br/><table class=\"wandb\"><tr><td>epoch</td><td>▁▁▁▂▂▂▂▃▃▃▃▄▄▄▄▅▅▅▅▆▆▆▆▇▇▇▇███</td></tr><tr><td>test_accuracy</td><td>▁</td></tr><tr><td>test_f1</td><td>▁</td></tr><tr><td>test_f2</td><td>▁</td></tr><tr><td>test_false_negatives</td><td>▁</td></tr><tr><td>test_false_positives</td><td>▁</td></tr><tr><td>test_loss</td><td>▁</td></tr><tr><td>test_precision</td><td>▁</td></tr><tr><td>test_recall</td><td>▁</td></tr><tr><td>test_roc_auc</td><td>▁</td></tr><tr><td>test_specificity</td><td>▁</td></tr><tr><td>test_true_negatives</td><td>▁</td></tr><tr><td>test_true_positives</td><td>▁</td></tr><tr><td>train_loss</td><td>█▄▂▂▂▂▁▁▁▁▁▁▁▁▁▁▁▁▁▁▁▁▁▁▁▁▁▁▁▁</td></tr></table><br/></div><div class=\"wandb-col\"><h3>Run summary:</h3><br/><table class=\"wandb\"><tr><td>epoch</td><td>29</td></tr><tr><td>test_accuracy</td><td>0.99983</td></tr><tr><td>test_f1</td><td>0.99791</td></tr><tr><td>test_f2</td><td>0.99841</td></tr><tr><td>test_false_negatives</td><td>23</td></tr><tr><td>test_false_positives</td><td>54</td></tr><tr><td>test_loss</td><td>0.00425</td></tr><tr><td>test_precision</td><td>0.99707</td></tr><tr><td>test_recall</td><td>0.99875</td></tr><tr><td>test_roc_auc</td><td>0.99978</td></tr><tr><td>test_specificity</td><td>0.99987</td></tr><tr><td>test_true_negatives</td><td>430152</td></tr><tr><td>test_true_positives</td><td>18358</td></tr><tr><td>train_loss</td><td>0.00399</td></tr></table><br/></div></div>"
      ],
      "text/plain": [
       "<IPython.core.display.HTML object>"
      ]
     },
     "metadata": {},
     "output_type": "display_data"
    },
    {
     "data": {
      "text/html": [
       " View run <strong style=\"color:#cdcd00\">bs(15000)_lr(0.001)_hs(98)_e(30)</strong> at: <a href='https://wandb.ai/TFG_Hugo/TFG_BIN_EVAL/runs/600j9b3l' target=\"_blank\">https://wandb.ai/TFG_Hugo/TFG_BIN_EVAL/runs/600j9b3l</a><br> View project at: <a href='https://wandb.ai/TFG_Hugo/TFG_BIN_EVAL' target=\"_blank\">https://wandb.ai/TFG_Hugo/TFG_BIN_EVAL</a><br>Synced 5 W&B file(s), 0 media file(s), 0 artifact file(s) and 1 other file(s)"
      ],
      "text/plain": [
       "<IPython.core.display.HTML object>"
      ]
     },
     "metadata": {},
     "output_type": "display_data"
    },
    {
     "data": {
      "text/html": [
       "Find logs at: <code>./wandb/run-20250604_121156-600j9b3l/logs</code>"
      ],
      "text/plain": [
       "<IPython.core.display.HTML object>"
      ]
     },
     "metadata": {},
     "output_type": "display_data"
    },
    {
     "data": {
      "text/html": [
       "Tracking run with wandb version 0.19.10"
      ],
      "text/plain": [
       "<IPython.core.display.HTML object>"
      ]
     },
     "metadata": {},
     "output_type": "display_data"
    },
    {
     "data": {
      "text/html": [
       "Run data is saved locally in <code>/home/hugo/TFG/Notebooks/wandb/run-20250604_122020-rmxalhwn</code>"
      ],
      "text/plain": [
       "<IPython.core.display.HTML object>"
      ]
     },
     "metadata": {},
     "output_type": "display_data"
    },
    {
     "data": {
      "text/html": [
       "Syncing run <strong><a href='https://wandb.ai/TFG_Hugo/TFG_BIN_EVAL/runs/rmxalhwn' target=\"_blank\">bs(15000)_lr(0.01)_hs(98)_e(10)</a></strong> to <a href='https://wandb.ai/TFG_Hugo/TFG_BIN_EVAL' target=\"_blank\">Weights & Biases</a> (<a href='https://wandb.me/developer-guide' target=\"_blank\">docs</a>)<br>"
      ],
      "text/plain": [
       "<IPython.core.display.HTML object>"
      ]
     },
     "metadata": {},
     "output_type": "display_data"
    },
    {
     "data": {
      "text/html": [
       " View project at <a href='https://wandb.ai/TFG_Hugo/TFG_BIN_EVAL' target=\"_blank\">https://wandb.ai/TFG_Hugo/TFG_BIN_EVAL</a>"
      ],
      "text/plain": [
       "<IPython.core.display.HTML object>"
      ]
     },
     "metadata": {},
     "output_type": "display_data"
    },
    {
     "data": {
      "text/html": [
       " View run at <a href='https://wandb.ai/TFG_Hugo/TFG_BIN_EVAL/runs/rmxalhwn' target=\"_blank\">https://wandb.ai/TFG_Hugo/TFG_BIN_EVAL/runs/rmxalhwn</a>"
      ],
      "text/plain": [
       "<IPython.core.display.HTML object>"
      ]
     },
     "metadata": {},
     "output_type": "display_data"
    },
    {
     "name": "stdout",
     "output_type": "stream",
     "text": [
      "\n",
      "Entrenando con: bs=15000, lr=0.01, hs=98, e=10\n",
      "Evaluación de bs=15000, lr=0.01 finalizada\n"
     ]
    },
    {
     "data": {
      "text/html": [
       "Finishing previous runs because reinit is set to 'default'."
      ],
      "text/plain": [
       "<IPython.core.display.HTML object>"
      ]
     },
     "metadata": {},
     "output_type": "display_data"
    },
    {
     "data": {
      "text/html": [],
      "text/plain": [
       "<IPython.core.display.HTML object>"
      ]
     },
     "metadata": {},
     "output_type": "display_data"
    },
    {
     "data": {
      "text/html": [
       "<br>    <style><br>        .wandb-row {<br>            display: flex;<br>            flex-direction: row;<br>            flex-wrap: wrap;<br>            justify-content: flex-start;<br>            width: 100%;<br>        }<br>        .wandb-col {<br>            display: flex;<br>            flex-direction: column;<br>            flex-basis: 100%;<br>            flex: 1;<br>            padding: 10px;<br>        }<br>    </style><br><div class=\"wandb-row\"><div class=\"wandb-col\"><h3>Run history:</h3><br/><table class=\"wandb\"><tr><td>epoch</td><td>▁▂▃▃▄▅▆▆▇█</td></tr><tr><td>test_accuracy</td><td>▁</td></tr><tr><td>test_f1</td><td>▁</td></tr><tr><td>test_f2</td><td>▁</td></tr><tr><td>test_false_negatives</td><td>▁</td></tr><tr><td>test_false_positives</td><td>▁</td></tr><tr><td>test_loss</td><td>▁</td></tr><tr><td>test_precision</td><td>▁</td></tr><tr><td>test_recall</td><td>▁</td></tr><tr><td>test_roc_auc</td><td>▁</td></tr><tr><td>test_specificity</td><td>▁</td></tr><tr><td>test_true_negatives</td><td>▁</td></tr><tr><td>test_true_positives</td><td>▁</td></tr><tr><td>train_loss</td><td>█▂▁▁▁▁▁▁▁▁</td></tr></table><br/></div><div class=\"wandb-col\"><h3>Run summary:</h3><br/><table class=\"wandb\"><tr><td>epoch</td><td>9</td></tr><tr><td>test_accuracy</td><td>0.99983</td></tr><tr><td>test_f1</td><td>0.99796</td></tr><tr><td>test_f2</td><td>0.99827</td></tr><tr><td>test_false_negatives</td><td>28</td></tr><tr><td>test_false_positives</td><td>47</td></tr><tr><td>test_loss</td><td>0.00383</td></tr><tr><td>test_precision</td><td>0.99745</td></tr><tr><td>test_recall</td><td>0.99848</td></tr><tr><td>test_roc_auc</td><td>0.9999</td></tr><tr><td>test_specificity</td><td>0.99989</td></tr><tr><td>test_true_negatives</td><td>430159</td></tr><tr><td>test_true_positives</td><td>18353</td></tr><tr><td>train_loss</td><td>0.00377</td></tr></table><br/></div></div>"
      ],
      "text/plain": [
       "<IPython.core.display.HTML object>"
      ]
     },
     "metadata": {},
     "output_type": "display_data"
    },
    {
     "data": {
      "text/html": [
       " View run <strong style=\"color:#cdcd00\">bs(15000)_lr(0.01)_hs(98)_e(10)</strong> at: <a href='https://wandb.ai/TFG_Hugo/TFG_BIN_EVAL/runs/rmxalhwn' target=\"_blank\">https://wandb.ai/TFG_Hugo/TFG_BIN_EVAL/runs/rmxalhwn</a><br> View project at: <a href='https://wandb.ai/TFG_Hugo/TFG_BIN_EVAL' target=\"_blank\">https://wandb.ai/TFG_Hugo/TFG_BIN_EVAL</a><br>Synced 5 W&B file(s), 0 media file(s), 0 artifact file(s) and 1 other file(s)"
      ],
      "text/plain": [
       "<IPython.core.display.HTML object>"
      ]
     },
     "metadata": {},
     "output_type": "display_data"
    },
    {
     "data": {
      "text/html": [
       "Find logs at: <code>./wandb/run-20250604_122020-rmxalhwn/logs</code>"
      ],
      "text/plain": [
       "<IPython.core.display.HTML object>"
      ]
     },
     "metadata": {},
     "output_type": "display_data"
    },
    {
     "data": {
      "text/html": [
       "Tracking run with wandb version 0.19.10"
      ],
      "text/plain": [
       "<IPython.core.display.HTML object>"
      ]
     },
     "metadata": {},
     "output_type": "display_data"
    },
    {
     "data": {
      "text/html": [
       "Run data is saved locally in <code>/home/hugo/TFG/Notebooks/wandb/run-20250604_122316-w5uqa9j9</code>"
      ],
      "text/plain": [
       "<IPython.core.display.HTML object>"
      ]
     },
     "metadata": {},
     "output_type": "display_data"
    },
    {
     "data": {
      "text/html": [
       "Syncing run <strong><a href='https://wandb.ai/TFG_Hugo/TFG_BIN_EVAL/runs/w5uqa9j9' target=\"_blank\">bs(10000)_lr(0.001)_hs(98)_e(20)</a></strong> to <a href='https://wandb.ai/TFG_Hugo/TFG_BIN_EVAL' target=\"_blank\">Weights & Biases</a> (<a href='https://wandb.me/developer-guide' target=\"_blank\">docs</a>)<br>"
      ],
      "text/plain": [
       "<IPython.core.display.HTML object>"
      ]
     },
     "metadata": {},
     "output_type": "display_data"
    },
    {
     "data": {
      "text/html": [
       " View project at <a href='https://wandb.ai/TFG_Hugo/TFG_BIN_EVAL' target=\"_blank\">https://wandb.ai/TFG_Hugo/TFG_BIN_EVAL</a>"
      ],
      "text/plain": [
       "<IPython.core.display.HTML object>"
      ]
     },
     "metadata": {},
     "output_type": "display_data"
    },
    {
     "data": {
      "text/html": [
       " View run at <a href='https://wandb.ai/TFG_Hugo/TFG_BIN_EVAL/runs/w5uqa9j9' target=\"_blank\">https://wandb.ai/TFG_Hugo/TFG_BIN_EVAL/runs/w5uqa9j9</a>"
      ],
      "text/plain": [
       "<IPython.core.display.HTML object>"
      ]
     },
     "metadata": {},
     "output_type": "display_data"
    },
    {
     "name": "stdout",
     "output_type": "stream",
     "text": [
      "\n",
      "Entrenando con: bs=10000, lr=0.001, hs=98, e=20\n",
      "Evaluación de bs=10000, lr=0.001 finalizada\n"
     ]
    }
   ],
   "source": [
    "for config in combinaciones:\n",
    "    # Se configura wandb para esta combinación\n",
    "    wandb.init(\n",
    "        project=\"TFG_BIN_EVAL\",\n",
    "        name=f\"bs({config['batch_size']})_lr({config['learning_rate']})_hs({config['hidden_size']})_e({config['epochs']})\",\n",
    "        config=config\n",
    "    )\n",
    "    \n",
    "    # Se entrena el modelo con todos los datos de entrenamiento y no con validacion cruzada\n",
    "    modelo = Modelo(input_dim=X_entrena_tensor.shape[1], ventanaOculta=config['hidden_size'])\n",
    "    optimizador = optim.AdamW(modelo.parameters(), lr=config['learning_rate'])\n",
    "    perdida = nn.BCEWithLogitsLoss()\n",
    "    \n",
    "    train_loader = DataLoader(DatasetTFG(X_entrena_tensor, Y_entrena_tensor), \n",
    "                           batch_size=config['batch_size'], \n",
    "                           shuffle=True)\n",
    "    \n",
    "    print(f\"\\nEntrenando con: bs={config['batch_size']}, lr={config['learning_rate']}, \"\n",
    "          f\"hs={config['hidden_size']}, e={config['epochs']}\")\n",
    "    \n",
    "    for epoch in range(config['epochs']):\n",
    "        modelo.train()\n",
    "        total_loss = 0\n",
    "        for batch_X, batch_Y in train_loader:\n",
    "            optimizador.zero_grad()\n",
    "            salidas = modelo(batch_X)\n",
    "            loss = perdida(salidas, batch_Y.unsqueeze(1))\n",
    "            loss.backward()\n",
    "            optimizador.step()\n",
    "            total_loss += loss.item()\n",
    "        \n",
    "        wandb.log({\"train_loss\": total_loss/len(train_loader), \"epoch\": epoch})\n",
    "    \n",
    "    # Se guarda el modelo\n",
    "    nombre_modelo = f\"TFG_BIN_bs({config['batch_size']})_lr({config['learning_rate']})_hs({config['hidden_size']})_e({config['epochs']}).pth\"\n",
    "    torch.save(modelo.state_dict(), f'ModelosBIN/{nombre_modelo}')\n",
    "    wandb.save(f'ModelosBIN/{nombre_modelo}')\n",
    "    \n",
    "    # Se evalua el modelo en el conjunto de prueba\n",
    "    test_loader = DataLoader(test_dataset, batch_size=config['batch_size'])\n",
    "    \n",
    "    modelo.eval()\n",
    "    test_preds, test_probs, test_targets = [], [], []\n",
    "    test_loss = 0.0\n",
    "    \n",
    "    with torch.no_grad():\n",
    "        for batch_X_test, batch_Y_test in test_loader:\n",
    "            salidas_test = modelo(batch_X_test)\n",
    "            test_loss += perdida(salidas_test, batch_Y_test.unsqueeze(1)).item()\n",
    "            probs = torch.sigmoid(salidas_test)\n",
    "            preds = (probs > 0.5).int()\n",
    "            test_probs.extend(probs.cpu().numpy())\n",
    "            test_preds.extend(preds.cpu().numpy())\n",
    "            test_targets.extend(batch_Y_test.cpu().numpy())\n",
    "    \n",
    "    # Se calculan las metricas\n",
    "    test_loss /= len(test_loader)\n",
    "    tn, fp, fn, tp = confusion_matrix(test_targets, test_preds).ravel()\n",
    "    \n",
    "    # Se registran los resultados de la evaluacion en wandb\n",
    "    wandb.log({\n",
    "        \"test_loss\": test_loss,\n",
    "        \"test_accuracy\": accuracy_score(test_targets, test_preds),\n",
    "        \"test_precision\": precision_score(test_targets, test_preds, zero_division=0),\n",
    "        \"test_recall\": recall_score(test_targets, test_preds, zero_division=0),\n",
    "        \"test_f1\": f1_score(test_targets, test_preds),\n",
    "        \"test_f2\": fbeta_score(test_targets, test_preds, beta=2),\n",
    "        \"test_roc_auc\": roc_auc_score(test_targets, test_probs),\n",
    "        \"test_specificity\": tn / (tn + fp) if (tn + fp) > 0 else 0,\n",
    "        \"test_true_positives\": tp,\n",
    "        \"test_false_positives\": fp,\n",
    "        \"test_true_negatives\": tn,\n",
    "        \"test_false_negatives\": fn\n",
    "    })\n",
    "    \n",
    "    print(f\"Evaluación de bs={config['batch_size']}, lr={config['learning_rate']} finalizada\")\n",
    "    wandb.finish()"
   ]
  }
 ],
 "metadata": {
  "kernelspec": {
   "display_name": "base",
   "language": "python",
   "name": "python3"
  },
  "language_info": {
   "codemirror_mode": {
    "name": "ipython",
    "version": 3
   },
   "file_extension": ".py",
   "mimetype": "text/x-python",
   "name": "python",
   "nbconvert_exporter": "python",
   "pygments_lexer": "ipython3",
   "version": "3.12.7"
  }
 },
 "nbformat": 4,
 "nbformat_minor": 5
}
