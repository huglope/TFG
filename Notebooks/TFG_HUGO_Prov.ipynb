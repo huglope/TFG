{
 "cells": [
  {
   "cell_type": "markdown",
   "id": "082e6c34",
   "metadata": {},
   "source": [
    "# TFG: Título del TFG"
   ]
  },
  {
   "cell_type": "markdown",
   "id": "08820e3c",
   "metadata": {},
   "source": [
    "## Hugo López Álvarez"
   ]
  },
  {
   "cell_type": "code",
   "execution_count": 3,
   "id": "a66de8d0",
   "metadata": {},
   "outputs": [],
   "source": [
    "import math\n",
    "import numpy    \n",
    "import pandas   \n",
    "import wandb\n",
    "import torch    \n",
    "import torch.nn as nn\n",
    "import torch.optim as optim\n",
    "from torch.utils.data import Dataset, DataLoader, Subset\n",
    "from sklearn.preprocessing import LabelEncoder, MinMaxScaler\n",
    "from sklearn.model_selection import train_test_split\n",
    "from sklearn.metrics import accuracy_score, precision_score, recall_score, f1_score, roc_auc_score, confusion_matrix, log_loss, fbeta_score\n",
    "from sklearn.model_selection import KFold, StratifiedKFold"
   ]
  },
  {
   "cell_type": "markdown",
   "id": "91b6b379",
   "metadata": {},
   "source": [
    "## Clases"
   ]
  },
  {
   "cell_type": "markdown",
   "id": "934e415a",
   "metadata": {},
   "source": [
    "Definición de la clase DatasetTFG que se usará para entrenar al modelo"
   ]
  },
  {
   "cell_type": "code",
   "execution_count": 4,
   "id": "5917f16f",
   "metadata": {},
   "outputs": [],
   "source": [
    "class DatasetTFG(Dataset):\n",
    "    def __init__(self, X, Y):\n",
    "        self.X = X\n",
    "        self.Y = Y\n",
    "    def __len__(self):\n",
    "        return len(self.X)\n",
    "    def __getitem__(self, idx):\n",
    "        return self.X[idx], self.Y[idx]"
   ]
  },
  {
   "cell_type": "markdown",
   "id": "86a33f8e",
   "metadata": {},
   "source": [
    "Definición de la clase Modelo\n",
    "- La capa1 transforma la dimensión de entrada a 64 neuronas\n",
    "- La capa2 pasa de las 64 neuronas a 1 neurona"
   ]
  },
  {
   "cell_type": "code",
   "execution_count": 5,
   "id": "4b046d24",
   "metadata": {},
   "outputs": [],
   "source": [
    "class Modelo(nn.Module):\n",
    "    def __init__(self, input_dim, ventanaOculta):\n",
    "        super().__init__()\n",
    "        self.capa1 = nn.Linear(input_dim, ventanaOculta)\n",
    "        self.capa2 =  nn.Linear(ventanaOculta, 1)\n",
    "        self.sigprueba = nn.Sigmoid() #Se pasa el volor por una sigmoidea\n",
    "        \n",
    "    def forward(self,  X):\n",
    "        X = self.capa1(X)\n",
    "        X = self.capa2(X)\n",
    "        #X = self.sigprueba(X)\n",
    "        return X"
   ]
  },
  {
   "cell_type": "markdown",
   "id": "e240a0da",
   "metadata": {},
   "source": [
    "# Funciones"
   ]
  },
  {
   "cell_type": "code",
   "execution_count": 6,
   "id": "fa2cafb4",
   "metadata": {},
   "outputs": [],
   "source": [
    "\n",
    "def split_ip_column(df, ip_column_name):\n",
    "    \n",
    "    # Divide la IP en cuatro partes\n",
    "    ip_parts = df[ip_column_name].str.split('.', expand=True)\n",
    "    \n",
    "    # Crea nombres de columnas basados en el nombre original\n",
    "    new_columns = {\n",
    "        0: f\"{ip_column_name}_part1\",\n",
    "        1: f\"{ip_column_name}_part2\", \n",
    "        2: f\"{ip_column_name}_part3\",\n",
    "        3: f\"{ip_column_name}_part4\"\n",
    "    }\n",
    "    \n",
    "    # Se elimina la columna de ip_column_name\n",
    "    df = df.drop(columns=[ip_column_name]) \n",
    "    \n",
    "    # Añade las nuevas columnas al DataFrame\n",
    "    for part, col_name in new_columns.items():\n",
    "        df[col_name] = pandas.to_numeric(ip_parts[part])  # Convierte a numérico\n",
    "    \n",
    "    return df"
   ]
  },
  {
   "cell_type": "markdown",
   "id": "8e2bc3e1",
   "metadata": {},
   "source": [
    "## Cargar datos"
   ]
  },
  {
   "cell_type": "code",
   "execution_count": 7,
   "id": "281eeefe",
   "metadata": {},
   "outputs": [],
   "source": [
    "fileData = pandas.read_csv('../Datasets/modUQ.csv')"
   ]
  },
  {
   "cell_type": "markdown",
   "id": "16021721",
   "metadata": {},
   "source": [
    "### Comprobación de la obtención correcta del csv"
   ]
  },
  {
   "cell_type": "code",
   "execution_count": 8,
   "id": "77275e21",
   "metadata": {},
   "outputs": [
    {
     "data": {
      "text/html": [
       "<div>\n",
       "<style scoped>\n",
       "    .dataframe tbody tr th:only-of-type {\n",
       "        vertical-align: middle;\n",
       "    }\n",
       "\n",
       "    .dataframe tbody tr th {\n",
       "        vertical-align: top;\n",
       "    }\n",
       "\n",
       "    .dataframe thead th {\n",
       "        text-align: right;\n",
       "    }\n",
       "</style>\n",
       "<table border=\"1\" class=\"dataframe\">\n",
       "  <thead>\n",
       "    <tr style=\"text-align: right;\">\n",
       "      <th></th>\n",
       "      <th>FLOW_START_MILLISECONDS</th>\n",
       "      <th>FLOW_END_MILLISECONDS</th>\n",
       "      <th>IPV4_SRC_ADDR</th>\n",
       "      <th>L4_SRC_PORT</th>\n",
       "      <th>IPV4_DST_ADDR</th>\n",
       "      <th>L4_DST_PORT</th>\n",
       "      <th>PROTOCOL</th>\n",
       "      <th>L7_PROTO</th>\n",
       "      <th>IN_BYTES</th>\n",
       "      <th>IN_PKTS</th>\n",
       "      <th>...</th>\n",
       "      <th>SRC_TO_DST_IAT_MIN</th>\n",
       "      <th>SRC_TO_DST_IAT_MAX</th>\n",
       "      <th>SRC_TO_DST_IAT_AVG</th>\n",
       "      <th>SRC_TO_DST_IAT_STDDEV</th>\n",
       "      <th>DST_TO_SRC_IAT_MIN</th>\n",
       "      <th>DST_TO_SRC_IAT_MAX</th>\n",
       "      <th>DST_TO_SRC_IAT_AVG</th>\n",
       "      <th>DST_TO_SRC_IAT_STDDEV</th>\n",
       "      <th>Label</th>\n",
       "      <th>Attack</th>\n",
       "    </tr>\n",
       "  </thead>\n",
       "  <tbody>\n",
       "    <tr>\n",
       "      <th>0</th>\n",
       "      <td>1424242193040</td>\n",
       "      <td>1424242193043</td>\n",
       "      <td>59.166.0.2</td>\n",
       "      <td>4894</td>\n",
       "      <td>149.171.126.3</td>\n",
       "      <td>53</td>\n",
       "      <td>17</td>\n",
       "      <td>5.0</td>\n",
       "      <td>146</td>\n",
       "      <td>2</td>\n",
       "      <td>...</td>\n",
       "      <td>0</td>\n",
       "      <td>0</td>\n",
       "      <td>0</td>\n",
       "      <td>0</td>\n",
       "      <td>0</td>\n",
       "      <td>0</td>\n",
       "      <td>0</td>\n",
       "      <td>0</td>\n",
       "      <td>0</td>\n",
       "      <td>Benign</td>\n",
       "    </tr>\n",
       "    <tr>\n",
       "      <th>1</th>\n",
       "      <td>1424242192744</td>\n",
       "      <td>1424242193079</td>\n",
       "      <td>59.166.0.4</td>\n",
       "      <td>52671</td>\n",
       "      <td>149.171.126.6</td>\n",
       "      <td>31992</td>\n",
       "      <td>6</td>\n",
       "      <td>11.0</td>\n",
       "      <td>4704</td>\n",
       "      <td>28</td>\n",
       "      <td>...</td>\n",
       "      <td>0</td>\n",
       "      <td>91</td>\n",
       "      <td>12</td>\n",
       "      <td>19</td>\n",
       "      <td>0</td>\n",
       "      <td>90</td>\n",
       "      <td>12</td>\n",
       "      <td>19</td>\n",
       "      <td>0</td>\n",
       "      <td>Benign</td>\n",
       "    </tr>\n",
       "    <tr>\n",
       "      <th>2</th>\n",
       "      <td>1424242190649</td>\n",
       "      <td>1424242193109</td>\n",
       "      <td>59.166.0.0</td>\n",
       "      <td>47290</td>\n",
       "      <td>149.171.126.9</td>\n",
       "      <td>6881</td>\n",
       "      <td>6</td>\n",
       "      <td>37.0</td>\n",
       "      <td>13662</td>\n",
       "      <td>238</td>\n",
       "      <td>...</td>\n",
       "      <td>0</td>\n",
       "      <td>1843</td>\n",
       "      <td>10</td>\n",
       "      <td>119</td>\n",
       "      <td>0</td>\n",
       "      <td>1843</td>\n",
       "      <td>5</td>\n",
       "      <td>88</td>\n",
       "      <td>0</td>\n",
       "      <td>Benign</td>\n",
       "    </tr>\n",
       "    <tr>\n",
       "      <th>3</th>\n",
       "      <td>1424242193145</td>\n",
       "      <td>1424242193146</td>\n",
       "      <td>59.166.0.8</td>\n",
       "      <td>43310</td>\n",
       "      <td>149.171.126.7</td>\n",
       "      <td>53</td>\n",
       "      <td>17</td>\n",
       "      <td>5.0</td>\n",
       "      <td>146</td>\n",
       "      <td>2</td>\n",
       "      <td>...</td>\n",
       "      <td>0</td>\n",
       "      <td>0</td>\n",
       "      <td>0</td>\n",
       "      <td>0</td>\n",
       "      <td>0</td>\n",
       "      <td>0</td>\n",
       "      <td>0</td>\n",
       "      <td>0</td>\n",
       "      <td>0</td>\n",
       "      <td>Benign</td>\n",
       "    </tr>\n",
       "    <tr>\n",
       "      <th>4</th>\n",
       "      <td>1424242193239</td>\n",
       "      <td>1424242193241</td>\n",
       "      <td>59.166.0.1</td>\n",
       "      <td>45870</td>\n",
       "      <td>149.171.126.1</td>\n",
       "      <td>53</td>\n",
       "      <td>17</td>\n",
       "      <td>5.0</td>\n",
       "      <td>130</td>\n",
       "      <td>2</td>\n",
       "      <td>...</td>\n",
       "      <td>0</td>\n",
       "      <td>0</td>\n",
       "      <td>0</td>\n",
       "      <td>0</td>\n",
       "      <td>0</td>\n",
       "      <td>0</td>\n",
       "      <td>0</td>\n",
       "      <td>0</td>\n",
       "      <td>0</td>\n",
       "      <td>Benign</td>\n",
       "    </tr>\n",
       "  </tbody>\n",
       "</table>\n",
       "<p>5 rows × 55 columns</p>\n",
       "</div>"
      ],
      "text/plain": [
       "   FLOW_START_MILLISECONDS  FLOW_END_MILLISECONDS IPV4_SRC_ADDR  L4_SRC_PORT  \\\n",
       "0            1424242193040          1424242193043    59.166.0.2         4894   \n",
       "1            1424242192744          1424242193079    59.166.0.4        52671   \n",
       "2            1424242190649          1424242193109    59.166.0.0        47290   \n",
       "3            1424242193145          1424242193146    59.166.0.8        43310   \n",
       "4            1424242193239          1424242193241    59.166.0.1        45870   \n",
       "\n",
       "   IPV4_DST_ADDR  L4_DST_PORT  PROTOCOL  L7_PROTO  IN_BYTES  IN_PKTS  ...  \\\n",
       "0  149.171.126.3           53        17       5.0       146        2  ...   \n",
       "1  149.171.126.6        31992         6      11.0      4704       28  ...   \n",
       "2  149.171.126.9         6881         6      37.0     13662      238  ...   \n",
       "3  149.171.126.7           53        17       5.0       146        2  ...   \n",
       "4  149.171.126.1           53        17       5.0       130        2  ...   \n",
       "\n",
       "   SRC_TO_DST_IAT_MIN  SRC_TO_DST_IAT_MAX  SRC_TO_DST_IAT_AVG  \\\n",
       "0                   0                   0                   0   \n",
       "1                   0                  91                  12   \n",
       "2                   0                1843                  10   \n",
       "3                   0                   0                   0   \n",
       "4                   0                   0                   0   \n",
       "\n",
       "   SRC_TO_DST_IAT_STDDEV  DST_TO_SRC_IAT_MIN  DST_TO_SRC_IAT_MAX  \\\n",
       "0                      0                   0                   0   \n",
       "1                     19                   0                  90   \n",
       "2                    119                   0                1843   \n",
       "3                      0                   0                   0   \n",
       "4                      0                   0                   0   \n",
       "\n",
       "   DST_TO_SRC_IAT_AVG  DST_TO_SRC_IAT_STDDEV  Label  Attack  \n",
       "0                   0                      0      0  Benign  \n",
       "1                  12                     19      0  Benign  \n",
       "2                   5                     88      0  Benign  \n",
       "3                   0                      0      0  Benign  \n",
       "4                   0                      0      0  Benign  \n",
       "\n",
       "[5 rows x 55 columns]"
      ]
     },
     "execution_count": 8,
     "metadata": {},
     "output_type": "execute_result"
    }
   ],
   "source": [
    "fileData.head()"
   ]
  },
  {
   "cell_type": "markdown",
   "id": "0a96a971",
   "metadata": {},
   "source": [
    "### Se convierten las columnas no numéricas para poder utilizarlas con pytorch"
   ]
  },
  {
   "cell_type": "code",
   "execution_count": 9,
   "id": "067862ec",
   "metadata": {},
   "outputs": [],
   "source": [
    "fileData = split_ip_column(fileData, 'IPV4_SRC_ADDR')\n",
    "fileData = split_ip_column(fileData, 'IPV4_DST_ADDR')\n",
    "fileData['Attack'] = LabelEncoder().fit_transform(fileData['Attack'])"
   ]
  },
  {
   "cell_type": "markdown",
   "id": "b5ac848f",
   "metadata": {},
   "source": [
    "### Se comprueba que los datos se han transformado correctamente"
   ]
  },
  {
   "cell_type": "code",
   "execution_count": 10,
   "id": "2678ffd3",
   "metadata": {},
   "outputs": [
    {
     "name": "stdout",
     "output_type": "stream",
     "text": [
      "FLOW_START_MILLISECONDS    int64\n",
      "FLOW_END_MILLISECONDS      int64\n",
      "L4_SRC_PORT                int64\n",
      "L4_DST_PORT                int64\n",
      "PROTOCOL                   int64\n",
      "                           ...  \n",
      "IPV4_SRC_ADDR_part4        int64\n",
      "IPV4_DST_ADDR_part1        int64\n",
      "IPV4_DST_ADDR_part2        int64\n",
      "IPV4_DST_ADDR_part3        int64\n",
      "IPV4_DST_ADDR_part4        int64\n",
      "Length: 61, dtype: object\n"
     ]
    }
   ],
   "source": [
    "print(fileData.dtypes)"
   ]
  },
  {
   "cell_type": "markdown",
   "id": "4d28c573",
   "metadata": {},
   "source": [
    "## Se eliminan los datos con valores infinitos"
   ]
  },
  {
   "cell_type": "code",
   "execution_count": 11,
   "id": "8249588b",
   "metadata": {},
   "outputs": [
    {
     "name": "stdout",
     "output_type": "stream",
     "text": [
      "¿Existen valores infinitos en X?:  True\n",
      "¿Siguen existiendo valores infinitos en X?:  False\n"
     ]
    }
   ],
   "source": [
    "print(\"¿Existen valores infinitos en X?: \", numpy.isinf(fileData.values).any())\n",
    "fileData = fileData.replace([numpy.inf, -numpy.inf], numpy.nan).dropna()\n",
    "print(\"¿Siguen existiendo valores infinitos en X?: \", numpy.isinf(fileData.values).any())"
   ]
  },
  {
   "cell_type": "markdown",
   "id": "1803ca7d",
   "metadata": {},
   "source": [
    "### Se separan las características (X) de la etiqueta (Y)"
   ]
  },
  {
   "cell_type": "code",
   "execution_count": 12,
   "id": "b4a7f031",
   "metadata": {},
   "outputs": [],
   "source": [
    "X = fileData.drop(columns=['Label', 'Attack', 'FLOW_START_MILLISECONDS', 'FLOW_END_MILLISECONDS']).values\n",
    "Y = fileData['Label'].values"
   ]
  },
  {
   "cell_type": "markdown",
   "id": "9b84d514",
   "metadata": {},
   "source": [
    "## Se separan los datos del entrenamiento de los datos de prueba\n",
    "El entrenamiento tendrá el 80% de los datos\n",
    "\n",
    "La prueba tendrá el 20% de los datos"
   ]
  },
  {
   "cell_type": "code",
   "execution_count": 13,
   "id": "b5706da4",
   "metadata": {},
   "outputs": [],
   "source": [
    "X_entrena, X_prueba, Y_entrana, Y_prueba = train_test_split(\n",
    "    X, Y, test_size=0.2, random_state=42,  stratify=Y\n",
    ")"
   ]
  },
  {
   "cell_type": "markdown",
   "id": "5085b6e7",
   "metadata": {},
   "source": [
    "## Se normalizan los datos"
   ]
  },
  {
   "cell_type": "code",
   "execution_count": 14,
   "id": "db3ffa32",
   "metadata": {},
   "outputs": [],
   "source": [
    "escalador = MinMaxScaler(feature_range=(0,1))\n",
    "X_entrena_normalizado = escalador.fit_transform(X_entrena)"
   ]
  },
  {
   "cell_type": "markdown",
   "id": "056a8afc",
   "metadata": {},
   "source": [
    "### Se convierten los datos a tensores de Pytorch"
   ]
  },
  {
   "cell_type": "code",
   "execution_count": 15,
   "id": "f95e3105",
   "metadata": {},
   "outputs": [],
   "source": [
    "X_entrena_tensor = torch.tensor(X_entrena_normalizado, dtype=torch.float32)\n",
    "Y_entrena_tensor = torch.tensor(Y_entrana, dtype=torch.float32)"
   ]
  },
  {
   "cell_type": "markdown",
   "id": "76fec3c1",
   "metadata": {},
   "source": [
    "## Creación del Dataset personalizado"
   ]
  },
  {
   "cell_type": "code",
   "execution_count": 16,
   "id": "451c11fc",
   "metadata": {},
   "outputs": [],
   "source": [
    "dataset_entrena = DatasetTFG(X_entrena_tensor, Y_entrena_tensor)"
   ]
  },
  {
   "cell_type": "markdown",
   "id": "49088650",
   "metadata": {},
   "source": [
    "## Se configura pérdida y optimizador"
   ]
  },
  {
   "cell_type": "code",
   "execution_count": null,
   "id": "12bd5e9f",
   "metadata": {},
   "outputs": [],
   "source": [
    "#perdida = nn.BCELoss() if len(Y_entrena_tensor.unique()) > 2 else nn.CrossEntropyLoss()\n",
    "pos_weight = torch.tensor([(len(Y_entrana)-sum(Y_entrana))/sum(Y_entrana)])  # Auto-cálculo\n",
    "perdida = nn.BCEWithLogitsLoss(pos_weight=pos_weight)"
   ]
  },
  {
   "cell_type": "markdown",
   "id": "d4c880f5",
   "metadata": {},
   "source": [
    "## Se preparan los datos de prueba"
   ]
  },
  {
   "cell_type": "code",
   "execution_count": null,
   "id": "133f9ce0",
   "metadata": {},
   "outputs": [],
   "source": [
    "X_prueba_normalizado = escalador.transform(X_prueba)\n",
    "\n",
    "X_prueba_tensor = torch.tensor(X_prueba_normalizado, dtype=torch.float32)\n",
    "Y_prueba_tensor = torch.tensor(Y_prueba, dtype=torch.float32)\n",
    "\n",
    "dataset_prueba = DatasetTFG(X_prueba_tensor, Y_prueba_tensor)\n"
   ]
  },
  {
   "cell_type": "markdown",
   "id": "4591504a",
   "metadata": {},
   "source": [
    "## Definición de hiperparámetros"
   ]
  },
  {
   "cell_type": "code",
   "execution_count": 19,
   "id": "3612c337",
   "metadata": {},
   "outputs": [],
   "source": [
    "batch_size=[2000, 10000, 15000, 20000]\n",
    "learning_rate=[0.01, 0.001, 0.0001]\n",
    "epochs=[10, 20, 30]\n",
    "hidden_factor=[math.ceil(X_entrena_tensor.size(1)/2), X_entrena_tensor.size(1), X_entrena_tensor.size(1)*2] # la mitad de las columnas, el número de columnas y el doble\n",
    "\n",
    "kf = StratifiedKFold(n_splits=5, shuffle=True, random_state=42)"
   ]
  },
  {
   "cell_type": "markdown",
   "id": "ece36861",
   "metadata": {},
   "source": [
    "## Bucle de entrenamiento o épocas"
   ]
  },
  {
   "cell_type": "code",
   "execution_count": null,
   "id": "134de800",
   "metadata": {},
   "outputs": [
    {
     "name": "stdout",
     "output_type": "stream",
     "text": [
      "\n",
      "--- Fold 1 ---\n"
     ]
    },
    {
     "name": "stderr",
     "output_type": "stream",
     "text": [
      "\u001b[34m\u001b[1mwandb\u001b[0m: Currently logged in as: \u001b[33malv-lop-hugo\u001b[0m (\u001b[33mTFG_Hugo\u001b[0m) to \u001b[32mhttps://api.wandb.ai\u001b[0m. Use \u001b[1m`wandb login --relogin`\u001b[0m to force relogin\n"
     ]
    },
    {
     "data": {
      "text/html": [
       "Tracking run with wandb version 0.19.10"
      ],
      "text/plain": [
       "<IPython.core.display.HTML object>"
      ]
     },
     "metadata": {},
     "output_type": "display_data"
    },
    {
     "data": {
      "text/html": [
       "Run data is saved locally in <code>/home/hugo/TFG/Notebooks/wandb/run-20250517_123824-v1814ruc</code>"
      ],
      "text/plain": [
       "<IPython.core.display.HTML object>"
      ]
     },
     "metadata": {},
     "output_type": "display_data"
    },
    {
     "data": {
      "text/html": [
       "Syncing run <strong><a href='https://wandb.ai/TFG_Hugo/TFG_BIN_CV/runs/v1814ruc' target=\"_blank\">TFG_BIN_bs(2000)_lr(0.01)_hs(29)_e(10)_fold(1)</a></strong> to <a href='https://wandb.ai/TFG_Hugo/TFG_BIN_CV' target=\"_blank\">Weights & Biases</a> (<a href='https://wandb.me/developer-guide' target=\"_blank\">docs</a>)<br>"
      ],
      "text/plain": [
       "<IPython.core.display.HTML object>"
      ]
     },
     "metadata": {},
     "output_type": "display_data"
    },
    {
     "data": {
      "text/html": [
       " View project at <a href='https://wandb.ai/TFG_Hugo/TFG_BIN_CV' target=\"_blank\">https://wandb.ai/TFG_Hugo/TFG_BIN_CV</a>"
      ],
      "text/plain": [
       "<IPython.core.display.HTML object>"
      ]
     },
     "metadata": {},
     "output_type": "display_data"
    },
    {
     "data": {
      "text/html": [
       " View run at <a href='https://wandb.ai/TFG_Hugo/TFG_BIN_CV/runs/v1814ruc' target=\"_blank\">https://wandb.ai/TFG_Hugo/TFG_BIN_CV/runs/v1814ruc</a>"
      ],
      "text/plain": [
       "<IPython.core.display.HTML object>"
      ]
     },
     "metadata": {},
     "output_type": "display_data"
    },
    {
     "data": {
      "text/html": [],
      "text/plain": [
       "<IPython.core.display.HTML object>"
      ]
     },
     "metadata": {},
     "output_type": "display_data"
    },
    {
     "data": {
      "text/html": [
       "<br>    <style><br>        .wandb-row {<br>            display: flex;<br>            flex-direction: row;<br>            flex-wrap: wrap;<br>            justify-content: flex-start;<br>            width: 100%;<br>        }<br>        .wandb-col {<br>            display: flex;<br>            flex-direction: column;<br>            flex-basis: 100%;<br>            flex: 1;<br>            padding: 10px;<br>        }<br>    </style><br><div class=\"wandb-row\"><div class=\"wandb-col\"><h3>Run history:</h3><br/><table class=\"wandb\"><tr><td>accuracy</td><td>▁</td></tr><tr><td>f1</td><td>▁</td></tr><tr><td>f2</td><td>▁</td></tr><tr><td>false_negatives</td><td>▁</td></tr><tr><td>false_positives</td><td>▁</td></tr><tr><td>fold</td><td>▁</td></tr><tr><td>loss</td><td>▁</td></tr><tr><td>precision</td><td>▁</td></tr><tr><td>recall</td><td>▁</td></tr><tr><td>roc_auc</td><td>▁</td></tr><tr><td>specificity</td><td>▁</td></tr><tr><td>true_negatives</td><td>▁</td></tr><tr><td>true_positives</td><td>▁</td></tr></table><br/></div><div class=\"wandb-col\"><h3>Run summary:</h3><br/><table class=\"wandb\"><tr><td>accuracy</td><td>1.0</td></tr><tr><td>f1</td><td>0.99997</td></tr><tr><td>f2</td><td>0.99995</td></tr><tr><td>false_negatives</td><td>1</td></tr><tr><td>false_positives</td><td>0</td></tr><tr><td>fold</td><td>1</td></tr><tr><td>loss</td><td>3e-05</td></tr><tr><td>precision</td><td>1</td></tr><tr><td>recall</td><td>0.99993</td></tr><tr><td>roc_auc</td><td>1.0</td></tr><tr><td>specificity</td><td>1</td></tr><tr><td>true_negatives</td><td>344165</td></tr><tr><td>true_positives</td><td>14703</td></tr></table><br/></div></div>"
      ],
      "text/plain": [
       "<IPython.core.display.HTML object>"
      ]
     },
     "metadata": {},
     "output_type": "display_data"
    },
    {
     "data": {
      "text/html": [
       " View run <strong style=\"color:#cdcd00\">TFG_BIN_bs(2000)_lr(0.01)_hs(29)_e(10)_fold(1)</strong> at: <a href='https://wandb.ai/TFG_Hugo/TFG_BIN_CV/runs/v1814ruc' target=\"_blank\">https://wandb.ai/TFG_Hugo/TFG_BIN_CV/runs/v1814ruc</a><br> View project at: <a href='https://wandb.ai/TFG_Hugo/TFG_BIN_CV' target=\"_blank\">https://wandb.ai/TFG_Hugo/TFG_BIN_CV</a><br>Synced 5 W&B file(s), 0 media file(s), 0 artifact file(s) and 0 other file(s)"
      ],
      "text/plain": [
       "<IPython.core.display.HTML object>"
      ]
     },
     "metadata": {},
     "output_type": "display_data"
    },
    {
     "data": {
      "text/html": [
       "Find logs at: <code>./wandb/run-20250517_123824-v1814ruc/logs</code>"
      ],
      "text/plain": [
       "<IPython.core.display.HTML object>"
      ]
     },
     "metadata": {},
     "output_type": "display_data"
    },
    {
     "name": "stdout",
     "output_type": "stream",
     "text": [
      "\n",
      "--- Fold 2 ---\n"
     ]
    },
    {
     "data": {
      "text/html": [
       "Tracking run with wandb version 0.19.10"
      ],
      "text/plain": [
       "<IPython.core.display.HTML object>"
      ]
     },
     "metadata": {},
     "output_type": "display_data"
    },
    {
     "data": {
      "text/html": [
       "Run data is saved locally in <code>/home/hugo/TFG/Notebooks/wandb/run-20250517_123951-pm7t5j2t</code>"
      ],
      "text/plain": [
       "<IPython.core.display.HTML object>"
      ]
     },
     "metadata": {},
     "output_type": "display_data"
    },
    {
     "data": {
      "text/html": [
       "Syncing run <strong><a href='https://wandb.ai/TFG_Hugo/TFG_BIN_CV/runs/pm7t5j2t' target=\"_blank\">TFG_BIN_bs(2000)_lr(0.01)_hs(29)_e(10)_fold(2)</a></strong> to <a href='https://wandb.ai/TFG_Hugo/TFG_BIN_CV' target=\"_blank\">Weights & Biases</a> (<a href='https://wandb.me/developer-guide' target=\"_blank\">docs</a>)<br>"
      ],
      "text/plain": [
       "<IPython.core.display.HTML object>"
      ]
     },
     "metadata": {},
     "output_type": "display_data"
    },
    {
     "data": {
      "text/html": [
       " View project at <a href='https://wandb.ai/TFG_Hugo/TFG_BIN_CV' target=\"_blank\">https://wandb.ai/TFG_Hugo/TFG_BIN_CV</a>"
      ],
      "text/plain": [
       "<IPython.core.display.HTML object>"
      ]
     },
     "metadata": {},
     "output_type": "display_data"
    },
    {
     "data": {
      "text/html": [
       " View run at <a href='https://wandb.ai/TFG_Hugo/TFG_BIN_CV/runs/pm7t5j2t' target=\"_blank\">https://wandb.ai/TFG_Hugo/TFG_BIN_CV/runs/pm7t5j2t</a>"
      ],
      "text/plain": [
       "<IPython.core.display.HTML object>"
      ]
     },
     "metadata": {},
     "output_type": "display_data"
    },
    {
     "data": {
      "text/html": [],
      "text/plain": [
       "<IPython.core.display.HTML object>"
      ]
     },
     "metadata": {},
     "output_type": "display_data"
    },
    {
     "data": {
      "text/html": [
       "<br>    <style><br>        .wandb-row {<br>            display: flex;<br>            flex-direction: row;<br>            flex-wrap: wrap;<br>            justify-content: flex-start;<br>            width: 100%;<br>        }<br>        .wandb-col {<br>            display: flex;<br>            flex-direction: column;<br>            flex-basis: 100%;<br>            flex: 1;<br>            padding: 10px;<br>        }<br>    </style><br><div class=\"wandb-row\"><div class=\"wandb-col\"><h3>Run history:</h3><br/><table class=\"wandb\"><tr><td>accuracy</td><td>▁</td></tr><tr><td>f1</td><td>▁</td></tr><tr><td>f2</td><td>▁</td></tr><tr><td>false_negatives</td><td>▁</td></tr><tr><td>false_positives</td><td>▁</td></tr><tr><td>fold</td><td>▁</td></tr><tr><td>loss</td><td>▁</td></tr><tr><td>precision</td><td>▁</td></tr><tr><td>recall</td><td>▁</td></tr><tr><td>roc_auc</td><td>▁</td></tr><tr><td>specificity</td><td>▁</td></tr><tr><td>true_negatives</td><td>▁</td></tr><tr><td>true_positives</td><td>▁</td></tr></table><br/></div><div class=\"wandb-col\"><h3>Run summary:</h3><br/><table class=\"wandb\"><tr><td>accuracy</td><td>1</td></tr><tr><td>f1</td><td>1</td></tr><tr><td>f2</td><td>1</td></tr><tr><td>false_negatives</td><td>0</td></tr><tr><td>false_positives</td><td>0</td></tr><tr><td>fold</td><td>2</td></tr><tr><td>loss</td><td>0.0</td></tr><tr><td>precision</td><td>1</td></tr><tr><td>recall</td><td>1</td></tr><tr><td>roc_auc</td><td>1</td></tr><tr><td>specificity</td><td>1</td></tr><tr><td>true_negatives</td><td>344164</td></tr><tr><td>true_positives</td><td>14705</td></tr></table><br/></div></div>"
      ],
      "text/plain": [
       "<IPython.core.display.HTML object>"
      ]
     },
     "metadata": {},
     "output_type": "display_data"
    },
    {
     "data": {
      "text/html": [
       " View run <strong style=\"color:#cdcd00\">TFG_BIN_bs(2000)_lr(0.01)_hs(29)_e(10)_fold(2)</strong> at: <a href='https://wandb.ai/TFG_Hugo/TFG_BIN_CV/runs/pm7t5j2t' target=\"_blank\">https://wandb.ai/TFG_Hugo/TFG_BIN_CV/runs/pm7t5j2t</a><br> View project at: <a href='https://wandb.ai/TFG_Hugo/TFG_BIN_CV' target=\"_blank\">https://wandb.ai/TFG_Hugo/TFG_BIN_CV</a><br>Synced 5 W&B file(s), 0 media file(s), 0 artifact file(s) and 0 other file(s)"
      ],
      "text/plain": [
       "<IPython.core.display.HTML object>"
      ]
     },
     "metadata": {},
     "output_type": "display_data"
    },
    {
     "data": {
      "text/html": [
       "Find logs at: <code>./wandb/run-20250517_123951-pm7t5j2t/logs</code>"
      ],
      "text/plain": [
       "<IPython.core.display.HTML object>"
      ]
     },
     "metadata": {},
     "output_type": "display_data"
    },
    {
     "name": "stdout",
     "output_type": "stream",
     "text": [
      "\n",
      "--- Fold 3 ---\n"
     ]
    },
    {
     "data": {
      "text/html": [
       "Tracking run with wandb version 0.19.10"
      ],
      "text/plain": [
       "<IPython.core.display.HTML object>"
      ]
     },
     "metadata": {},
     "output_type": "display_data"
    },
    {
     "data": {
      "text/html": [
       "Run data is saved locally in <code>/home/hugo/TFG/Notebooks/wandb/run-20250517_124120-kqfx4tpu</code>"
      ],
      "text/plain": [
       "<IPython.core.display.HTML object>"
      ]
     },
     "metadata": {},
     "output_type": "display_data"
    },
    {
     "data": {
      "text/html": [
       "Syncing run <strong><a href='https://wandb.ai/TFG_Hugo/TFG_BIN_CV/runs/kqfx4tpu' target=\"_blank\">TFG_BIN_bs(2000)_lr(0.01)_hs(29)_e(10)_fold(3)</a></strong> to <a href='https://wandb.ai/TFG_Hugo/TFG_BIN_CV' target=\"_blank\">Weights & Biases</a> (<a href='https://wandb.me/developer-guide' target=\"_blank\">docs</a>)<br>"
      ],
      "text/plain": [
       "<IPython.core.display.HTML object>"
      ]
     },
     "metadata": {},
     "output_type": "display_data"
    },
    {
     "data": {
      "text/html": [
       " View project at <a href='https://wandb.ai/TFG_Hugo/TFG_BIN_CV' target=\"_blank\">https://wandb.ai/TFG_Hugo/TFG_BIN_CV</a>"
      ],
      "text/plain": [
       "<IPython.core.display.HTML object>"
      ]
     },
     "metadata": {},
     "output_type": "display_data"
    },
    {
     "data": {
      "text/html": [
       " View run at <a href='https://wandb.ai/TFG_Hugo/TFG_BIN_CV/runs/kqfx4tpu' target=\"_blank\">https://wandb.ai/TFG_Hugo/TFG_BIN_CV/runs/kqfx4tpu</a>"
      ],
      "text/plain": [
       "<IPython.core.display.HTML object>"
      ]
     },
     "metadata": {},
     "output_type": "display_data"
    },
    {
     "data": {
      "text/html": [],
      "text/plain": [
       "<IPython.core.display.HTML object>"
      ]
     },
     "metadata": {},
     "output_type": "display_data"
    },
    {
     "data": {
      "text/html": [
       "<br>    <style><br>        .wandb-row {<br>            display: flex;<br>            flex-direction: row;<br>            flex-wrap: wrap;<br>            justify-content: flex-start;<br>            width: 100%;<br>        }<br>        .wandb-col {<br>            display: flex;<br>            flex-direction: column;<br>            flex-basis: 100%;<br>            flex: 1;<br>            padding: 10px;<br>        }<br>    </style><br><div class=\"wandb-row\"><div class=\"wandb-col\"><h3>Run history:</h3><br/><table class=\"wandb\"><tr><td>accuracy</td><td>▁</td></tr><tr><td>f1</td><td>▁</td></tr><tr><td>f2</td><td>▁</td></tr><tr><td>false_negatives</td><td>▁</td></tr><tr><td>false_positives</td><td>▁</td></tr><tr><td>fold</td><td>▁</td></tr><tr><td>loss</td><td>▁</td></tr><tr><td>precision</td><td>▁</td></tr><tr><td>recall</td><td>▁</td></tr><tr><td>roc_auc</td><td>▁</td></tr><tr><td>specificity</td><td>▁</td></tr><tr><td>true_negatives</td><td>▁</td></tr><tr><td>true_positives</td><td>▁</td></tr></table><br/></div><div class=\"wandb-col\"><h3>Run summary:</h3><br/><table class=\"wandb\"><tr><td>accuracy</td><td>1</td></tr><tr><td>f1</td><td>1</td></tr><tr><td>f2</td><td>1</td></tr><tr><td>false_negatives</td><td>0</td></tr><tr><td>false_positives</td><td>0</td></tr><tr><td>fold</td><td>3</td></tr><tr><td>loss</td><td>0.0</td></tr><tr><td>precision</td><td>1</td></tr><tr><td>recall</td><td>1</td></tr><tr><td>roc_auc</td><td>1</td></tr><tr><td>specificity</td><td>1</td></tr><tr><td>true_negatives</td><td>344164</td></tr><tr><td>true_positives</td><td>14705</td></tr></table><br/></div></div>"
      ],
      "text/plain": [
       "<IPython.core.display.HTML object>"
      ]
     },
     "metadata": {},
     "output_type": "display_data"
    },
    {
     "data": {
      "text/html": [
       " View run <strong style=\"color:#cdcd00\">TFG_BIN_bs(2000)_lr(0.01)_hs(29)_e(10)_fold(3)</strong> at: <a href='https://wandb.ai/TFG_Hugo/TFG_BIN_CV/runs/kqfx4tpu' target=\"_blank\">https://wandb.ai/TFG_Hugo/TFG_BIN_CV/runs/kqfx4tpu</a><br> View project at: <a href='https://wandb.ai/TFG_Hugo/TFG_BIN_CV' target=\"_blank\">https://wandb.ai/TFG_Hugo/TFG_BIN_CV</a><br>Synced 5 W&B file(s), 0 media file(s), 0 artifact file(s) and 0 other file(s)"
      ],
      "text/plain": [
       "<IPython.core.display.HTML object>"
      ]
     },
     "metadata": {},
     "output_type": "display_data"
    },
    {
     "data": {
      "text/html": [
       "Find logs at: <code>./wandb/run-20250517_124120-kqfx4tpu/logs</code>"
      ],
      "text/plain": [
       "<IPython.core.display.HTML object>"
      ]
     },
     "metadata": {},
     "output_type": "display_data"
    },
    {
     "name": "stdout",
     "output_type": "stream",
     "text": [
      "\n",
      "--- Fold 4 ---\n"
     ]
    },
    {
     "data": {
      "text/html": [
       "Tracking run with wandb version 0.19.10"
      ],
      "text/plain": [
       "<IPython.core.display.HTML object>"
      ]
     },
     "metadata": {},
     "output_type": "display_data"
    },
    {
     "data": {
      "text/html": [
       "Run data is saved locally in <code>/home/hugo/TFG/Notebooks/wandb/run-20250517_124248-l42t5zrr</code>"
      ],
      "text/plain": [
       "<IPython.core.display.HTML object>"
      ]
     },
     "metadata": {},
     "output_type": "display_data"
    },
    {
     "data": {
      "text/html": [
       "Syncing run <strong><a href='https://wandb.ai/TFG_Hugo/TFG_BIN_CV/runs/l42t5zrr' target=\"_blank\">TFG_BIN_bs(2000)_lr(0.01)_hs(29)_e(10)_fold(4)</a></strong> to <a href='https://wandb.ai/TFG_Hugo/TFG_BIN_CV' target=\"_blank\">Weights & Biases</a> (<a href='https://wandb.me/developer-guide' target=\"_blank\">docs</a>)<br>"
      ],
      "text/plain": [
       "<IPython.core.display.HTML object>"
      ]
     },
     "metadata": {},
     "output_type": "display_data"
    },
    {
     "data": {
      "text/html": [
       " View project at <a href='https://wandb.ai/TFG_Hugo/TFG_BIN_CV' target=\"_blank\">https://wandb.ai/TFG_Hugo/TFG_BIN_CV</a>"
      ],
      "text/plain": [
       "<IPython.core.display.HTML object>"
      ]
     },
     "metadata": {},
     "output_type": "display_data"
    },
    {
     "data": {
      "text/html": [
       " View run at <a href='https://wandb.ai/TFG_Hugo/TFG_BIN_CV/runs/l42t5zrr' target=\"_blank\">https://wandb.ai/TFG_Hugo/TFG_BIN_CV/runs/l42t5zrr</a>"
      ],
      "text/plain": [
       "<IPython.core.display.HTML object>"
      ]
     },
     "metadata": {},
     "output_type": "display_data"
    },
    {
     "ename": "KeyboardInterrupt",
     "evalue": "",
     "output_type": "error",
     "traceback": [
      "\u001b[0;31m---------------------------------------------------------------------------\u001b[0m",
      "\u001b[0;31mKeyboardInterrupt\u001b[0m                         Traceback (most recent call last)",
      "Cell \u001b[0;32mIn[20], line 44\u001b[0m\n\u001b[1;32m     42\u001b[0m \u001b[38;5;28;01mfor\u001b[39;00m epoch \u001b[38;5;129;01min\u001b[39;00m \u001b[38;5;28mrange\u001b[39m(e):\n\u001b[1;32m     43\u001b[0m     modelo\u001b[38;5;241m.\u001b[39mtrain()\n\u001b[0;32m---> 44\u001b[0m     \u001b[38;5;28;01mfor\u001b[39;00m batch_X, batch_Y \u001b[38;5;129;01min\u001b[39;00m train_loader:\n\u001b[1;32m     45\u001b[0m         optimizador\u001b[38;5;241m.\u001b[39mzero_grad()\n\u001b[1;32m     46\u001b[0m         salidas \u001b[38;5;241m=\u001b[39m modelo(batch_X)\n",
      "File \u001b[0;32m~/anaconda3/lib/python3.12/site-packages/torch/utils/data/dataloader.py:733\u001b[0m, in \u001b[0;36m_BaseDataLoaderIter.__next__\u001b[0;34m(self)\u001b[0m\n\u001b[1;32m    730\u001b[0m \u001b[38;5;28;01mif\u001b[39;00m \u001b[38;5;28mself\u001b[39m\u001b[38;5;241m.\u001b[39m_sampler_iter \u001b[38;5;129;01mis\u001b[39;00m \u001b[38;5;28;01mNone\u001b[39;00m:\n\u001b[1;32m    731\u001b[0m     \u001b[38;5;66;03m# TODO(https://github.com/pytorch/pytorch/issues/76750)\u001b[39;00m\n\u001b[1;32m    732\u001b[0m     \u001b[38;5;28mself\u001b[39m\u001b[38;5;241m.\u001b[39m_reset()  \u001b[38;5;66;03m# type: ignore[call-arg]\u001b[39;00m\n\u001b[0;32m--> 733\u001b[0m data \u001b[38;5;241m=\u001b[39m \u001b[38;5;28mself\u001b[39m\u001b[38;5;241m.\u001b[39m_next_data()\n\u001b[1;32m    734\u001b[0m \u001b[38;5;28mself\u001b[39m\u001b[38;5;241m.\u001b[39m_num_yielded \u001b[38;5;241m+\u001b[39m\u001b[38;5;241m=\u001b[39m \u001b[38;5;241m1\u001b[39m\n\u001b[1;32m    735\u001b[0m \u001b[38;5;28;01mif\u001b[39;00m (\n\u001b[1;32m    736\u001b[0m     \u001b[38;5;28mself\u001b[39m\u001b[38;5;241m.\u001b[39m_dataset_kind \u001b[38;5;241m==\u001b[39m _DatasetKind\u001b[38;5;241m.\u001b[39mIterable\n\u001b[1;32m    737\u001b[0m     \u001b[38;5;129;01mand\u001b[39;00m \u001b[38;5;28mself\u001b[39m\u001b[38;5;241m.\u001b[39m_IterableDataset_len_called \u001b[38;5;129;01mis\u001b[39;00m \u001b[38;5;129;01mnot\u001b[39;00m \u001b[38;5;28;01mNone\u001b[39;00m\n\u001b[1;32m    738\u001b[0m     \u001b[38;5;129;01mand\u001b[39;00m \u001b[38;5;28mself\u001b[39m\u001b[38;5;241m.\u001b[39m_num_yielded \u001b[38;5;241m>\u001b[39m \u001b[38;5;28mself\u001b[39m\u001b[38;5;241m.\u001b[39m_IterableDataset_len_called\n\u001b[1;32m    739\u001b[0m ):\n",
      "File \u001b[0;32m~/anaconda3/lib/python3.12/site-packages/torch/utils/data/dataloader.py:789\u001b[0m, in \u001b[0;36m_SingleProcessDataLoaderIter._next_data\u001b[0;34m(self)\u001b[0m\n\u001b[1;32m    787\u001b[0m \u001b[38;5;28;01mdef\u001b[39;00m \u001b[38;5;21m_next_data\u001b[39m(\u001b[38;5;28mself\u001b[39m):\n\u001b[1;32m    788\u001b[0m     index \u001b[38;5;241m=\u001b[39m \u001b[38;5;28mself\u001b[39m\u001b[38;5;241m.\u001b[39m_next_index()  \u001b[38;5;66;03m# may raise StopIteration\u001b[39;00m\n\u001b[0;32m--> 789\u001b[0m     data \u001b[38;5;241m=\u001b[39m \u001b[38;5;28mself\u001b[39m\u001b[38;5;241m.\u001b[39m_dataset_fetcher\u001b[38;5;241m.\u001b[39mfetch(index)  \u001b[38;5;66;03m# may raise StopIteration\u001b[39;00m\n\u001b[1;32m    790\u001b[0m     \u001b[38;5;28;01mif\u001b[39;00m \u001b[38;5;28mself\u001b[39m\u001b[38;5;241m.\u001b[39m_pin_memory:\n\u001b[1;32m    791\u001b[0m         data \u001b[38;5;241m=\u001b[39m _utils\u001b[38;5;241m.\u001b[39mpin_memory\u001b[38;5;241m.\u001b[39mpin_memory(data, \u001b[38;5;28mself\u001b[39m\u001b[38;5;241m.\u001b[39m_pin_memory_device)\n",
      "File \u001b[0;32m~/anaconda3/lib/python3.12/site-packages/torch/utils/data/_utils/fetch.py:50\u001b[0m, in \u001b[0;36m_MapDatasetFetcher.fetch\u001b[0;34m(self, possibly_batched_index)\u001b[0m\n\u001b[1;32m     48\u001b[0m \u001b[38;5;28;01mif\u001b[39;00m \u001b[38;5;28mself\u001b[39m\u001b[38;5;241m.\u001b[39mauto_collation:\n\u001b[1;32m     49\u001b[0m     \u001b[38;5;28;01mif\u001b[39;00m \u001b[38;5;28mhasattr\u001b[39m(\u001b[38;5;28mself\u001b[39m\u001b[38;5;241m.\u001b[39mdataset, \u001b[38;5;124m\"\u001b[39m\u001b[38;5;124m__getitems__\u001b[39m\u001b[38;5;124m\"\u001b[39m) \u001b[38;5;129;01mand\u001b[39;00m \u001b[38;5;28mself\u001b[39m\u001b[38;5;241m.\u001b[39mdataset\u001b[38;5;241m.\u001b[39m__getitems__:\n\u001b[0;32m---> 50\u001b[0m         data \u001b[38;5;241m=\u001b[39m \u001b[38;5;28mself\u001b[39m\u001b[38;5;241m.\u001b[39mdataset\u001b[38;5;241m.\u001b[39m__getitems__(possibly_batched_index)\n\u001b[1;32m     51\u001b[0m     \u001b[38;5;28;01melse\u001b[39;00m:\n\u001b[1;32m     52\u001b[0m         data \u001b[38;5;241m=\u001b[39m [\u001b[38;5;28mself\u001b[39m\u001b[38;5;241m.\u001b[39mdataset[idx] \u001b[38;5;28;01mfor\u001b[39;00m idx \u001b[38;5;129;01min\u001b[39;00m possibly_batched_index]\n",
      "File \u001b[0;32m~/anaconda3/lib/python3.12/site-packages/torch/utils/data/dataset.py:416\u001b[0m, in \u001b[0;36mSubset.__getitems__\u001b[0;34m(self, indices)\u001b[0m\n\u001b[1;32m    414\u001b[0m     \u001b[38;5;28;01mreturn\u001b[39;00m \u001b[38;5;28mself\u001b[39m\u001b[38;5;241m.\u001b[39mdataset\u001b[38;5;241m.\u001b[39m__getitems__([\u001b[38;5;28mself\u001b[39m\u001b[38;5;241m.\u001b[39mindices[idx] \u001b[38;5;28;01mfor\u001b[39;00m idx \u001b[38;5;129;01min\u001b[39;00m indices])  \u001b[38;5;66;03m# type: ignore[attr-defined]\u001b[39;00m\n\u001b[1;32m    415\u001b[0m \u001b[38;5;28;01melse\u001b[39;00m:\n\u001b[0;32m--> 416\u001b[0m     \u001b[38;5;28;01mreturn\u001b[39;00m [\u001b[38;5;28mself\u001b[39m\u001b[38;5;241m.\u001b[39mdataset[\u001b[38;5;28mself\u001b[39m\u001b[38;5;241m.\u001b[39mindices[idx]] \u001b[38;5;28;01mfor\u001b[39;00m idx \u001b[38;5;129;01min\u001b[39;00m indices]\n",
      "\u001b[0;31mKeyboardInterrupt\u001b[0m: "
     ]
    }
   ],
   "source": [
    "for bs in batch_size:\n",
    "    for lr in learning_rate:\n",
    "        for hs in hidden_factor:\n",
    "            for e in epochs:\n",
    "                # Listas para almacenar métricas de cada fold\n",
    "                fold_metrics = {\n",
    "                    'loss': [], 'accuracy': [], 'precision': [], \n",
    "                    'recall': [], 'f1': [], 'f2': [], 'roc_auc': [],\n",
    "                    'specificity': [], 'tp': [], 'fp': [], 'tn': [], 'fn': []\n",
    "                }\n",
    "                \n",
    "                # Validación cruzada\n",
    "                for fold, (train_idx, val_idx) in enumerate(kf.split(X_entrena_tensor, Y_entrena_tensor)):\n",
    "                    print(f\"\\n--- Fold {fold+1} ---\")\n",
    "                    # Configuración del experimento en wandb (por fold)\n",
    "                    nombreExperimento = f'TFG_BIN_bs({bs})_lr({lr})_hs({hs})_e({e})_fold({fold+1})'\n",
    "                    wandb.init(\n",
    "                        project=\"TFG_BIN_CV\",\n",
    "                        name=nombreExperimento,\n",
    "                        config={\n",
    "                            \"batch_size\": bs,\n",
    "                            \"learning_rate\": lr,\n",
    "                            \"hidden_size\": hs,\n",
    "                            \"epochs\": e,\n",
    "                            \"fold\": fold+1\n",
    "                        }\n",
    "                    )\n",
    "                    \n",
    "                    # Divisón train/val para este fold\n",
    "                    train_data = Subset(DatasetTFG(X_entrena_tensor, Y_entrena_tensor), train_idx)\n",
    "                    val_data = Subset(DatasetTFG(X_entrena_tensor, Y_entrena_tensor), val_idx)\n",
    "                    \n",
    "                    train_loader = DataLoader(train_data, batch_size=bs, shuffle=True)\n",
    "                    val_loader = DataLoader(val_data, batch_size=bs)\n",
    "                    \n",
    "                    # Modelo y optimizador\n",
    "                    modelo = Modelo(input_dim=X_entrena_tensor.shape[1], ventanaOculta=hs)\n",
    "                    optimizador = optim.AdamW(modelo.parameters(), lr=lr)\n",
    "                    perdida = nn.BCEWithLogitsLoss()\n",
    "                    \n",
    "                    # Entrenamiento\n",
    "                    for epoch in range(e):\n",
    "                        modelo.train()\n",
    "                        for batch_X, batch_Y in train_loader:\n",
    "                            optimizador.zero_grad()\n",
    "                            salidas = modelo(batch_X)\n",
    "                            loss = perdida(salidas, batch_Y.unsqueeze(1))\n",
    "                            loss.backward()\n",
    "                            optimizador.step()\n",
    "                    \n",
    "                    # Evaluación en validation fold\n",
    "                    modelo.eval()\n",
    "                    val_preds, val_probs, val_targets = [], [], []\n",
    "                    val_loss = 0.0\n",
    "                    \n",
    "                    with torch.no_grad():\n",
    "                        for batch_X_val, batch_Y_val in val_loader:\n",
    "                            salidas_val = modelo(batch_X_val)\n",
    "                            val_loss += perdida(salidas_val, batch_Y_val.unsqueeze(1)).item()\n",
    "                            probs = torch.sigmoid(salidas_val)\n",
    "                            preds = (probs > 0.5).int()\n",
    "                            val_probs.extend(probs.cpu().numpy())\n",
    "                            val_preds.extend(preds.cpu().numpy())\n",
    "                            val_targets.extend(batch_Y_val.cpu().numpy())\n",
    "                    \n",
    "                    # Métricas para este fold\n",
    "                    val_loss /= len(val_loader)\n",
    "                    tn, fp, fn, tp = confusion_matrix(val_targets, val_preds).ravel()\n",
    "                    \n",
    "                    fold_metrics['loss'].append(val_loss)\n",
    "                    fold_metrics['accuracy'].append(accuracy_score(val_targets, val_preds))\n",
    "                    fold_metrics['precision'].append(precision_score(val_targets, val_preds, zero_division=0))\n",
    "                    fold_metrics['recall'].append(recall_score(val_targets, val_preds, zero_division=0))\n",
    "                    fold_metrics['f1'].append(f1_score(val_targets, val_preds))\n",
    "                    fold_metrics['f2'].append(fbeta_score(val_targets, val_preds, beta=2))\n",
    "                    fold_metrics['roc_auc'].append(roc_auc_score(val_targets, val_probs))\n",
    "                    fold_metrics['specificity'].append(tn / (tn + fp) if (tn + fp) > 0 else 0)\n",
    "                    fold_metrics['tp'].append(tp)\n",
    "                    fold_metrics['fp'].append(fp)\n",
    "                    fold_metrics['tn'].append(tn)\n",
    "                    fold_metrics['fn'].append(fn)\n",
    "                    \n",
    "                    # Log metrics por fold\n",
    "                    wandb.log({\n",
    "                        \"fold\": fold+1,\n",
    "                        \"loss\": val_loss,\n",
    "                        \"accuracy\": fold_metrics['accuracy'][-1],\n",
    "                        \"precision\": fold_metrics['precision'][-1],\n",
    "                        \"recall\": fold_metrics['recall'][-1],\n",
    "                        \"f1\": fold_metrics['f1'][-1],\n",
    "                        \"f2\": fold_metrics['f2'][-1],\n",
    "                        \"roc_auc\": fold_metrics['roc_auc'][-1],\n",
    "                        \"specificity\": fold_metrics['specificity'][-1],\n",
    "                        \"true_positives\": tp,\n",
    "                        \"false_positives\": fp,\n",
    "                        \"true_negatives\": tn,\n",
    "                        \"false_negatives\": fn\n",
    "                    })\n",
    "                    \n",
    "                    wandb.finish()\n",
    "                \n",
    "                # Cálculo de métricas promedio (media de los K folds)\n",
    "                avg_metrics = {k: numpy.mean(v) for k, v in fold_metrics.items()}\n",
    "                \n",
    "                # Log de métricas promedio en wandb (experimento resumen)\n",
    "                wandb.init(\n",
    "                    project=\"TFG_BIN_CV\",\n",
    "                    name=f\"AVG_bs({bs})_lr({lr})_hs({hs})_e({e})\",\n",
    "                    config={\n",
    "                        \"batch_size\": bs,\n",
    "                        \"learning_rate\": lr,\n",
    "                        \"hidden_size\": hs,\n",
    "                        \"epochs\": e\n",
    "                    }\n",
    "                )\n",
    "                \n",
    "                wandb.log({\n",
    "                    \"avg_loss\": avg_metrics['loss'],\n",
    "                    \"avg_accuracy\": avg_metrics['accuracy'],\n",
    "                    \"avg_precision\": avg_metrics['precision'],\n",
    "                    \"avg_recall\": avg_metrics['recall'],\n",
    "                    \"avg_f1\": avg_metrics['f1'],\n",
    "                    \"avg_f2\": avg_metrics['f2'],\n",
    "                    \"avg_roc_auc\": avg_metrics['roc_auc'],\n",
    "                    \"avg_specificity\": avg_metrics['specificity'],\n",
    "                    \"avg_tp\": avg_metrics['tp'],\n",
    "                    \"avg_fp\": avg_metrics['fp'],\n",
    "                    \"avg_tn\": avg_metrics['tn'],\n",
    "                    \"avg_fn\": avg_metrics['fn']\n",
    "                })\n",
    "                \n",
    "                print(f\"\\nResultados promedio para bs={bs}, lr={lr}, hs={hs}, e={e}:\")\n",
    "                print(f\"  Loss: {avg_metrics['loss']:.4f} | Accuracy: {avg_metrics['accuracy']:.4f} | F1: {avg_metrics['f1']:.4f}\")\n",
    "                \n",
    "                wandb.finish()"
   ]
  },
  {
   "cell_type": "markdown",
   "id": "5b03803a",
   "metadata": {},
   "source": [
    "## Se guarda el modelo en un fichero"
   ]
  },
  {
   "cell_type": "code",
   "execution_count": null,
   "id": "fd254012",
   "metadata": {},
   "outputs": [],
   "source": [
    "torch.save(modelo.state_dict(), 'modeloSinLabelNiAttackNiIPSRC.pth')"
   ]
  },
  {
   "cell_type": "markdown",
   "id": "61781fd1",
   "metadata": {},
   "source": [
    "### BCEWithLogitsLoss\n",
    "\n",
    "Época: 1, Pérdida: 0.020396\n",
    "Época: 2, Pérdida: 0.009877\n",
    "Época: 3, Pérdida: 0.004355\n",
    "Época: 4, Pérdida: 0.00114\n",
    "Época: 5, Pérdida: 0.002756\n",
    "Época: 6, Pérdida: 0.001659\n",
    "Época: 7, Pérdida: 0.004422\n",
    "Época: 8, Pérdida: 0.000846\n",
    "Época: 9, Pérdida: 0.000706\n",
    "Época: 10, Pérdida: 0.000514\n",
    "\n",
    "Pérdida durante la prueba: 0.0075, Exactitud:  95.90%\n"
   ]
  }
 ],
 "metadata": {
  "kernelspec": {
   "display_name": "base",
   "language": "python",
   "name": "python3"
  },
  "language_info": {
   "codemirror_mode": {
    "name": "ipython",
    "version": 3
   },
   "file_extension": ".py",
   "mimetype": "text/x-python",
   "name": "python",
   "nbconvert_exporter": "python",
   "pygments_lexer": "ipython3",
   "version": "3.12.7"
  }
 },
 "nbformat": 4,
 "nbformat_minor": 5
}
