{
 "cells": [
  {
   "cell_type": "markdown",
   "id": "082e6c34",
   "metadata": {},
   "source": [
    "# TFG: Título del TFG"
   ]
  },
  {
   "cell_type": "markdown",
   "id": "08820e3c",
   "metadata": {},
   "source": [
    "## Hugo López Álvarez"
   ]
  },
  {
   "cell_type": "code",
   "execution_count": 5,
   "id": "a66de8d0",
   "metadata": {},
   "outputs": [],
   "source": [
    "import numpy    \n",
    "import pandas   \n",
    "#import wandb\n",
    "import torch    \n",
    "import torch.nn as nn\n",
    "import torch.optim as optim\n",
    "from torch.utils.data import Dataset, DataLoader\n",
    "from sklearn.preprocessing import LabelEncoder, StandardScaler, MinMaxScaler\n",
    "from sklearn.model_selection import train_test_split"
   ]
  },
  {
   "cell_type": "markdown",
   "id": "91b6b379",
   "metadata": {},
   "source": [
    "## Clases"
   ]
  },
  {
   "cell_type": "markdown",
   "id": "934e415a",
   "metadata": {},
   "source": [
    "Definición de la clase DatasetTFG que se usará para entrenar al modelo"
   ]
  },
  {
   "cell_type": "code",
   "execution_count": 6,
   "id": "5917f16f",
   "metadata": {},
   "outputs": [],
   "source": [
    "class DatasetTFG(Dataset):\n",
    "    def __init__(self, X, Y):\n",
    "        self.X = X\n",
    "        self.Y = Y\n",
    "    def __len__(self):\n",
    "        return len(self.X)\n",
    "    def __getitem__(self, idx):\n",
    "        return self.X[idx], self.Y[idx]"
   ]
  },
  {
   "cell_type": "markdown",
   "id": "86a33f8e",
   "metadata": {},
   "source": [
    "Definición de la clase Modelo\n",
    "- La capa1 transforma la dimensión de entrada a 64 neuronas\n",
    "- La capa2 pasa de las 64 neuronas a 1 neurona"
   ]
  },
  {
   "cell_type": "code",
   "execution_count": 36,
   "id": "4b046d24",
   "metadata": {},
   "outputs": [],
   "source": [
    "class Modelo(nn.Module):\n",
    "    def __init__(self, input_dim):\n",
    "        super().__init__()\n",
    "        self.capa1 = nn.Linear(input_dim, 64)\n",
    "        self.capa2 =  nn.Linear(64, 1)\n",
    "        self.sigprueba = nn.Sigmoid() #Se pasa el volor por una sigmoidea\n",
    "        \n",
    "    def forward(self,  X):\n",
    "        X = self.capa1(X)\n",
    "        X = self.capa2(X)\n",
    "        #X = self.sigprueba(X)\n",
    "        return X"
   ]
  },
  {
   "cell_type": "markdown",
   "id": "8e2bc3e1",
   "metadata": {},
   "source": [
    "## Cargar datos"
   ]
  },
  {
   "cell_type": "code",
   "execution_count": 8,
   "id": "281eeefe",
   "metadata": {},
   "outputs": [],
   "source": [
    "fileData = pandas.read_csv('../Datasets/modUQ.csv')"
   ]
  },
  {
   "cell_type": "markdown",
   "id": "16021721",
   "metadata": {},
   "source": [
    "### Comprobación de la obtención correcta del csv"
   ]
  },
  {
   "cell_type": "code",
   "execution_count": 9,
   "id": "77275e21",
   "metadata": {},
   "outputs": [
    {
     "data": {
      "text/html": [
       "<div>\n",
       "<style scoped>\n",
       "    .dataframe tbody tr th:only-of-type {\n",
       "        vertical-align: middle;\n",
       "    }\n",
       "\n",
       "    .dataframe tbody tr th {\n",
       "        vertical-align: top;\n",
       "    }\n",
       "\n",
       "    .dataframe thead th {\n",
       "        text-align: right;\n",
       "    }\n",
       "</style>\n",
       "<table border=\"1\" class=\"dataframe\">\n",
       "  <thead>\n",
       "    <tr style=\"text-align: right;\">\n",
       "      <th></th>\n",
       "      <th>FLOW_START_MILLISECONDS</th>\n",
       "      <th>FLOW_END_MILLISECONDS</th>\n",
       "      <th>IPV4_SRC_ADDR</th>\n",
       "      <th>L4_SRC_PORT</th>\n",
       "      <th>IPV4_DST_ADDR</th>\n",
       "      <th>L4_DST_PORT</th>\n",
       "      <th>PROTOCOL</th>\n",
       "      <th>L7_PROTO</th>\n",
       "      <th>IN_BYTES</th>\n",
       "      <th>IN_PKTS</th>\n",
       "      <th>...</th>\n",
       "      <th>SRC_TO_DST_IAT_MIN</th>\n",
       "      <th>SRC_TO_DST_IAT_MAX</th>\n",
       "      <th>SRC_TO_DST_IAT_AVG</th>\n",
       "      <th>SRC_TO_DST_IAT_STDDEV</th>\n",
       "      <th>DST_TO_SRC_IAT_MIN</th>\n",
       "      <th>DST_TO_SRC_IAT_MAX</th>\n",
       "      <th>DST_TO_SRC_IAT_AVG</th>\n",
       "      <th>DST_TO_SRC_IAT_STDDEV</th>\n",
       "      <th>Label</th>\n",
       "      <th>Attack</th>\n",
       "    </tr>\n",
       "  </thead>\n",
       "  <tbody>\n",
       "    <tr>\n",
       "      <th>0</th>\n",
       "      <td>1424242193040</td>\n",
       "      <td>1424242193043</td>\n",
       "      <td>59.166.0.2</td>\n",
       "      <td>4894</td>\n",
       "      <td>149.171.126.3</td>\n",
       "      <td>53</td>\n",
       "      <td>17</td>\n",
       "      <td>5.0</td>\n",
       "      <td>146</td>\n",
       "      <td>2</td>\n",
       "      <td>...</td>\n",
       "      <td>0</td>\n",
       "      <td>0</td>\n",
       "      <td>0</td>\n",
       "      <td>0</td>\n",
       "      <td>0</td>\n",
       "      <td>0</td>\n",
       "      <td>0</td>\n",
       "      <td>0</td>\n",
       "      <td>0</td>\n",
       "      <td>Benign</td>\n",
       "    </tr>\n",
       "    <tr>\n",
       "      <th>1</th>\n",
       "      <td>1424242192744</td>\n",
       "      <td>1424242193079</td>\n",
       "      <td>59.166.0.4</td>\n",
       "      <td>52671</td>\n",
       "      <td>149.171.126.6</td>\n",
       "      <td>31992</td>\n",
       "      <td>6</td>\n",
       "      <td>11.0</td>\n",
       "      <td>4704</td>\n",
       "      <td>28</td>\n",
       "      <td>...</td>\n",
       "      <td>0</td>\n",
       "      <td>91</td>\n",
       "      <td>12</td>\n",
       "      <td>19</td>\n",
       "      <td>0</td>\n",
       "      <td>90</td>\n",
       "      <td>12</td>\n",
       "      <td>19</td>\n",
       "      <td>0</td>\n",
       "      <td>Benign</td>\n",
       "    </tr>\n",
       "    <tr>\n",
       "      <th>2</th>\n",
       "      <td>1424242190649</td>\n",
       "      <td>1424242193109</td>\n",
       "      <td>59.166.0.0</td>\n",
       "      <td>47290</td>\n",
       "      <td>149.171.126.9</td>\n",
       "      <td>6881</td>\n",
       "      <td>6</td>\n",
       "      <td>37.0</td>\n",
       "      <td>13662</td>\n",
       "      <td>238</td>\n",
       "      <td>...</td>\n",
       "      <td>0</td>\n",
       "      <td>1843</td>\n",
       "      <td>10</td>\n",
       "      <td>119</td>\n",
       "      <td>0</td>\n",
       "      <td>1843</td>\n",
       "      <td>5</td>\n",
       "      <td>88</td>\n",
       "      <td>0</td>\n",
       "      <td>Benign</td>\n",
       "    </tr>\n",
       "    <tr>\n",
       "      <th>3</th>\n",
       "      <td>1424242193145</td>\n",
       "      <td>1424242193146</td>\n",
       "      <td>59.166.0.8</td>\n",
       "      <td>43310</td>\n",
       "      <td>149.171.126.7</td>\n",
       "      <td>53</td>\n",
       "      <td>17</td>\n",
       "      <td>5.0</td>\n",
       "      <td>146</td>\n",
       "      <td>2</td>\n",
       "      <td>...</td>\n",
       "      <td>0</td>\n",
       "      <td>0</td>\n",
       "      <td>0</td>\n",
       "      <td>0</td>\n",
       "      <td>0</td>\n",
       "      <td>0</td>\n",
       "      <td>0</td>\n",
       "      <td>0</td>\n",
       "      <td>0</td>\n",
       "      <td>Benign</td>\n",
       "    </tr>\n",
       "    <tr>\n",
       "      <th>4</th>\n",
       "      <td>1424242193239</td>\n",
       "      <td>1424242193241</td>\n",
       "      <td>59.166.0.1</td>\n",
       "      <td>45870</td>\n",
       "      <td>149.171.126.1</td>\n",
       "      <td>53</td>\n",
       "      <td>17</td>\n",
       "      <td>5.0</td>\n",
       "      <td>130</td>\n",
       "      <td>2</td>\n",
       "      <td>...</td>\n",
       "      <td>0</td>\n",
       "      <td>0</td>\n",
       "      <td>0</td>\n",
       "      <td>0</td>\n",
       "      <td>0</td>\n",
       "      <td>0</td>\n",
       "      <td>0</td>\n",
       "      <td>0</td>\n",
       "      <td>0</td>\n",
       "      <td>Benign</td>\n",
       "    </tr>\n",
       "  </tbody>\n",
       "</table>\n",
       "<p>5 rows × 55 columns</p>\n",
       "</div>"
      ],
      "text/plain": [
       "   FLOW_START_MILLISECONDS  FLOW_END_MILLISECONDS IPV4_SRC_ADDR  L4_SRC_PORT  \\\n",
       "0            1424242193040          1424242193043    59.166.0.2         4894   \n",
       "1            1424242192744          1424242193079    59.166.0.4        52671   \n",
       "2            1424242190649          1424242193109    59.166.0.0        47290   \n",
       "3            1424242193145          1424242193146    59.166.0.8        43310   \n",
       "4            1424242193239          1424242193241    59.166.0.1        45870   \n",
       "\n",
       "   IPV4_DST_ADDR  L4_DST_PORT  PROTOCOL  L7_PROTO  IN_BYTES  IN_PKTS  ...  \\\n",
       "0  149.171.126.3           53        17       5.0       146        2  ...   \n",
       "1  149.171.126.6        31992         6      11.0      4704       28  ...   \n",
       "2  149.171.126.9         6881         6      37.0     13662      238  ...   \n",
       "3  149.171.126.7           53        17       5.0       146        2  ...   \n",
       "4  149.171.126.1           53        17       5.0       130        2  ...   \n",
       "\n",
       "   SRC_TO_DST_IAT_MIN  SRC_TO_DST_IAT_MAX  SRC_TO_DST_IAT_AVG  \\\n",
       "0                   0                   0                   0   \n",
       "1                   0                  91                  12   \n",
       "2                   0                1843                  10   \n",
       "3                   0                   0                   0   \n",
       "4                   0                   0                   0   \n",
       "\n",
       "   SRC_TO_DST_IAT_STDDEV  DST_TO_SRC_IAT_MIN  DST_TO_SRC_IAT_MAX  \\\n",
       "0                      0                   0                   0   \n",
       "1                     19                   0                  90   \n",
       "2                    119                   0                1843   \n",
       "3                      0                   0                   0   \n",
       "4                      0                   0                   0   \n",
       "\n",
       "   DST_TO_SRC_IAT_AVG  DST_TO_SRC_IAT_STDDEV  Label  Attack  \n",
       "0                   0                      0      0  Benign  \n",
       "1                  12                     19      0  Benign  \n",
       "2                   5                     88      0  Benign  \n",
       "3                   0                      0      0  Benign  \n",
       "4                   0                      0      0  Benign  \n",
       "\n",
       "[5 rows x 55 columns]"
      ]
     },
     "execution_count": 9,
     "metadata": {},
     "output_type": "execute_result"
    }
   ],
   "source": [
    "fileData.head()"
   ]
  },
  {
   "cell_type": "markdown",
   "id": "0a96a971",
   "metadata": {},
   "source": [
    "### Se convierten las columnas no numéricas para poder utilizarlas con pytorch"
   ]
  },
  {
   "cell_type": "code",
   "execution_count": 10,
   "id": "067862ec",
   "metadata": {},
   "outputs": [],
   "source": [
    "fileData['IPV4_SRC_ADDR'] = LabelEncoder().fit_transform(fileData['IPV4_SRC_ADDR'])\n",
    "fileData['IPV4_DST_ADDR'] = LabelEncoder().fit_transform(fileData['IPV4_DST_ADDR'])\n",
    "fileData['Attack'] = LabelEncoder().fit_transform(fileData['Attack'])\n"
   ]
  },
  {
   "cell_type": "markdown",
   "id": "b5ac848f",
   "metadata": {},
   "source": [
    "### Se comprueba que los datos se han transformado correctamente"
   ]
  },
  {
   "cell_type": "code",
   "execution_count": 11,
   "id": "2678ffd3",
   "metadata": {},
   "outputs": [
    {
     "name": "stdout",
     "output_type": "stream",
     "text": [
      "FLOW_START_MILLISECONDS          int64\n",
      "FLOW_END_MILLISECONDS            int64\n",
      "IPV4_SRC_ADDR                    int64\n",
      "L4_SRC_PORT                      int64\n",
      "IPV4_DST_ADDR                    int64\n",
      "L4_DST_PORT                      int64\n",
      "PROTOCOL                         int64\n",
      "L7_PROTO                       float64\n",
      "IN_BYTES                         int64\n",
      "IN_PKTS                          int64\n",
      "OUT_BYTES                        int64\n",
      "OUT_PKTS                         int64\n",
      "TCP_FLAGS                        int64\n",
      "CLIENT_TCP_FLAGS                 int64\n",
      "SERVER_TCP_FLAGS                 int64\n",
      "FLOW_DURATION_MILLISECONDS       int64\n",
      "DURATION_IN                      int64\n",
      "DURATION_OUT                     int64\n",
      "MIN_TTL                          int64\n",
      "MAX_TTL                          int64\n",
      "LONGEST_FLOW_PKT                 int64\n",
      "SHORTEST_FLOW_PKT                int64\n",
      "MIN_IP_PKT_LEN                   int64\n",
      "MAX_IP_PKT_LEN                   int64\n",
      "SRC_TO_DST_SECOND_BYTES        float64\n",
      "DST_TO_SRC_SECOND_BYTES        float64\n",
      "RETRANSMITTED_IN_BYTES           int64\n",
      "RETRANSMITTED_IN_PKTS            int64\n",
      "RETRANSMITTED_OUT_BYTES          int64\n",
      "RETRANSMITTED_OUT_PKTS           int64\n",
      "SRC_TO_DST_AVG_THROUGHPUT        int64\n",
      "DST_TO_SRC_AVG_THROUGHPUT        int64\n",
      "NUM_PKTS_UP_TO_128_BYTES         int64\n",
      "NUM_PKTS_128_TO_256_BYTES        int64\n",
      "NUM_PKTS_256_TO_512_BYTES        int64\n",
      "NUM_PKTS_512_TO_1024_BYTES       int64\n",
      "NUM_PKTS_1024_TO_1514_BYTES      int64\n",
      "TCP_WIN_MAX_IN                   int64\n",
      "TCP_WIN_MAX_OUT                  int64\n",
      "ICMP_TYPE                        int64\n",
      "ICMP_IPV4_TYPE                   int64\n",
      "DNS_QUERY_ID                     int64\n",
      "DNS_QUERY_TYPE                   int64\n",
      "DNS_TTL_ANSWER                   int64\n",
      "FTP_COMMAND_RET_CODE             int64\n",
      "SRC_TO_DST_IAT_MIN               int64\n",
      "SRC_TO_DST_IAT_MAX               int64\n",
      "SRC_TO_DST_IAT_AVG               int64\n",
      "SRC_TO_DST_IAT_STDDEV            int64\n",
      "DST_TO_SRC_IAT_MIN               int64\n",
      "DST_TO_SRC_IAT_MAX               int64\n",
      "DST_TO_SRC_IAT_AVG               int64\n",
      "DST_TO_SRC_IAT_STDDEV            int64\n",
      "Label                            int64\n",
      "Attack                           int64\n",
      "dtype: object\n"
     ]
    }
   ],
   "source": [
    "print(fileData.dtypes)"
   ]
  },
  {
   "cell_type": "markdown",
   "id": "4d28c573",
   "metadata": {},
   "source": [
    "## Se eliminan los datos con valores infinitos"
   ]
  },
  {
   "cell_type": "code",
   "execution_count": 12,
   "id": "8249588b",
   "metadata": {},
   "outputs": [
    {
     "name": "stdout",
     "output_type": "stream",
     "text": [
      "¿Existen valores infinitos en X?:  True\n",
      "¿Siguen existiendo valores infinitos en X?:  False\n"
     ]
    }
   ],
   "source": [
    "print(\"¿Existen valores infinitos en X?: \", numpy.isinf(fileData.values).any())\n",
    "fileData = fileData.replace([numpy.inf, -numpy.inf], numpy.nan).dropna()\n",
    "print(\"¿Siguen existiendo valores infinitos en X?: \", numpy.    isinf(fileData.values).any())"
   ]
  },
  {
   "cell_type": "markdown",
   "id": "1803ca7d",
   "metadata": {},
   "source": [
    "### Se separan las características (X) de la etiqueta (Y)"
   ]
  },
  {
   "cell_type": "code",
   "execution_count": 13,
   "id": "b4a7f031",
   "metadata": {},
   "outputs": [],
   "source": [
    "X = fileData.drop(columns=['Label', 'Attack', 'IPV4_SRC_ADDR']).values\n",
    "Y = fileData['Label'].values"
   ]
  },
  {
   "cell_type": "markdown",
   "id": "9b84d514",
   "metadata": {},
   "source": [
    "## Se separan los datos del entrenamiento de los datos de prueba\n",
    "El entrenamiento tendrá el 80% de los datos\n",
    "\n",
    "La prueba tendrá el 20% de los datos"
   ]
  },
  {
   "cell_type": "code",
   "execution_count": 14,
   "id": "b5706da4",
   "metadata": {},
   "outputs": [],
   "source": [
    "X_entrena, X_prueba, Y_entrana, Y_prueba = train_test_split(\n",
    "    X, Y, test_size=0.2, random_state=42,  stratify=Y\n",
    ")"
   ]
  },
  {
   "cell_type": "markdown",
   "id": "5085b6e7",
   "metadata": {},
   "source": [
    "## Se normalizan los datos"
   ]
  },
  {
   "cell_type": "code",
   "execution_count": 15,
   "id": "db3ffa32",
   "metadata": {},
   "outputs": [],
   "source": [
    "escalador = MinMaxScaler(feature_range=(0,1))\n",
    "X_entrena_normalizado = escalador.fit_transform(X_entrena)"
   ]
  },
  {
   "cell_type": "markdown",
   "id": "056a8afc",
   "metadata": {},
   "source": [
    "### Se convierten los datos a tensores de Pytorch"
   ]
  },
  {
   "cell_type": "code",
   "execution_count": 16,
   "id": "f95e3105",
   "metadata": {},
   "outputs": [],
   "source": [
    "X_entrena_tensor = torch.tensor(X_entrena_normalizado, dtype=torch.float32)\n",
    "Y_entrena_tensor = torch.tensor(Y_entrana, dtype=torch.long)"
   ]
  },
  {
   "cell_type": "markdown",
   "id": "76fec3c1",
   "metadata": {},
   "source": [
    "## Creación del Dataset personalizado"
   ]
  },
  {
   "cell_type": "code",
   "execution_count": 17,
   "id": "451c11fc",
   "metadata": {},
   "outputs": [],
   "source": [
    "dataset_entrena = DatasetTFG(X_entrena_tensor, Y_entrena_tensor)"
   ]
  },
  {
   "cell_type": "markdown",
   "id": "c03c1344",
   "metadata": {},
   "source": [
    "## Creación del DataLoader\n",
    "El número de muestras por lote será de 1024 (batch)\n",
    "\n",
    "Los datos de cada época se cogerán de forma aleatoria (shuffle)"
   ]
  },
  {
   "cell_type": "code",
   "execution_count": 18,
   "id": "776e2b02",
   "metadata": {},
   "outputs": [],
   "source": [
    "batchTam = 2000\n",
    "dataLoader_entrena = DataLoader(dataset_entrena, batch_size=batchTam, shuffle=True)"
   ]
  },
  {
   "cell_type": "markdown",
   "id": "7345600e",
   "metadata": {},
   "source": [
    "## Creación del modelo"
   ]
  },
  {
   "cell_type": "code",
   "execution_count": 37,
   "id": "28640255",
   "metadata": {},
   "outputs": [
    {
     "name": "stdout",
     "output_type": "stream",
     "text": [
      "2\n"
     ]
    }
   ],
   "source": [
    "modelo = Modelo(input_dim=X_entrena_tensor.shape[1])\n",
    "print(len(Y_entrena_tensor.unique()))"
   ]
  },
  {
   "cell_type": "markdown",
   "id": "49088650",
   "metadata": {},
   "source": [
    "## Se configura pérdida y optimizador"
   ]
  },
  {
   "cell_type": "code",
   "execution_count": 41,
   "id": "12bd5e9f",
   "metadata": {},
   "outputs": [],
   "source": [
    "#perdida = nn.BCELoss() if len(Y_entrena_tensor.unique()) > 2 else nn.CrossEntropyLoss()\n",
    "pos_weight = torch.tensor(19.0)\n",
    "perdida = nn.BCEWithLogitsLoss(pos_weight=pos_weight) #95/5\n",
    "optimizador = optim.AdamW(modelo.parameters(), lr=0.001)"
   ]
  },
  {
   "cell_type": "markdown",
   "id": "68e8c320",
   "metadata": {},
   "source": [
    "## Selección del número de épocas"
   ]
  },
  {
   "cell_type": "code",
   "execution_count": 21,
   "id": "448d1cde",
   "metadata": {},
   "outputs": [
    {
     "name": "stdout",
     "output_type": "stream",
     "text": [
      "valor de X:  tensor([[9.9379e-01, 9.9380e-01, 9.5982e-01,  ..., 4.6371e-02, 1.2377e-03,\n",
      "         4.7259e-03],\n",
      "        [9.8305e-01, 9.8305e-01, 7.8946e-01,  ..., 4.5381e-03, 8.4163e-04,\n",
      "         1.5753e-03],\n",
      "        [7.9305e-03, 7.9149e-03, 6.7202e-01,  ..., 1.4852e-03, 5.9409e-04,\n",
      "         7.0013e-04],\n",
      "        ...,\n",
      "        [9.9584e-01, 9.9584e-01, 4.2275e-01,  ..., 1.1882e-03, 2.9704e-04,\n",
      "         4.5509e-04],\n",
      "        [9.8827e-01, 9.8827e-01, 7.0037e-01,  ..., 2.6668e-02, 2.9704e-04,\n",
      "         3.2556e-03],\n",
      "        [9.8197e-01, 9.8197e-01, 2.3346e-01,  ..., 0.0000e+00, 0.0000e+00,\n",
      "         0.0000e+00]])\n"
     ]
    }
   ],
   "source": [
    "epocas = 10\n",
    "print(\"valor de X: \", X_entrena_tensor)"
   ]
  },
  {
   "cell_type": "markdown",
   "id": "ece36861",
   "metadata": {},
   "source": [
    "## Bucle de entrenamiento o épocas"
   ]
  },
  {
   "cell_type": "code",
   "execution_count": 42,
   "id": "c4734f89",
   "metadata": {},
   "outputs": [
    {
     "name": "stdout",
     "output_type": "stream",
     "text": [
      "Época: 1, Pérdida: 0.020396\n",
      "Época: 2, Pérdida: 0.009877\n",
      "Época: 3, Pérdida: 0.004355\n",
      "Época: 4, Pérdida: 0.001147\n",
      "Época: 5, Pérdida: 0.002756\n",
      "Época: 6, Pérdida: 0.001659\n",
      "Época: 7, Pérdida: 0.004422\n",
      "Época: 8, Pérdida: 0.000846\n",
      "Época: 9, Pérdida: 0.000706\n",
      "Época: 10, Pérdida: 0.000514\n"
     ]
    }
   ],
   "source": [
    "for epoca in range(epocas):\n",
    "    for batch_X, batch_Y in dataLoader_entrena:\n",
    "        optimizador.zero_grad()     #Se resetan lso gradientes acumulados\n",
    "        salidas = modelo(batch_X)   #Predirecciones\n",
    "        calPerdida = perdida(salidas, batch_Y.float().unsqueeze(1))  #Se calcula la pérdida\n",
    "        calPerdida.backward()       #Se calculas los gradientes\n",
    "        optimizador.step()          #Se actualizan los pasos\n",
    "    \n",
    "    print(f'Época: {epoca + 1}, Pérdida: {calPerdida.item():4f}')\n",
    "        "
   ]
  },
  {
   "cell_type": "markdown",
   "id": "5b03803a",
   "metadata": {},
   "source": [
    "## Se guarda el modelo en un fichero"
   ]
  },
  {
   "cell_type": "code",
   "execution_count": null,
   "id": "fd254012",
   "metadata": {},
   "outputs": [],
   "source": [
    "torch.save(modelo.state_dict(), 'modeloSinLabelNiAttackNiIPSRC.pth')"
   ]
  },
  {
   "cell_type": "markdown",
   "id": "d89ec6b7",
   "metadata": {},
   "source": [
    "## Se preparan los datos de prueba"
   ]
  },
  {
   "cell_type": "code",
   "execution_count": 43,
   "id": "35334db3",
   "metadata": {},
   "outputs": [],
   "source": [
    "X_prueba_normalizado = escalador.fit_transform(X_prueba)\n",
    "\n",
    "X_prueba_tensor = torch.tensor(X_prueba_normalizado, dtype=torch.float32)\n",
    "Y_prueba_tensor = torch.tensor(Y_prueba, dtype=torch.long)\n",
    "\n",
    "dataset_prueba = DatasetTFG(X_prueba_tensor, Y_prueba_tensor)\n",
    "\n",
    "dataLoader_prueba = DataLoader(dataset_prueba, batch_size=batchTam)\n"
   ]
  },
  {
   "cell_type": "markdown",
   "id": "280ca631",
   "metadata": {},
   "source": [
    "## Se prueba el modelo"
   ]
  },
  {
   "cell_type": "markdown",
   "id": "44c80751",
   "metadata": {},
   "source": [
    "### Se pone el modelo en modo evaluación y se inicializan las variables que se utilizarán para la prueba"
   ]
  },
  {
   "cell_type": "code",
   "execution_count": 44,
   "id": "b740579a",
   "metadata": {},
   "outputs": [],
   "source": [
    "modelo.eval()\n",
    "perdida_prueba= 0\n",
    "correcto = 0\n",
    "total = 0"
   ]
  },
  {
   "cell_type": "markdown",
   "id": "fe5c5625",
   "metadata": {},
   "source": [
    "### Se ejecutan las pruebas del modelo"
   ]
  },
  {
   "cell_type": "code",
   "execution_count": 52,
   "id": "7ab255fb",
   "metadata": {},
   "outputs": [],
   "source": [
    "with torch.no_grad():\n",
    "    for batch_X, batch_Y in dataLoader_prueba:\n",
    "        salidas = modelo(batch_X)\n",
    "        calPerdida_prueba = perdida(salidas, batch_Y.float().unsqueeze(1))\n",
    "        perdida_prueba += calPerdida_prueba.item()\n",
    "        \n",
    "        _, prediccion = torch.max(salidas.data, 1)\n",
    "        total += batch_Y.size(0) \n",
    "        correcto += (prediccion == batch_Y).sum().item()"
   ]
  },
  {
   "cell_type": "markdown",
   "id": "6c2e7529",
   "metadata": {},
   "source": [
    "### Se calculan las métricas de la prueba"
   ]
  },
  {
   "cell_type": "code",
   "execution_count": 53,
   "id": "fb5ee797",
   "metadata": {},
   "outputs": [
    {
     "name": "stdout",
     "output_type": "stream",
     "text": [
      "Pérdida durante la prueba: 0.0075, Exactitud:  95.90%\n"
     ]
    }
   ],
   "source": [
    "perdida_prueba /= len(dataLoader_prueba)\n",
    "precision_prueba = 100 * correcto / total\n",
    "print(f'Pérdida durante la prueba: {perdida_prueba:.4f}, Exactitud: {precision_prueba: .2f}%')"
   ]
  },
  {
   "cell_type": "markdown",
   "id": "61781fd1",
   "metadata": {},
   "source": [
    "### BCEWithLogitsLoss\n",
    "\n",
    "Época: 1, Pérdida: 0.020396\n",
    "\n",
    "Época: 2, Pérdida: 0.009877\n",
    "\n",
    "Época: 3, Pérdida: 0.004355\n",
    "\n",
    "Época: 4, Pérdida: 0.001147\n",
    "\n",
    "Época: 5, Pérdida: 0.002756\n",
    "\n",
    "Época: 6, Pérdida: 0.001659\n",
    "\n",
    "Época: 7, Pérdida: 0.004422\n",
    "\n",
    "Época: 8, Pérdida: 0.000846\n",
    "\n",
    "Época: 9, Pérdida: 0.000706\n",
    "\n",
    "Época: 10, Pérdida: 0.000514\n",
    "\n",
    "Pérdida durante la prueba: 0.0075, Exactitud:  95.90%\n"
   ]
  }
 ],
 "metadata": {
  "kernelspec": {
   "display_name": "base",
   "language": "python",
   "name": "python3"
  },
  "language_info": {
   "codemirror_mode": {
    "name": "ipython",
    "version": 3
   },
   "file_extension": ".py",
   "mimetype": "text/x-python",
   "name": "python",
   "nbconvert_exporter": "python",
   "pygments_lexer": "ipython3",
   "version": "3.12.7"
  }
 },
 "nbformat": 4,
 "nbformat_minor": 5
}
