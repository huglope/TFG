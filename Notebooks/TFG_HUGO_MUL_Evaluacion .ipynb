{
 "cells": [
  {
   "cell_type": "markdown",
   "id": "082e6c34",
   "metadata": {},
   "source": [
    "# TFG: Título del TFG"
   ]
  },
  {
   "cell_type": "markdown",
   "id": "08820e3c",
   "metadata": {},
   "source": [
    "## Hugo López Álvarez"
   ]
  },
  {
   "cell_type": "code",
   "execution_count": 1,
   "id": "a66de8d0",
   "metadata": {},
   "outputs": [],
   "source": [
    "import math\n",
    "import numpy    \n",
    "import pandas   \n",
    "import wandb\n",
    "import torch    \n",
    "import torch.nn as nn\n",
    "import torch.optim as optim\n",
    "from torch.utils.data import Dataset, DataLoader, Subset, TensorDataset\n",
    "from sklearn.preprocessing import LabelEncoder, MinMaxScaler\n",
    "from sklearn.model_selection import train_test_split\n",
    "from sklearn.metrics import accuracy_score, precision_score, recall_score, f1_score, roc_auc_score, confusion_matrix, log_loss, fbeta_score\n",
    "from sklearn.utils.class_weight import compute_class_weight\n",
    "from sklearn.model_selection import KFold, StratifiedKFold\n",
    "import matplotlib.pyplot as plt\n",
    "import seaborn as sns\n",
    "from imblearn.combine import SMOTETomek"
   ]
  },
  {
   "cell_type": "markdown",
   "id": "91b6b379",
   "metadata": {},
   "source": [
    "## Clases"
   ]
  },
  {
   "cell_type": "markdown",
   "id": "934e415a",
   "metadata": {},
   "source": [
    "Definición de la clase DatasetTFG que se usará para entrenar al modelo"
   ]
  },
  {
   "cell_type": "code",
   "execution_count": 2,
   "id": "5917f16f",
   "metadata": {},
   "outputs": [],
   "source": [
    "class DatasetTFG(Dataset):\n",
    "    def __init__(self, X, Y):\n",
    "        self.X = X\n",
    "        self.Y = Y\n",
    "    def __len__(self):\n",
    "        return len(self.X)\n",
    "    def __getitem__(self, idx):\n",
    "        return self.X[idx], self.Y[idx]"
   ]
  },
  {
   "cell_type": "markdown",
   "id": "86a33f8e",
   "metadata": {},
   "source": [
    "Definición de la clase Modelo\n",
    "- La capa1 transforma la dimensión de entrada a ventaOculta.Value neuronas\n",
    "- La capa2 pasa de las neuronas de la capa1, a tantas salidas como clases"
   ]
  },
  {
   "cell_type": "code",
   "execution_count": 3,
   "id": "4b046d24",
   "metadata": {},
   "outputs": [],
   "source": [
    "class ModeloMulticlase(nn.Module):\n",
    "    def __init__(self, input_dim, ventanaOculta, numClases):\n",
    "        super().__init__()\n",
    "        self.capa1 = nn.Linear(input_dim, ventanaOculta)    \n",
    "        self.bn1 = nn.BatchNorm1d(ventanaOculta, momentum=0.01)\n",
    "        self.capa2 =  nn.Linear(ventanaOculta, numClases)\n",
    "        \n",
    "    def forward(self,  X):\n",
    "        X = torch.relu(self.bn1(self.capa1(X)))  \n",
    "        X = self.capa2(X) \n",
    "        return X    "
   ]
  },
  {
   "cell_type": "markdown",
   "id": "e240a0da",
   "metadata": {},
   "source": [
    "# Funciones"
   ]
  },
  {
   "cell_type": "code",
   "execution_count": 4,
   "id": "fa2cafb4",
   "metadata": {},
   "outputs": [],
   "source": [
    "\n",
    "def split_ip_column(df, ip_column_name):\n",
    "    \n",
    "    # Divide la IP en cuatro partes\n",
    "    ip_parts = df[ip_column_name].str.split('.', expand=True)\n",
    "    \n",
    "    # Crea nombres de columnas basados en el nombre original\n",
    "    new_columns = {\n",
    "        0: f\"{ip_column_name}_part1\",\n",
    "        1: f\"{ip_column_name}_part2\", \n",
    "        2: f\"{ip_column_name}_part3\",\n",
    "        3: f\"{ip_column_name}_part4\"\n",
    "    }\n",
    "    \n",
    "    # Se elimina la columna de ip_column_name\n",
    "    df = df.drop(columns=[ip_column_name]) \n",
    "    \n",
    "    # Añade las nuevas columnas al DataFrame\n",
    "    for part, col_name in new_columns.items():\n",
    "        df[col_name] = pandas.to_numeric(ip_parts[part])  # Convierte a numérico\n",
    "    \n",
    "    return df"
   ]
  },
  {
   "cell_type": "markdown",
   "id": "8e2bc3e1",
   "metadata": {},
   "source": [
    "## Cargar datos"
   ]
  },
  {
   "cell_type": "code",
   "execution_count": 5,
   "id": "281eeefe",
   "metadata": {},
   "outputs": [],
   "source": [
    "fileData = pandas.read_csv('../Datasets/modUQ.csv')"
   ]
  },
  {
   "cell_type": "markdown",
   "id": "16021721",
   "metadata": {},
   "source": [
    "### Comprobación de la obtención correcta del csv"
   ]
  },
  {
   "cell_type": "code",
   "execution_count": 6,
   "id": "77275e21",
   "metadata": {},
   "outputs": [
    {
     "data": {
      "text/html": [
       "<div>\n",
       "<style scoped>\n",
       "    .dataframe tbody tr th:only-of-type {\n",
       "        vertical-align: middle;\n",
       "    }\n",
       "\n",
       "    .dataframe tbody tr th {\n",
       "        vertical-align: top;\n",
       "    }\n",
       "\n",
       "    .dataframe thead th {\n",
       "        text-align: right;\n",
       "    }\n",
       "</style>\n",
       "<table border=\"1\" class=\"dataframe\">\n",
       "  <thead>\n",
       "    <tr style=\"text-align: right;\">\n",
       "      <th></th>\n",
       "      <th>FLOW_START_MILLISECONDS</th>\n",
       "      <th>FLOW_END_MILLISECONDS</th>\n",
       "      <th>IPV4_SRC_ADDR</th>\n",
       "      <th>L4_SRC_PORT</th>\n",
       "      <th>IPV4_DST_ADDR</th>\n",
       "      <th>L4_DST_PORT</th>\n",
       "      <th>PROTOCOL</th>\n",
       "      <th>L7_PROTO</th>\n",
       "      <th>IN_BYTES</th>\n",
       "      <th>IN_PKTS</th>\n",
       "      <th>...</th>\n",
       "      <th>SRC_TO_DST_IAT_MIN</th>\n",
       "      <th>SRC_TO_DST_IAT_MAX</th>\n",
       "      <th>SRC_TO_DST_IAT_AVG</th>\n",
       "      <th>SRC_TO_DST_IAT_STDDEV</th>\n",
       "      <th>DST_TO_SRC_IAT_MIN</th>\n",
       "      <th>DST_TO_SRC_IAT_MAX</th>\n",
       "      <th>DST_TO_SRC_IAT_AVG</th>\n",
       "      <th>DST_TO_SRC_IAT_STDDEV</th>\n",
       "      <th>Label</th>\n",
       "      <th>Attack</th>\n",
       "    </tr>\n",
       "  </thead>\n",
       "  <tbody>\n",
       "    <tr>\n",
       "      <th>0</th>\n",
       "      <td>1424242193040</td>\n",
       "      <td>1424242193043</td>\n",
       "      <td>59.166.0.2</td>\n",
       "      <td>4894</td>\n",
       "      <td>149.171.126.3</td>\n",
       "      <td>53</td>\n",
       "      <td>17</td>\n",
       "      <td>5.0</td>\n",
       "      <td>146</td>\n",
       "      <td>2</td>\n",
       "      <td>...</td>\n",
       "      <td>0</td>\n",
       "      <td>0</td>\n",
       "      <td>0</td>\n",
       "      <td>0</td>\n",
       "      <td>0</td>\n",
       "      <td>0</td>\n",
       "      <td>0</td>\n",
       "      <td>0</td>\n",
       "      <td>0</td>\n",
       "      <td>Benign</td>\n",
       "    </tr>\n",
       "    <tr>\n",
       "      <th>1</th>\n",
       "      <td>1424242192744</td>\n",
       "      <td>1424242193079</td>\n",
       "      <td>59.166.0.4</td>\n",
       "      <td>52671</td>\n",
       "      <td>149.171.126.6</td>\n",
       "      <td>31992</td>\n",
       "      <td>6</td>\n",
       "      <td>11.0</td>\n",
       "      <td>4704</td>\n",
       "      <td>28</td>\n",
       "      <td>...</td>\n",
       "      <td>0</td>\n",
       "      <td>91</td>\n",
       "      <td>12</td>\n",
       "      <td>19</td>\n",
       "      <td>0</td>\n",
       "      <td>90</td>\n",
       "      <td>12</td>\n",
       "      <td>19</td>\n",
       "      <td>0</td>\n",
       "      <td>Benign</td>\n",
       "    </tr>\n",
       "    <tr>\n",
       "      <th>2</th>\n",
       "      <td>1424242190649</td>\n",
       "      <td>1424242193109</td>\n",
       "      <td>59.166.0.0</td>\n",
       "      <td>47290</td>\n",
       "      <td>149.171.126.9</td>\n",
       "      <td>6881</td>\n",
       "      <td>6</td>\n",
       "      <td>37.0</td>\n",
       "      <td>13662</td>\n",
       "      <td>238</td>\n",
       "      <td>...</td>\n",
       "      <td>0</td>\n",
       "      <td>1843</td>\n",
       "      <td>10</td>\n",
       "      <td>119</td>\n",
       "      <td>0</td>\n",
       "      <td>1843</td>\n",
       "      <td>5</td>\n",
       "      <td>88</td>\n",
       "      <td>0</td>\n",
       "      <td>Benign</td>\n",
       "    </tr>\n",
       "    <tr>\n",
       "      <th>3</th>\n",
       "      <td>1424242193145</td>\n",
       "      <td>1424242193146</td>\n",
       "      <td>59.166.0.8</td>\n",
       "      <td>43310</td>\n",
       "      <td>149.171.126.7</td>\n",
       "      <td>53</td>\n",
       "      <td>17</td>\n",
       "      <td>5.0</td>\n",
       "      <td>146</td>\n",
       "      <td>2</td>\n",
       "      <td>...</td>\n",
       "      <td>0</td>\n",
       "      <td>0</td>\n",
       "      <td>0</td>\n",
       "      <td>0</td>\n",
       "      <td>0</td>\n",
       "      <td>0</td>\n",
       "      <td>0</td>\n",
       "      <td>0</td>\n",
       "      <td>0</td>\n",
       "      <td>Benign</td>\n",
       "    </tr>\n",
       "    <tr>\n",
       "      <th>4</th>\n",
       "      <td>1424242193239</td>\n",
       "      <td>1424242193241</td>\n",
       "      <td>59.166.0.1</td>\n",
       "      <td>45870</td>\n",
       "      <td>149.171.126.1</td>\n",
       "      <td>53</td>\n",
       "      <td>17</td>\n",
       "      <td>5.0</td>\n",
       "      <td>130</td>\n",
       "      <td>2</td>\n",
       "      <td>...</td>\n",
       "      <td>0</td>\n",
       "      <td>0</td>\n",
       "      <td>0</td>\n",
       "      <td>0</td>\n",
       "      <td>0</td>\n",
       "      <td>0</td>\n",
       "      <td>0</td>\n",
       "      <td>0</td>\n",
       "      <td>0</td>\n",
       "      <td>Benign</td>\n",
       "    </tr>\n",
       "  </tbody>\n",
       "</table>\n",
       "<p>5 rows × 55 columns</p>\n",
       "</div>"
      ],
      "text/plain": [
       "   FLOW_START_MILLISECONDS  FLOW_END_MILLISECONDS IPV4_SRC_ADDR  L4_SRC_PORT  \\\n",
       "0            1424242193040          1424242193043    59.166.0.2         4894   \n",
       "1            1424242192744          1424242193079    59.166.0.4        52671   \n",
       "2            1424242190649          1424242193109    59.166.0.0        47290   \n",
       "3            1424242193145          1424242193146    59.166.0.8        43310   \n",
       "4            1424242193239          1424242193241    59.166.0.1        45870   \n",
       "\n",
       "   IPV4_DST_ADDR  L4_DST_PORT  PROTOCOL  L7_PROTO  IN_BYTES  IN_PKTS  ...  \\\n",
       "0  149.171.126.3           53        17       5.0       146        2  ...   \n",
       "1  149.171.126.6        31992         6      11.0      4704       28  ...   \n",
       "2  149.171.126.9         6881         6      37.0     13662      238  ...   \n",
       "3  149.171.126.7           53        17       5.0       146        2  ...   \n",
       "4  149.171.126.1           53        17       5.0       130        2  ...   \n",
       "\n",
       "   SRC_TO_DST_IAT_MIN  SRC_TO_DST_IAT_MAX  SRC_TO_DST_IAT_AVG  \\\n",
       "0                   0                   0                   0   \n",
       "1                   0                  91                  12   \n",
       "2                   0                1843                  10   \n",
       "3                   0                   0                   0   \n",
       "4                   0                   0                   0   \n",
       "\n",
       "   SRC_TO_DST_IAT_STDDEV  DST_TO_SRC_IAT_MIN  DST_TO_SRC_IAT_MAX  \\\n",
       "0                      0                   0                   0   \n",
       "1                     19                   0                  90   \n",
       "2                    119                   0                1843   \n",
       "3                      0                   0                   0   \n",
       "4                      0                   0                   0   \n",
       "\n",
       "   DST_TO_SRC_IAT_AVG  DST_TO_SRC_IAT_STDDEV  Label  Attack  \n",
       "0                   0                      0      0  Benign  \n",
       "1                  12                     19      0  Benign  \n",
       "2                   5                     88      0  Benign  \n",
       "3                   0                      0      0  Benign  \n",
       "4                   0                      0      0  Benign  \n",
       "\n",
       "[5 rows x 55 columns]"
      ]
     },
     "execution_count": 6,
     "metadata": {},
     "output_type": "execute_result"
    }
   ],
   "source": [
    "fileData.head()"
   ]
  },
  {
   "cell_type": "markdown",
   "id": "0a96a971",
   "metadata": {},
   "source": [
    "### Se convierten las columnas no numéricas para poder utilizarlas con pytorch"
   ]
  },
  {
   "cell_type": "code",
   "execution_count": 7,
   "id": "067862ec",
   "metadata": {},
   "outputs": [],
   "source": [
    "ataquesData = fileData[fileData['Label'] != 0].copy()\n",
    "ataquesData['Attack'] = LabelEncoder().fit_transform(ataquesData['Attack'])"
   ]
  },
  {
   "cell_type": "markdown",
   "id": "b5ac848f",
   "metadata": {},
   "source": [
    "### Se comprueba que los datos se han transformado correctamente"
   ]
  },
  {
   "cell_type": "code",
   "execution_count": 8,
   "id": "2678ffd3",
   "metadata": {},
   "outputs": [
    {
     "name": "stdout",
     "output_type": "stream",
     "text": [
      "FLOW_START_MILLISECONDS          int64\n",
      "FLOW_END_MILLISECONDS            int64\n",
      "IPV4_SRC_ADDR                   object\n",
      "L4_SRC_PORT                      int64\n",
      "IPV4_DST_ADDR                   object\n",
      "L4_DST_PORT                      int64\n",
      "PROTOCOL                         int64\n",
      "L7_PROTO                       float64\n",
      "IN_BYTES                         int64\n",
      "IN_PKTS                          int64\n",
      "OUT_BYTES                        int64\n",
      "OUT_PKTS                         int64\n",
      "TCP_FLAGS                        int64\n",
      "CLIENT_TCP_FLAGS                 int64\n",
      "SERVER_TCP_FLAGS                 int64\n",
      "FLOW_DURATION_MILLISECONDS       int64\n",
      "DURATION_IN                      int64\n",
      "DURATION_OUT                     int64\n",
      "MIN_TTL                          int64\n",
      "MAX_TTL                          int64\n",
      "LONGEST_FLOW_PKT                 int64\n",
      "SHORTEST_FLOW_PKT                int64\n",
      "MIN_IP_PKT_LEN                   int64\n",
      "MAX_IP_PKT_LEN                   int64\n",
      "SRC_TO_DST_SECOND_BYTES        float64\n",
      "DST_TO_SRC_SECOND_BYTES        float64\n",
      "RETRANSMITTED_IN_BYTES           int64\n",
      "RETRANSMITTED_IN_PKTS            int64\n",
      "RETRANSMITTED_OUT_BYTES          int64\n",
      "RETRANSMITTED_OUT_PKTS           int64\n",
      "SRC_TO_DST_AVG_THROUGHPUT        int64\n",
      "DST_TO_SRC_AVG_THROUGHPUT        int64\n",
      "NUM_PKTS_UP_TO_128_BYTES         int64\n",
      "NUM_PKTS_128_TO_256_BYTES        int64\n",
      "NUM_PKTS_256_TO_512_BYTES        int64\n",
      "NUM_PKTS_512_TO_1024_BYTES       int64\n",
      "NUM_PKTS_1024_TO_1514_BYTES      int64\n",
      "TCP_WIN_MAX_IN                   int64\n",
      "TCP_WIN_MAX_OUT                  int64\n",
      "ICMP_TYPE                        int64\n",
      "ICMP_IPV4_TYPE                   int64\n",
      "DNS_QUERY_ID                     int64\n",
      "DNS_QUERY_TYPE                   int64\n",
      "DNS_TTL_ANSWER                   int64\n",
      "FTP_COMMAND_RET_CODE             int64\n",
      "SRC_TO_DST_IAT_MIN               int64\n",
      "SRC_TO_DST_IAT_MAX               int64\n",
      "SRC_TO_DST_IAT_AVG               int64\n",
      "SRC_TO_DST_IAT_STDDEV            int64\n",
      "DST_TO_SRC_IAT_MIN               int64\n",
      "DST_TO_SRC_IAT_MAX               int64\n",
      "DST_TO_SRC_IAT_AVG               int64\n",
      "DST_TO_SRC_IAT_STDDEV            int64\n",
      "Label                            int64\n",
      "Attack                           int64\n",
      "dtype: object\n"
     ]
    }
   ],
   "source": [
    "print(ataquesData.dtypes)"
   ]
  },
  {
   "cell_type": "markdown",
   "id": "4d28c573",
   "metadata": {},
   "source": [
    "## Se eliminan los datos con valores infinitos"
   ]
  },
  {
   "cell_type": "code",
   "execution_count": 9,
   "id": "8249588b",
   "metadata": {},
   "outputs": [],
   "source": [
    "#print(\"¿Existen valores infinitos en X?: \", numpy.isinf(fileData.values).any())\n",
    "ataquesData = ataquesData.replace([numpy.inf, -numpy.inf], numpy.nan).dropna()\n",
    "#print(\"¿Siguen existiendo valores infinitos en X?: \", numpy.isinf(fileData.values).any())"
   ]
  },
  {
   "cell_type": "markdown",
   "id": "1803ca7d",
   "metadata": {},
   "source": [
    "### Se separan las características (X) de la etiqueta (Y)"
   ]
  },
  {
   "cell_type": "code",
   "execution_count": 10,
   "id": "b4a7f031",
   "metadata": {},
   "outputs": [],
   "source": [
    "X = ataquesData.drop(columns=['Label', 'Attack', 'FLOW_START_MILLISECONDS', 'FLOW_END_MILLISECONDS', 'IPV4_SRC_ADDR', 'IPV4_DST_ADDR']).values\n",
    "Y = ataquesData['Attack'].values"
   ]
  },
  {
   "cell_type": "markdown",
   "id": "7c1f7f18",
   "metadata": {},
   "source": [
    "### Se elimina fileData que contiene el csv con los datos para liberar memoria"
   ]
  },
  {
   "cell_type": "code",
   "execution_count": 11,
   "id": "346e5aab",
   "metadata": {},
   "outputs": [],
   "source": [
    "del fileData"
   ]
  },
  {
   "cell_type": "markdown",
   "id": "9b84d514",
   "metadata": {},
   "source": [
    "## Se separan los datos del entrenamiento de los datos de prueba\n",
    "El entrenamiento tendrá el 80% de los datos\n",
    "\n",
    "La prueba tendrá el 20% de los datos"
   ]
  },
  {
   "cell_type": "code",
   "execution_count": 12,
   "id": "b5706da4",
   "metadata": {},
   "outputs": [],
   "source": [
    "X_entrena, X_prueba, Y_entrana, Y_prueba = train_test_split(\n",
    "    X, Y, test_size=0.2, random_state=42,  stratify=Y\n",
    ")"
   ]
  },
  {
   "cell_type": "markdown",
   "id": "5085b6e7",
   "metadata": {},
   "source": [
    "## Se normalizan los datos"
   ]
  },
  {
   "cell_type": "code",
   "execution_count": 13,
   "id": "db3ffa32",
   "metadata": {},
   "outputs": [],
   "source": [
    "escalador = MinMaxScaler(feature_range=(0,1))\n",
    "X_entrena_normalizado = escalador.fit_transform(X_entrena)"
   ]
  },
  {
   "cell_type": "markdown",
   "id": "056a8afc",
   "metadata": {},
   "source": [
    "### Se convierten los datos a tensores de Pytorch"
   ]
  },
  {
   "cell_type": "code",
   "execution_count": 14,
   "id": "f95e3105",
   "metadata": {},
   "outputs": [],
   "source": [
    "X_entrena_tensor = torch.tensor(X_entrena_normalizado, dtype=torch.float32)\n",
    "Y_entrena_tensor = torch.tensor(Y_entrana, dtype=torch.float32) # Puede que dé problemas con CrossEntropyLoss "
   ]
  },
  {
   "cell_type": "markdown",
   "id": "76fec3c1",
   "metadata": {},
   "source": [
    "## Creación del Dataset personalizado"
   ]
  },
  {
   "cell_type": "code",
   "execution_count": 15,
   "id": "451c11fc",
   "metadata": {},
   "outputs": [],
   "source": [
    "dataset_entrena = DatasetTFG(X_entrena_tensor, Y_entrena_tensor)"
   ]
  },
  {
   "cell_type": "markdown",
   "id": "49088650",
   "metadata": {},
   "source": [
    "## Se configura pérdida y optimizador"
   ]
  },
  {
   "cell_type": "code",
   "execution_count": 16,
   "id": "12bd5e9f",
   "metadata": {},
   "outputs": [],
   "source": [
    "frec_clases = numpy.bincount(Y_entrana) # Frecuencia de las clases\n",
    "\n",
    "weight_clases = (len(Y_entrana) - frec_clases)/frec_clases\n",
    "\n",
    "weight_clases_tensor = torch.tensor(weight_clases, dtype=torch.float32)  # Auto-cálculo\n",
    "\n",
    "perdida = nn.CrossEntropyLoss(weight=weight_clases_tensor)\n"
   ]
  },
  {
   "cell_type": "markdown",
   "id": "4591504a",
   "metadata": {},
   "source": [
    "## Mejores combinaciones de hiperparámetros encontradas durante los experimentos"
   ]
  },
  {
   "cell_type": "code",
   "execution_count": 17,
   "id": "3612c337",
   "metadata": {},
   "outputs": [],
   "source": [
    "combinaciones = [\n",
    "    {'batch_size': 64, 'learning_rate': 1e-3, 'hidden_size': 25, 'epochs': 100},\n",
    "    {'batch_size': 512, 'learning_rate': 1e-3, 'hidden_size': 25, 'epochs': 100},\n",
    "    {'batch_size': 128, 'learning_rate': 1e-3, 'hidden_size': 25, 'epochs': 80},\n",
    "    {'batch_size': 256, 'learning_rate': 1e-3, 'hidden_size': 25, 'epochs': 80},\n",
    "    {'batch_size': 128, 'learning_rate': 1e-3, 'hidden_size': 25, 'epochs': 50},\n",
    "    \n",
    "    \n",
    "    {'batch_size': 256, 'learning_rate': 1e-3, 'hidden_size': 49, 'epochs': 50},\n",
    "    {'batch_size': 128, 'learning_rate': 1e-3, 'hidden_size': 49, 'epochs': 100},\n",
    "    {'batch_size': 128, 'learning_rate': 1e-3, 'hidden_size': 49, 'epochs': 80},\n",
    "    {'batch_size': 64, 'learning_rate': 1e-3, 'hidden_size': 49, 'epochs': 50},\n",
    "    {'batch_size': 256, 'learning_rate': 1e-3, 'hidden_size': 49, 'epochs': 80},\n",
    "    \n",
    "    \n",
    "    {'batch_size': 256, 'learning_rate': 1e-3, 'hidden_size': 98, 'epochs': 100},\n",
    "    {'batch_size': 256, 'learning_rate': 1e-3, 'hidden_size': 98, 'epochs': 80},\n",
    "    {'batch_size': 512, 'learning_rate': 1e-2, 'hidden_size': 98, 'epochs': 100},\n",
    "    {'batch_size': 64, 'learning_rate': 1e-3, 'hidden_size': 98, 'epochs': 80},\n",
    "    {'batch_size': 256, 'learning_rate': 1e-3, 'hidden_size': 98, 'epochs': 50},\n",
    "]"
   ]
  },
  {
   "cell_type": "markdown",
   "id": "72978520",
   "metadata": {},
   "source": [
    "## Se preparan los datos de prueba"
   ]
  },
  {
   "cell_type": "code",
   "execution_count": 18,
   "id": "469721c8",
   "metadata": {},
   "outputs": [],
   "source": [
    "X_prueba_normalizado = escalador.transform(X_prueba)\n",
    "X_prueba_tensor = torch.tensor(X_prueba_normalizado, dtype=torch.float32)\n",
    "Y_prueba_tensor = torch.tensor(Y_prueba, dtype=torch.float32)\n",
    "test_dataset = DatasetTFG(X_prueba_tensor, Y_prueba_tensor)"
   ]
  },
  {
   "cell_type": "markdown",
   "id": "bd8239e8",
   "metadata": {},
   "source": [
    "## Se calculan los pesos y el número de clases"
   ]
  },
  {
   "cell_type": "code",
   "execution_count": 19,
   "id": "b9b1372e",
   "metadata": {},
   "outputs": [],
   "source": [
    "class_weights = compute_class_weight(\n",
    "    'balanced',\n",
    "    classes=numpy.unique(Y_entrena_tensor.numpy()),\n",
    "    y=Y_entrena_tensor.numpy()\n",
    ")\n",
    "weights_tensor = torch.tensor(class_weights, dtype=torch.float32)\n",
    "\n",
    "num_classes = len(torch.unique(Y_entrena_tensor))"
   ]
  },
  {
   "cell_type": "markdown",
   "id": "ece36861",
   "metadata": {},
   "source": [
    "## Bucle de entrenamiento o épocas"
   ]
  },
  {
   "cell_type": "code",
   "execution_count": 20,
   "id": "134de800",
   "metadata": {},
   "outputs": [
    {
     "name": "stderr",
     "output_type": "stream",
     "text": [
      "\u001b[34m\u001b[1mwandb\u001b[0m: Currently logged in as: \u001b[33malv-lop-hugo\u001b[0m (\u001b[33mTFG_Hugo\u001b[0m) to \u001b[32mhttps://api.wandb.ai\u001b[0m. Use \u001b[1m`wandb login --relogin`\u001b[0m to force relogin\n"
     ]
    },
    {
     "data": {
      "text/html": [
       "Tracking run with wandb version 0.19.10"
      ],
      "text/plain": [
       "<IPython.core.display.HTML object>"
      ]
     },
     "metadata": {},
     "output_type": "display_data"
    },
    {
     "data": {
      "text/html": [
       "Run data is saved locally in <code>/home/hugo/TFG/Notebooks/wandb/run-20250604_142518-fvpdcejh</code>"
      ],
      "text/plain": [
       "<IPython.core.display.HTML object>"
      ]
     },
     "metadata": {},
     "output_type": "display_data"
    },
    {
     "data": {
      "text/html": [
       "Syncing run <strong><a href='https://wandb.ai/TFG_Hugo/TFG_MUL_EVAL_2/runs/fvpdcejh' target=\"_blank\">TFG_MUL_bs(64)_lr(0.001)_hs(25)_e(100)</a></strong> to <a href='https://wandb.ai/TFG_Hugo/TFG_MUL_EVAL_2' target=\"_blank\">Weights & Biases</a> (<a href='https://wandb.me/developer-guide' target=\"_blank\">docs</a>)<br>"
      ],
      "text/plain": [
       "<IPython.core.display.HTML object>"
      ]
     },
     "metadata": {},
     "output_type": "display_data"
    },
    {
     "data": {
      "text/html": [
       " View project at <a href='https://wandb.ai/TFG_Hugo/TFG_MUL_EVAL_2' target=\"_blank\">https://wandb.ai/TFG_Hugo/TFG_MUL_EVAL_2</a>"
      ],
      "text/plain": [
       "<IPython.core.display.HTML object>"
      ]
     },
     "metadata": {},
     "output_type": "display_data"
    },
    {
     "data": {
      "text/html": [
       " View run at <a href='https://wandb.ai/TFG_Hugo/TFG_MUL_EVAL_2/runs/fvpdcejh' target=\"_blank\">https://wandb.ai/TFG_Hugo/TFG_MUL_EVAL_2/runs/fvpdcejh</a>"
      ],
      "text/plain": [
       "<IPython.core.display.HTML object>"
      ]
     },
     "metadata": {},
     "output_type": "display_data"
    },
    {
     "name": "stdout",
     "output_type": "stream",
     "text": [
      "\n",
      "Entrenando modelo multiclase con: bs=64, lr=0.001, hs=25, e=100\n",
      "\n",
      "Evaluación del modelo para la configuracií bs=64, lr=0.001 finalizada\n"
     ]
    },
    {
     "data": {
      "text/html": [],
      "text/plain": [
       "<IPython.core.display.HTML object>"
      ]
     },
     "metadata": {},
     "output_type": "display_data"
    },
    {
     "data": {
      "text/html": [
       "<br>    <style><br>        .wandb-row {<br>            display: flex;<br>            flex-direction: row;<br>            flex-wrap: wrap;<br>            justify-content: flex-start;<br>            width: 100%;<br>        }<br>        .wandb-col {<br>            display: flex;<br>            flex-direction: column;<br>            flex-basis: 100%;<br>            flex: 1;<br>            padding: 10px;<br>        }<br>    </style><br><div class=\"wandb-row\"><div class=\"wandb-col\"><h3>Run history:</h3><br/><table class=\"wandb\"><tr><td>epoch</td><td>▁▁▁▁▁▂▂▂▂▂▂▂▃▃▃▃▃▃▃▄▄▄▄▅▅▅▆▆▆▆▆▇▇▇▇▇▇███</td></tr><tr><td>test_accuracy</td><td>▁</td></tr><tr><td>test_f1_macro</td><td>▁</td></tr><tr><td>test_f1_weighted</td><td>▁</td></tr><tr><td>test_loss</td><td>▁</td></tr><tr><td>test_precision_macro</td><td>▁</td></tr><tr><td>test_precision_weighted</td><td>▁</td></tr><tr><td>test_recall_macro</td><td>▁</td></tr><tr><td>test_recall_weighted</td><td>▁</td></tr><tr><td>test_roc_auc_ovo</td><td>▁</td></tr><tr><td>test_roc_auc_ovr</td><td>▁</td></tr><tr><td>train_loss</td><td>█▆▅▄▄▃▃▃▃▃▂▂▂▂▂▂▂▂▂▂▂▂▂▂▂▂▁▁▁▁▁▁▁▁▁▁▁▁▁▁</td></tr></table><br/></div><div class=\"wandb-col\"><h3>Run summary:</h3><br/><table class=\"wandb\"><tr><td>epoch</td><td>99</td></tr><tr><td>test_accuracy</td><td>0.46363</td></tr><tr><td>test_f1_macro</td><td>0.33947</td></tr><tr><td>test_f1_weighted</td><td>0.49195</td></tr><tr><td>test_loss</td><td>1.34857</td></tr><tr><td>test_precision_macro</td><td>0.33293</td></tr><tr><td>test_precision_weighted</td><td>0.64262</td></tr><tr><td>test_recall_macro</td><td>0.55013</td></tr><tr><td>test_recall_weighted</td><td>0.46363</td></tr><tr><td>test_roc_auc_ovo</td><td>0.87145</td></tr><tr><td>test_roc_auc_ovr</td><td>0.84016</td></tr><tr><td>train_loss</td><td>1.30797</td></tr></table><br/></div></div>"
      ],
      "text/plain": [
       "<IPython.core.display.HTML object>"
      ]
     },
     "metadata": {},
     "output_type": "display_data"
    },
    {
     "data": {
      "text/html": [
       " View run <strong style=\"color:#cdcd00\">TFG_MUL_bs(64)_lr(0.001)_hs(25)_e(100)</strong> at: <a href='https://wandb.ai/TFG_Hugo/TFG_MUL_EVAL_2/runs/fvpdcejh' target=\"_blank\">https://wandb.ai/TFG_Hugo/TFG_MUL_EVAL_2/runs/fvpdcejh</a><br> View project at: <a href='https://wandb.ai/TFG_Hugo/TFG_MUL_EVAL_2' target=\"_blank\">https://wandb.ai/TFG_Hugo/TFG_MUL_EVAL_2</a><br>Synced 5 W&B file(s), 2 media file(s), 2 artifact file(s) and 1 other file(s)"
      ],
      "text/plain": [
       "<IPython.core.display.HTML object>"
      ]
     },
     "metadata": {},
     "output_type": "display_data"
    },
    {
     "data": {
      "text/html": [
       "Find logs at: <code>./wandb/run-20250604_142518-fvpdcejh/logs</code>"
      ],
      "text/plain": [
       "<IPython.core.display.HTML object>"
      ]
     },
     "metadata": {},
     "output_type": "display_data"
    },
    {
     "data": {
      "text/html": [
       "Tracking run with wandb version 0.19.10"
      ],
      "text/plain": [
       "<IPython.core.display.HTML object>"
      ]
     },
     "metadata": {},
     "output_type": "display_data"
    },
    {
     "data": {
      "text/html": [
       "Run data is saved locally in <code>/home/hugo/TFG/Notebooks/wandb/run-20250604_142702-3adqqsm5</code>"
      ],
      "text/plain": [
       "<IPython.core.display.HTML object>"
      ]
     },
     "metadata": {},
     "output_type": "display_data"
    },
    {
     "data": {
      "text/html": [
       "Syncing run <strong><a href='https://wandb.ai/TFG_Hugo/TFG_MUL_EVAL_2/runs/3adqqsm5' target=\"_blank\">TFG_MUL_bs(512)_lr(0.001)_hs(25)_e(100)</a></strong> to <a href='https://wandb.ai/TFG_Hugo/TFG_MUL_EVAL_2' target=\"_blank\">Weights & Biases</a> (<a href='https://wandb.me/developer-guide' target=\"_blank\">docs</a>)<br>"
      ],
      "text/plain": [
       "<IPython.core.display.HTML object>"
      ]
     },
     "metadata": {},
     "output_type": "display_data"
    },
    {
     "data": {
      "text/html": [
       " View project at <a href='https://wandb.ai/TFG_Hugo/TFG_MUL_EVAL_2' target=\"_blank\">https://wandb.ai/TFG_Hugo/TFG_MUL_EVAL_2</a>"
      ],
      "text/plain": [
       "<IPython.core.display.HTML object>"
      ]
     },
     "metadata": {},
     "output_type": "display_data"
    },
    {
     "data": {
      "text/html": [
       " View run at <a href='https://wandb.ai/TFG_Hugo/TFG_MUL_EVAL_2/runs/3adqqsm5' target=\"_blank\">https://wandb.ai/TFG_Hugo/TFG_MUL_EVAL_2/runs/3adqqsm5</a>"
      ],
      "text/plain": [
       "<IPython.core.display.HTML object>"
      ]
     },
     "metadata": {},
     "output_type": "display_data"
    },
    {
     "name": "stdout",
     "output_type": "stream",
     "text": [
      "\n",
      "Entrenando modelo multiclase con: bs=512, lr=0.001, hs=25, e=100\n",
      "\n",
      "Evaluación del modelo para la configuracií bs=512, lr=0.001 finalizada\n"
     ]
    },
    {
     "data": {
      "text/html": [],
      "text/plain": [
       "<IPython.core.display.HTML object>"
      ]
     },
     "metadata": {},
     "output_type": "display_data"
    },
    {
     "data": {
      "text/html": [
       "<br>    <style><br>        .wandb-row {<br>            display: flex;<br>            flex-direction: row;<br>            flex-wrap: wrap;<br>            justify-content: flex-start;<br>            width: 100%;<br>        }<br>        .wandb-col {<br>            display: flex;<br>            flex-direction: column;<br>            flex-basis: 100%;<br>            flex: 1;<br>            padding: 10px;<br>        }<br>    </style><br><div class=\"wandb-row\"><div class=\"wandb-col\"><h3>Run history:</h3><br/><table class=\"wandb\"><tr><td>epoch</td><td>▁▁▁▂▂▂▂▂▂▃▃▃▃▃▃▄▄▄▅▅▅▅▅▅▅▆▆▆▆▆▇▇▇▇▇▇▇███</td></tr><tr><td>test_accuracy</td><td>▁</td></tr><tr><td>test_f1_macro</td><td>▁</td></tr><tr><td>test_f1_weighted</td><td>▁</td></tr><tr><td>test_loss</td><td>▁</td></tr><tr><td>test_precision_macro</td><td>▁</td></tr><tr><td>test_precision_weighted</td><td>▁</td></tr><tr><td>test_recall_macro</td><td>▁</td></tr><tr><td>test_recall_weighted</td><td>▁</td></tr><tr><td>test_roc_auc_ovo</td><td>▁</td></tr><tr><td>test_roc_auc_ovr</td><td>▁</td></tr><tr><td>train_loss</td><td>█▄▄▄▃▃▃▃▃▃▂▂▂▂▂▂▂▂▂▂▂▂▂▂▂▂▁▁▁▁▁▁▁▁▁▁▁▁▁▁</td></tr></table><br/></div><div class=\"wandb-col\"><h3>Run summary:</h3><br/><table class=\"wandb\"><tr><td>epoch</td><td>99</td></tr><tr><td>test_accuracy</td><td>0.49834</td></tr><tr><td>test_f1_macro</td><td>0.33995</td></tr><tr><td>test_f1_weighted</td><td>0.52971</td></tr><tr><td>test_loss</td><td>1.31755</td></tr><tr><td>test_precision_macro</td><td>0.35322</td></tr><tr><td>test_precision_weighted</td><td>0.67013</td></tr><tr><td>test_recall_macro</td><td>0.55309</td></tr><tr><td>test_recall_weighted</td><td>0.49834</td></tr><tr><td>test_roc_auc_ovo</td><td>0.87153</td></tr><tr><td>test_roc_auc_ovr</td><td>0.84259</td></tr><tr><td>train_loss</td><td>1.21374</td></tr></table><br/></div></div>"
      ],
      "text/plain": [
       "<IPython.core.display.HTML object>"
      ]
     },
     "metadata": {},
     "output_type": "display_data"
    },
    {
     "data": {
      "text/html": [
       " View run <strong style=\"color:#cdcd00\">TFG_MUL_bs(512)_lr(0.001)_hs(25)_e(100)</strong> at: <a href='https://wandb.ai/TFG_Hugo/TFG_MUL_EVAL_2/runs/3adqqsm5' target=\"_blank\">https://wandb.ai/TFG_Hugo/TFG_MUL_EVAL_2/runs/3adqqsm5</a><br> View project at: <a href='https://wandb.ai/TFG_Hugo/TFG_MUL_EVAL_2' target=\"_blank\">https://wandb.ai/TFG_Hugo/TFG_MUL_EVAL_2</a><br>Synced 5 W&B file(s), 2 media file(s), 2 artifact file(s) and 1 other file(s)"
      ],
      "text/plain": [
       "<IPython.core.display.HTML object>"
      ]
     },
     "metadata": {},
     "output_type": "display_data"
    },
    {
     "data": {
      "text/html": [
       "Find logs at: <code>./wandb/run-20250604_142702-3adqqsm5/logs</code>"
      ],
      "text/plain": [
       "<IPython.core.display.HTML object>"
      ]
     },
     "metadata": {},
     "output_type": "display_data"
    },
    {
     "data": {
      "text/html": [
       "Tracking run with wandb version 0.19.10"
      ],
      "text/plain": [
       "<IPython.core.display.HTML object>"
      ]
     },
     "metadata": {},
     "output_type": "display_data"
    },
    {
     "data": {
      "text/html": [
       "Run data is saved locally in <code>/home/hugo/TFG/Notebooks/wandb/run-20250604_142748-gd1ty2lh</code>"
      ],
      "text/plain": [
       "<IPython.core.display.HTML object>"
      ]
     },
     "metadata": {},
     "output_type": "display_data"
    },
    {
     "data": {
      "text/html": [
       "Syncing run <strong><a href='https://wandb.ai/TFG_Hugo/TFG_MUL_EVAL_2/runs/gd1ty2lh' target=\"_blank\">TFG_MUL_bs(128)_lr(0.001)_hs(25)_e(80)</a></strong> to <a href='https://wandb.ai/TFG_Hugo/TFG_MUL_EVAL_2' target=\"_blank\">Weights & Biases</a> (<a href='https://wandb.me/developer-guide' target=\"_blank\">docs</a>)<br>"
      ],
      "text/plain": [
       "<IPython.core.display.HTML object>"
      ]
     },
     "metadata": {},
     "output_type": "display_data"
    },
    {
     "data": {
      "text/html": [
       " View project at <a href='https://wandb.ai/TFG_Hugo/TFG_MUL_EVAL_2' target=\"_blank\">https://wandb.ai/TFG_Hugo/TFG_MUL_EVAL_2</a>"
      ],
      "text/plain": [
       "<IPython.core.display.HTML object>"
      ]
     },
     "metadata": {},
     "output_type": "display_data"
    },
    {
     "data": {
      "text/html": [
       " View run at <a href='https://wandb.ai/TFG_Hugo/TFG_MUL_EVAL_2/runs/gd1ty2lh' target=\"_blank\">https://wandb.ai/TFG_Hugo/TFG_MUL_EVAL_2/runs/gd1ty2lh</a>"
      ],
      "text/plain": [
       "<IPython.core.display.HTML object>"
      ]
     },
     "metadata": {},
     "output_type": "display_data"
    },
    {
     "name": "stdout",
     "output_type": "stream",
     "text": [
      "\n",
      "Entrenando modelo multiclase con: bs=128, lr=0.001, hs=25, e=80\n",
      "\n",
      "Evaluación del modelo para la configuracií bs=128, lr=0.001 finalizada\n"
     ]
    },
    {
     "data": {
      "text/html": [],
      "text/plain": [
       "<IPython.core.display.HTML object>"
      ]
     },
     "metadata": {},
     "output_type": "display_data"
    },
    {
     "data": {
      "text/html": [
       "<br>    <style><br>        .wandb-row {<br>            display: flex;<br>            flex-direction: row;<br>            flex-wrap: wrap;<br>            justify-content: flex-start;<br>            width: 100%;<br>        }<br>        .wandb-col {<br>            display: flex;<br>            flex-direction: column;<br>            flex-basis: 100%;<br>            flex: 1;<br>            padding: 10px;<br>        }<br>    </style><br><div class=\"wandb-row\"><div class=\"wandb-col\"><h3>Run history:</h3><br/><table class=\"wandb\"><tr><td>epoch</td><td>▁▁▁▂▂▂▂▂▂▃▃▃▃▃▃▄▄▄▄▄▅▅▅▅▆▆▆▆▆▆▇▇▇▇▇▇▇███</td></tr><tr><td>test_accuracy</td><td>▁</td></tr><tr><td>test_f1_macro</td><td>▁</td></tr><tr><td>test_f1_weighted</td><td>▁</td></tr><tr><td>test_loss</td><td>▁</td></tr><tr><td>test_precision_macro</td><td>▁</td></tr><tr><td>test_precision_weighted</td><td>▁</td></tr><tr><td>test_recall_macro</td><td>▁</td></tr><tr><td>test_recall_weighted</td><td>▁</td></tr><tr><td>test_roc_auc_ovo</td><td>▁</td></tr><tr><td>test_roc_auc_ovr</td><td>▁</td></tr><tr><td>train_loss</td><td>█▇▆▅▅▄▄▃▃▃▃▃▃▃▂▂▂▂▂▂▂▂▂▂▂▂▂▂▂▁▁▁▁▁▁▁▁▁▁▁</td></tr></table><br/></div><div class=\"wandb-col\"><h3>Run summary:</h3><br/><table class=\"wandb\"><tr><td>epoch</td><td>79</td></tr><tr><td>test_accuracy</td><td>0.51967</td></tr><tr><td>test_f1_macro</td><td>0.37156</td></tr><tr><td>test_f1_weighted</td><td>0.53846</td></tr><tr><td>test_loss</td><td>1.29718</td></tr><tr><td>test_precision_macro</td><td>0.37423</td></tr><tr><td>test_precision_weighted</td><td>0.68128</td></tr><tr><td>test_recall_macro</td><td>0.56895</td></tr><tr><td>test_recall_weighted</td><td>0.51967</td></tr><tr><td>test_roc_auc_ovo</td><td>0.87818</td></tr><tr><td>test_roc_auc_ovr</td><td>0.84907</td></tr><tr><td>train_loss</td><td>1.26232</td></tr></table><br/></div></div>"
      ],
      "text/plain": [
       "<IPython.core.display.HTML object>"
      ]
     },
     "metadata": {},
     "output_type": "display_data"
    },
    {
     "data": {
      "text/html": [
       " View run <strong style=\"color:#cdcd00\">TFG_MUL_bs(128)_lr(0.001)_hs(25)_e(80)</strong> at: <a href='https://wandb.ai/TFG_Hugo/TFG_MUL_EVAL_2/runs/gd1ty2lh' target=\"_blank\">https://wandb.ai/TFG_Hugo/TFG_MUL_EVAL_2/runs/gd1ty2lh</a><br> View project at: <a href='https://wandb.ai/TFG_Hugo/TFG_MUL_EVAL_2' target=\"_blank\">https://wandb.ai/TFG_Hugo/TFG_MUL_EVAL_2</a><br>Synced 5 W&B file(s), 2 media file(s), 2 artifact file(s) and 1 other file(s)"
      ],
      "text/plain": [
       "<IPython.core.display.HTML object>"
      ]
     },
     "metadata": {},
     "output_type": "display_data"
    },
    {
     "data": {
      "text/html": [
       "Find logs at: <code>./wandb/run-20250604_142748-gd1ty2lh/logs</code>"
      ],
      "text/plain": [
       "<IPython.core.display.HTML object>"
      ]
     },
     "metadata": {},
     "output_type": "display_data"
    },
    {
     "data": {
      "text/html": [
       "Tracking run with wandb version 0.19.10"
      ],
      "text/plain": [
       "<IPython.core.display.HTML object>"
      ]
     },
     "metadata": {},
     "output_type": "display_data"
    },
    {
     "data": {
      "text/html": [
       "Run data is saved locally in <code>/home/hugo/TFG/Notebooks/wandb/run-20250604_142841-rp3nkoll</code>"
      ],
      "text/plain": [
       "<IPython.core.display.HTML object>"
      ]
     },
     "metadata": {},
     "output_type": "display_data"
    },
    {
     "data": {
      "text/html": [
       "Syncing run <strong><a href='https://wandb.ai/TFG_Hugo/TFG_MUL_EVAL_2/runs/rp3nkoll' target=\"_blank\">TFG_MUL_bs(256)_lr(0.001)_hs(25)_e(80)</a></strong> to <a href='https://wandb.ai/TFG_Hugo/TFG_MUL_EVAL_2' target=\"_blank\">Weights & Biases</a> (<a href='https://wandb.me/developer-guide' target=\"_blank\">docs</a>)<br>"
      ],
      "text/plain": [
       "<IPython.core.display.HTML object>"
      ]
     },
     "metadata": {},
     "output_type": "display_data"
    },
    {
     "data": {
      "text/html": [
       " View project at <a href='https://wandb.ai/TFG_Hugo/TFG_MUL_EVAL_2' target=\"_blank\">https://wandb.ai/TFG_Hugo/TFG_MUL_EVAL_2</a>"
      ],
      "text/plain": [
       "<IPython.core.display.HTML object>"
      ]
     },
     "metadata": {},
     "output_type": "display_data"
    },
    {
     "data": {
      "text/html": [
       " View run at <a href='https://wandb.ai/TFG_Hugo/TFG_MUL_EVAL_2/runs/rp3nkoll' target=\"_blank\">https://wandb.ai/TFG_Hugo/TFG_MUL_EVAL_2/runs/rp3nkoll</a>"
      ],
      "text/plain": [
       "<IPython.core.display.HTML object>"
      ]
     },
     "metadata": {},
     "output_type": "display_data"
    },
    {
     "name": "stdout",
     "output_type": "stream",
     "text": [
      "\n",
      "Entrenando modelo multiclase con: bs=256, lr=0.001, hs=25, e=80\n",
      "\n",
      "Evaluación del modelo para la configuracií bs=256, lr=0.001 finalizada\n"
     ]
    },
    {
     "data": {
      "text/html": [],
      "text/plain": [
       "<IPython.core.display.HTML object>"
      ]
     },
     "metadata": {},
     "output_type": "display_data"
    },
    {
     "data": {
      "text/html": [
       "<br>    <style><br>        .wandb-row {<br>            display: flex;<br>            flex-direction: row;<br>            flex-wrap: wrap;<br>            justify-content: flex-start;<br>            width: 100%;<br>        }<br>        .wandb-col {<br>            display: flex;<br>            flex-direction: column;<br>            flex-basis: 100%;<br>            flex: 1;<br>            padding: 10px;<br>        }<br>    </style><br><div class=\"wandb-row\"><div class=\"wandb-col\"><h3>Run history:</h3><br/><table class=\"wandb\"><tr><td>epoch</td><td>▁▁▁▁▁▂▂▂▂▂▃▃▃▃▃▄▄▄▄▅▅▅▅▅▅▆▆▆▆▆▆▆▇▇▇▇████</td></tr><tr><td>test_accuracy</td><td>▁</td></tr><tr><td>test_f1_macro</td><td>▁</td></tr><tr><td>test_f1_weighted</td><td>▁</td></tr><tr><td>test_loss</td><td>▁</td></tr><tr><td>test_precision_macro</td><td>▁</td></tr><tr><td>test_precision_weighted</td><td>▁</td></tr><tr><td>test_recall_macro</td><td>▁</td></tr><tr><td>test_recall_weighted</td><td>▁</td></tr><tr><td>test_roc_auc_ovo</td><td>▁</td></tr><tr><td>test_roc_auc_ovr</td><td>▁</td></tr><tr><td>train_loss</td><td>█▆▅▅▄▄▄▃▃▃▃▃▃▃▂▂▂▂▂▂▂▂▂▂▂▁▁▁▁▁▁▁▁▁▁▁▁▁▁▁</td></tr></table><br/></div><div class=\"wandb-col\"><h3>Run summary:</h3><br/><table class=\"wandb\"><tr><td>epoch</td><td>79</td></tr><tr><td>test_accuracy</td><td>0.45835</td></tr><tr><td>test_f1_macro</td><td>0.33386</td></tr><tr><td>test_f1_weighted</td><td>0.49034</td></tr><tr><td>test_loss</td><td>1.29802</td></tr><tr><td>test_precision_macro</td><td>0.32777</td></tr><tr><td>test_precision_weighted</td><td>0.64664</td></tr><tr><td>test_recall_macro</td><td>0.55033</td></tr><tr><td>test_recall_weighted</td><td>0.45835</td></tr><tr><td>test_roc_auc_ovo</td><td>0.87702</td></tr><tr><td>test_roc_auc_ovr</td><td>0.84502</td></tr><tr><td>train_loss</td><td>1.23465</td></tr></table><br/></div></div>"
      ],
      "text/plain": [
       "<IPython.core.display.HTML object>"
      ]
     },
     "metadata": {},
     "output_type": "display_data"
    },
    {
     "data": {
      "text/html": [
       " View run <strong style=\"color:#cdcd00\">TFG_MUL_bs(256)_lr(0.001)_hs(25)_e(80)</strong> at: <a href='https://wandb.ai/TFG_Hugo/TFG_MUL_EVAL_2/runs/rp3nkoll' target=\"_blank\">https://wandb.ai/TFG_Hugo/TFG_MUL_EVAL_2/runs/rp3nkoll</a><br> View project at: <a href='https://wandb.ai/TFG_Hugo/TFG_MUL_EVAL_2' target=\"_blank\">https://wandb.ai/TFG_Hugo/TFG_MUL_EVAL_2</a><br>Synced 5 W&B file(s), 2 media file(s), 2 artifact file(s) and 1 other file(s)"
      ],
      "text/plain": [
       "<IPython.core.display.HTML object>"
      ]
     },
     "metadata": {},
     "output_type": "display_data"
    },
    {
     "data": {
      "text/html": [
       "Find logs at: <code>./wandb/run-20250604_142841-rp3nkoll/logs</code>"
      ],
      "text/plain": [
       "<IPython.core.display.HTML object>"
      ]
     },
     "metadata": {},
     "output_type": "display_data"
    },
    {
     "data": {
      "text/html": [
       "Tracking run with wandb version 0.19.10"
      ],
      "text/plain": [
       "<IPython.core.display.HTML object>"
      ]
     },
     "metadata": {},
     "output_type": "display_data"
    },
    {
     "data": {
      "text/html": [
       "Run data is saved locally in <code>/home/hugo/TFG/Notebooks/wandb/run-20250604_142922-om8bq225</code>"
      ],
      "text/plain": [
       "<IPython.core.display.HTML object>"
      ]
     },
     "metadata": {},
     "output_type": "display_data"
    },
    {
     "data": {
      "text/html": [
       "Syncing run <strong><a href='https://wandb.ai/TFG_Hugo/TFG_MUL_EVAL_2/runs/om8bq225' target=\"_blank\">TFG_MUL_bs(128)_lr(0.001)_hs(25)_e(50)</a></strong> to <a href='https://wandb.ai/TFG_Hugo/TFG_MUL_EVAL_2' target=\"_blank\">Weights & Biases</a> (<a href='https://wandb.me/developer-guide' target=\"_blank\">docs</a>)<br>"
      ],
      "text/plain": [
       "<IPython.core.display.HTML object>"
      ]
     },
     "metadata": {},
     "output_type": "display_data"
    },
    {
     "data": {
      "text/html": [
       " View project at <a href='https://wandb.ai/TFG_Hugo/TFG_MUL_EVAL_2' target=\"_blank\">https://wandb.ai/TFG_Hugo/TFG_MUL_EVAL_2</a>"
      ],
      "text/plain": [
       "<IPython.core.display.HTML object>"
      ]
     },
     "metadata": {},
     "output_type": "display_data"
    },
    {
     "data": {
      "text/html": [
       " View run at <a href='https://wandb.ai/TFG_Hugo/TFG_MUL_EVAL_2/runs/om8bq225' target=\"_blank\">https://wandb.ai/TFG_Hugo/TFG_MUL_EVAL_2/runs/om8bq225</a>"
      ],
      "text/plain": [
       "<IPython.core.display.HTML object>"
      ]
     },
     "metadata": {},
     "output_type": "display_data"
    },
    {
     "name": "stdout",
     "output_type": "stream",
     "text": [
      "\n",
      "Entrenando modelo multiclase con: bs=128, lr=0.001, hs=25, e=50\n",
      "\n",
      "Evaluación del modelo para la configuracií bs=128, lr=0.001 finalizada\n"
     ]
    },
    {
     "data": {
      "text/html": [],
      "text/plain": [
       "<IPython.core.display.HTML object>"
      ]
     },
     "metadata": {},
     "output_type": "display_data"
    },
    {
     "data": {
      "text/html": [
       "<br>    <style><br>        .wandb-row {<br>            display: flex;<br>            flex-direction: row;<br>            flex-wrap: wrap;<br>            justify-content: flex-start;<br>            width: 100%;<br>        }<br>        .wandb-col {<br>            display: flex;<br>            flex-direction: column;<br>            flex-basis: 100%;<br>            flex: 1;<br>            padding: 10px;<br>        }<br>    </style><br><div class=\"wandb-row\"><div class=\"wandb-col\"><h3>Run history:</h3><br/><table class=\"wandb\"><tr><td>epoch</td><td>▁▁▁▁▂▂▂▂▂▃▃▃▃▃▃▄▄▄▄▄▅▅▅▅▅▅▆▆▆▆▆▆▇▇▇▇▇███</td></tr><tr><td>test_accuracy</td><td>▁</td></tr><tr><td>test_f1_macro</td><td>▁</td></tr><tr><td>test_f1_weighted</td><td>▁</td></tr><tr><td>test_loss</td><td>▁</td></tr><tr><td>test_precision_macro</td><td>▁</td></tr><tr><td>test_precision_weighted</td><td>▁</td></tr><tr><td>test_recall_macro</td><td>▁</td></tr><tr><td>test_recall_weighted</td><td>▁</td></tr><tr><td>test_roc_auc_ovo</td><td>▁</td></tr><tr><td>test_roc_auc_ovr</td><td>▁</td></tr><tr><td>train_loss</td><td>█▅▄▃▃▃▃▂▂▂▂▂▂▂▂▂▂▂▂▂▁▁▁▂▁▁▁▁▁▁▁▁▁▁▁▁▁▁▁▁</td></tr></table><br/></div><div class=\"wandb-col\"><h3>Run summary:</h3><br/><table class=\"wandb\"><tr><td>epoch</td><td>49</td></tr><tr><td>test_accuracy</td><td>0.40645</td></tr><tr><td>test_f1_macro</td><td>0.30575</td></tr><tr><td>test_f1_weighted</td><td>0.43569</td></tr><tr><td>test_loss</td><td>1.3618</td></tr><tr><td>test_precision_macro</td><td>0.31777</td></tr><tr><td>test_precision_weighted</td><td>0.64072</td></tr><tr><td>test_recall_macro</td><td>0.53403</td></tr><tr><td>test_recall_weighted</td><td>0.40645</td></tr><tr><td>test_roc_auc_ovo</td><td>0.87034</td></tr><tr><td>test_roc_auc_ovr</td><td>0.83575</td></tr><tr><td>train_loss</td><td>1.28453</td></tr></table><br/></div></div>"
      ],
      "text/plain": [
       "<IPython.core.display.HTML object>"
      ]
     },
     "metadata": {},
     "output_type": "display_data"
    },
    {
     "data": {
      "text/html": [
       " View run <strong style=\"color:#cdcd00\">TFG_MUL_bs(128)_lr(0.001)_hs(25)_e(50)</strong> at: <a href='https://wandb.ai/TFG_Hugo/TFG_MUL_EVAL_2/runs/om8bq225' target=\"_blank\">https://wandb.ai/TFG_Hugo/TFG_MUL_EVAL_2/runs/om8bq225</a><br> View project at: <a href='https://wandb.ai/TFG_Hugo/TFG_MUL_EVAL_2' target=\"_blank\">https://wandb.ai/TFG_Hugo/TFG_MUL_EVAL_2</a><br>Synced 5 W&B file(s), 2 media file(s), 2 artifact file(s) and 1 other file(s)"
      ],
      "text/plain": [
       "<IPython.core.display.HTML object>"
      ]
     },
     "metadata": {},
     "output_type": "display_data"
    },
    {
     "data": {
      "text/html": [
       "Find logs at: <code>./wandb/run-20250604_142922-om8bq225/logs</code>"
      ],
      "text/plain": [
       "<IPython.core.display.HTML object>"
      ]
     },
     "metadata": {},
     "output_type": "display_data"
    },
    {
     "data": {
      "text/html": [
       "Tracking run with wandb version 0.19.10"
      ],
      "text/plain": [
       "<IPython.core.display.HTML object>"
      ]
     },
     "metadata": {},
     "output_type": "display_data"
    },
    {
     "data": {
      "text/html": [
       "Run data is saved locally in <code>/home/hugo/TFG/Notebooks/wandb/run-20250604_143157-e3bvuvfp</code>"
      ],
      "text/plain": [
       "<IPython.core.display.HTML object>"
      ]
     },
     "metadata": {},
     "output_type": "display_data"
    },
    {
     "data": {
      "text/html": [
       "Syncing run <strong><a href='https://wandb.ai/TFG_Hugo/TFG_MUL_EVAL_2/runs/e3bvuvfp' target=\"_blank\">TFG_MUL_bs(256)_lr(0.001)_hs(49)_e(50)</a></strong> to <a href='https://wandb.ai/TFG_Hugo/TFG_MUL_EVAL_2' target=\"_blank\">Weights & Biases</a> (<a href='https://wandb.me/developer-guide' target=\"_blank\">docs</a>)<br>"
      ],
      "text/plain": [
       "<IPython.core.display.HTML object>"
      ]
     },
     "metadata": {},
     "output_type": "display_data"
    },
    {
     "data": {
      "text/html": [
       " View project at <a href='https://wandb.ai/TFG_Hugo/TFG_MUL_EVAL_2' target=\"_blank\">https://wandb.ai/TFG_Hugo/TFG_MUL_EVAL_2</a>"
      ],
      "text/plain": [
       "<IPython.core.display.HTML object>"
      ]
     },
     "metadata": {},
     "output_type": "display_data"
    },
    {
     "data": {
      "text/html": [
       " View run at <a href='https://wandb.ai/TFG_Hugo/TFG_MUL_EVAL_2/runs/e3bvuvfp' target=\"_blank\">https://wandb.ai/TFG_Hugo/TFG_MUL_EVAL_2/runs/e3bvuvfp</a>"
      ],
      "text/plain": [
       "<IPython.core.display.HTML object>"
      ]
     },
     "metadata": {},
     "output_type": "display_data"
    },
    {
     "name": "stdout",
     "output_type": "stream",
     "text": [
      "\n",
      "Entrenando modelo multiclase con: bs=256, lr=0.001, hs=49, e=50\n",
      "\n",
      "Evaluación del modelo para la configuracií bs=256, lr=0.001 finalizada\n"
     ]
    },
    {
     "data": {
      "text/html": [],
      "text/plain": [
       "<IPython.core.display.HTML object>"
      ]
     },
     "metadata": {},
     "output_type": "display_data"
    },
    {
     "data": {
      "text/html": [
       "<br>    <style><br>        .wandb-row {<br>            display: flex;<br>            flex-direction: row;<br>            flex-wrap: wrap;<br>            justify-content: flex-start;<br>            width: 100%;<br>        }<br>        .wandb-col {<br>            display: flex;<br>            flex-direction: column;<br>            flex-basis: 100%;<br>            flex: 1;<br>            padding: 10px;<br>        }<br>    </style><br><div class=\"wandb-row\"><div class=\"wandb-col\"><h3>Run history:</h3><br/><table class=\"wandb\"><tr><td>epoch</td><td>▁▁▁▁▂▂▂▂▂▂▃▃▃▃▃▄▄▄▄▄▄▅▅▅▅▅▆▆▆▆▆▆▇▇▇▇▇▇██</td></tr><tr><td>test_accuracy</td><td>▁</td></tr><tr><td>test_f1_macro</td><td>▁</td></tr><tr><td>test_f1_weighted</td><td>▁</td></tr><tr><td>test_loss</td><td>▁</td></tr><tr><td>test_precision_macro</td><td>▁</td></tr><tr><td>test_precision_weighted</td><td>▁</td></tr><tr><td>test_recall_macro</td><td>▁</td></tr><tr><td>test_recall_weighted</td><td>▁</td></tr><tr><td>test_roc_auc_ovo</td><td>▁</td></tr><tr><td>test_roc_auc_ovr</td><td>▁</td></tr><tr><td>train_loss</td><td>█▅▄▄▄▃▃▃▃▃▃▂▂▂▂▂▂▂▂▂▂▂▂▂▂▂▂▁▁▁▁▁▁▁▁▁▁▁▁▁</td></tr></table><br/></div><div class=\"wandb-col\"><h3>Run summary:</h3><br/><table class=\"wandb\"><tr><td>epoch</td><td>49</td></tr><tr><td>test_accuracy</td><td>0.41608</td></tr><tr><td>test_f1_macro</td><td>0.32788</td></tr><tr><td>test_f1_weighted</td><td>0.43688</td></tr><tr><td>test_loss</td><td>1.31922</td></tr><tr><td>test_precision_macro</td><td>0.33121</td></tr><tr><td>test_precision_weighted</td><td>0.65105</td></tr><tr><td>test_recall_macro</td><td>0.53441</td></tr><tr><td>test_recall_weighted</td><td>0.41608</td></tr><tr><td>test_roc_auc_ovo</td><td>0.87526</td></tr><tr><td>test_roc_auc_ovr</td><td>0.84144</td></tr><tr><td>train_loss</td><td>1.20693</td></tr></table><br/></div></div>"
      ],
      "text/plain": [
       "<IPython.core.display.HTML object>"
      ]
     },
     "metadata": {},
     "output_type": "display_data"
    },
    {
     "data": {
      "text/html": [
       " View run <strong style=\"color:#cdcd00\">TFG_MUL_bs(256)_lr(0.001)_hs(49)_e(50)</strong> at: <a href='https://wandb.ai/TFG_Hugo/TFG_MUL_EVAL_2/runs/e3bvuvfp' target=\"_blank\">https://wandb.ai/TFG_Hugo/TFG_MUL_EVAL_2/runs/e3bvuvfp</a><br> View project at: <a href='https://wandb.ai/TFG_Hugo/TFG_MUL_EVAL_2' target=\"_blank\">https://wandb.ai/TFG_Hugo/TFG_MUL_EVAL_2</a><br>Synced 5 W&B file(s), 2 media file(s), 2 artifact file(s) and 1 other file(s)"
      ],
      "text/plain": [
       "<IPython.core.display.HTML object>"
      ]
     },
     "metadata": {},
     "output_type": "display_data"
    },
    {
     "data": {
      "text/html": [
       "Find logs at: <code>./wandb/run-20250604_143157-e3bvuvfp/logs</code>"
      ],
      "text/plain": [
       "<IPython.core.display.HTML object>"
      ]
     },
     "metadata": {},
     "output_type": "display_data"
    },
    {
     "data": {
      "text/html": [
       "Tracking run with wandb version 0.19.10"
      ],
      "text/plain": [
       "<IPython.core.display.HTML object>"
      ]
     },
     "metadata": {},
     "output_type": "display_data"
    },
    {
     "data": {
      "text/html": [
       "Run data is saved locally in <code>/home/hugo/TFG/Notebooks/wandb/run-20250604_143225-7h1i48g1</code>"
      ],
      "text/plain": [
       "<IPython.core.display.HTML object>"
      ]
     },
     "metadata": {},
     "output_type": "display_data"
    },
    {
     "data": {
      "text/html": [
       "Syncing run <strong><a href='https://wandb.ai/TFG_Hugo/TFG_MUL_EVAL_2/runs/7h1i48g1' target=\"_blank\">TFG_MUL_bs(128)_lr(0.001)_hs(49)_e(100)</a></strong> to <a href='https://wandb.ai/TFG_Hugo/TFG_MUL_EVAL_2' target=\"_blank\">Weights & Biases</a> (<a href='https://wandb.me/developer-guide' target=\"_blank\">docs</a>)<br>"
      ],
      "text/plain": [
       "<IPython.core.display.HTML object>"
      ]
     },
     "metadata": {},
     "output_type": "display_data"
    },
    {
     "data": {
      "text/html": [
       " View project at <a href='https://wandb.ai/TFG_Hugo/TFG_MUL_EVAL_2' target=\"_blank\">https://wandb.ai/TFG_Hugo/TFG_MUL_EVAL_2</a>"
      ],
      "text/plain": [
       "<IPython.core.display.HTML object>"
      ]
     },
     "metadata": {},
     "output_type": "display_data"
    },
    {
     "data": {
      "text/html": [
       " View run at <a href='https://wandb.ai/TFG_Hugo/TFG_MUL_EVAL_2/runs/7h1i48g1' target=\"_blank\">https://wandb.ai/TFG_Hugo/TFG_MUL_EVAL_2/runs/7h1i48g1</a>"
      ],
      "text/plain": [
       "<IPython.core.display.HTML object>"
      ]
     },
     "metadata": {},
     "output_type": "display_data"
    },
    {
     "name": "stdout",
     "output_type": "stream",
     "text": [
      "\n",
      "Entrenando modelo multiclase con: bs=128, lr=0.001, hs=49, e=100\n",
      "\n",
      "Evaluación del modelo para la configuracií bs=128, lr=0.001 finalizada\n"
     ]
    },
    {
     "data": {
      "text/html": [],
      "text/plain": [
       "<IPython.core.display.HTML object>"
      ]
     },
     "metadata": {},
     "output_type": "display_data"
    },
    {
     "data": {
      "text/html": [
       "<br>    <style><br>        .wandb-row {<br>            display: flex;<br>            flex-direction: row;<br>            flex-wrap: wrap;<br>            justify-content: flex-start;<br>            width: 100%;<br>        }<br>        .wandb-col {<br>            display: flex;<br>            flex-direction: column;<br>            flex-basis: 100%;<br>            flex: 1;<br>            padding: 10px;<br>        }<br>    </style><br><div class=\"wandb-row\"><div class=\"wandb-col\"><h3>Run history:</h3><br/><table class=\"wandb\"><tr><td>epoch</td><td>▁▁▁▂▂▂▂▃▃▃▃▃▃▃▃▄▄▄▄▅▅▅▅▅▅▆▆▆▆▆▆▆▆▇▇▇▇▇▇█</td></tr><tr><td>test_accuracy</td><td>▁</td></tr><tr><td>test_f1_macro</td><td>▁</td></tr><tr><td>test_f1_weighted</td><td>▁</td></tr><tr><td>test_loss</td><td>▁</td></tr><tr><td>test_precision_macro</td><td>▁</td></tr><tr><td>test_precision_weighted</td><td>▁</td></tr><tr><td>test_recall_macro</td><td>▁</td></tr><tr><td>test_recall_weighted</td><td>▁</td></tr><tr><td>test_roc_auc_ovo</td><td>▁</td></tr><tr><td>test_roc_auc_ovr</td><td>▁</td></tr><tr><td>train_loss</td><td>██▆▆▆▅▅▅▅▄▄▄▄▃▄▃▃▃▃▂▂▂▂▂▂▂▂▂▁▁▁▁▁▁▁▁▁▁▁▁</td></tr></table><br/></div><div class=\"wandb-col\"><h3>Run summary:</h3><br/><table class=\"wandb\"><tr><td>epoch</td><td>99</td></tr><tr><td>test_accuracy</td><td>0.42925</td></tr><tr><td>test_f1_macro</td><td>0.31695</td></tr><tr><td>test_f1_weighted</td><td>0.46758</td></tr><tr><td>test_loss</td><td>1.32435</td></tr><tr><td>test_precision_macro</td><td>0.32788</td></tr><tr><td>test_precision_weighted</td><td>0.65639</td></tr><tr><td>test_recall_macro</td><td>0.5526</td></tr><tr><td>test_recall_weighted</td><td>0.42925</td></tr><tr><td>test_roc_auc_ovo</td><td>0.88328</td></tr><tr><td>test_roc_auc_ovr</td><td>0.84752</td></tr><tr><td>train_loss</td><td>1.1972</td></tr></table><br/></div></div>"
      ],
      "text/plain": [
       "<IPython.core.display.HTML object>"
      ]
     },
     "metadata": {},
     "output_type": "display_data"
    },
    {
     "data": {
      "text/html": [
       " View run <strong style=\"color:#cdcd00\">TFG_MUL_bs(128)_lr(0.001)_hs(49)_e(100)</strong> at: <a href='https://wandb.ai/TFG_Hugo/TFG_MUL_EVAL_2/runs/7h1i48g1' target=\"_blank\">https://wandb.ai/TFG_Hugo/TFG_MUL_EVAL_2/runs/7h1i48g1</a><br> View project at: <a href='https://wandb.ai/TFG_Hugo/TFG_MUL_EVAL_2' target=\"_blank\">https://wandb.ai/TFG_Hugo/TFG_MUL_EVAL_2</a><br>Synced 5 W&B file(s), 2 media file(s), 2 artifact file(s) and 1 other file(s)"
      ],
      "text/plain": [
       "<IPython.core.display.HTML object>"
      ]
     },
     "metadata": {},
     "output_type": "display_data"
    },
    {
     "data": {
      "text/html": [
       "Find logs at: <code>./wandb/run-20250604_143225-7h1i48g1/logs</code>"
      ],
      "text/plain": [
       "<IPython.core.display.HTML object>"
      ]
     },
     "metadata": {},
     "output_type": "display_data"
    },
    {
     "data": {
      "text/html": [
       "Tracking run with wandb version 0.19.10"
      ],
      "text/plain": [
       "<IPython.core.display.HTML object>"
      ]
     },
     "metadata": {},
     "output_type": "display_data"
    },
    {
     "data": {
      "text/html": [
       "Run data is saved locally in <code>/home/hugo/TFG/Notebooks/wandb/run-20250604_143329-l5i1pffd</code>"
      ],
      "text/plain": [
       "<IPython.core.display.HTML object>"
      ]
     },
     "metadata": {},
     "output_type": "display_data"
    },
    {
     "data": {
      "text/html": [
       "Syncing run <strong><a href='https://wandb.ai/TFG_Hugo/TFG_MUL_EVAL_2/runs/l5i1pffd' target=\"_blank\">TFG_MUL_bs(128)_lr(0.001)_hs(49)_e(80)</a></strong> to <a href='https://wandb.ai/TFG_Hugo/TFG_MUL_EVAL_2' target=\"_blank\">Weights & Biases</a> (<a href='https://wandb.me/developer-guide' target=\"_blank\">docs</a>)<br>"
      ],
      "text/plain": [
       "<IPython.core.display.HTML object>"
      ]
     },
     "metadata": {},
     "output_type": "display_data"
    },
    {
     "data": {
      "text/html": [
       " View project at <a href='https://wandb.ai/TFG_Hugo/TFG_MUL_EVAL_2' target=\"_blank\">https://wandb.ai/TFG_Hugo/TFG_MUL_EVAL_2</a>"
      ],
      "text/plain": [
       "<IPython.core.display.HTML object>"
      ]
     },
     "metadata": {},
     "output_type": "display_data"
    },
    {
     "data": {
      "text/html": [
       " View run at <a href='https://wandb.ai/TFG_Hugo/TFG_MUL_EVAL_2/runs/l5i1pffd' target=\"_blank\">https://wandb.ai/TFG_Hugo/TFG_MUL_EVAL_2/runs/l5i1pffd</a>"
      ],
      "text/plain": [
       "<IPython.core.display.HTML object>"
      ]
     },
     "metadata": {},
     "output_type": "display_data"
    },
    {
     "name": "stdout",
     "output_type": "stream",
     "text": [
      "\n",
      "Entrenando modelo multiclase con: bs=128, lr=0.001, hs=49, e=80\n",
      "\n",
      "Evaluación del modelo para la configuracií bs=128, lr=0.001 finalizada\n"
     ]
    },
    {
     "data": {
      "text/html": [],
      "text/plain": [
       "<IPython.core.display.HTML object>"
      ]
     },
     "metadata": {},
     "output_type": "display_data"
    },
    {
     "data": {
      "text/html": [
       "<br>    <style><br>        .wandb-row {<br>            display: flex;<br>            flex-direction: row;<br>            flex-wrap: wrap;<br>            justify-content: flex-start;<br>            width: 100%;<br>        }<br>        .wandb-col {<br>            display: flex;<br>            flex-direction: column;<br>            flex-basis: 100%;<br>            flex: 1;<br>            padding: 10px;<br>        }<br>    </style><br><div class=\"wandb-row\"><div class=\"wandb-col\"><h3>Run history:</h3><br/><table class=\"wandb\"><tr><td>epoch</td><td>▁▁▁▁▂▂▂▂▂▂▃▃▃▃▃▄▄▄▄▄▅▅▅▅▅▅▆▆▆▆▆▆▆▇▇▇▇▇██</td></tr><tr><td>test_accuracy</td><td>▁</td></tr><tr><td>test_f1_macro</td><td>▁</td></tr><tr><td>test_f1_weighted</td><td>▁</td></tr><tr><td>test_loss</td><td>▁</td></tr><tr><td>test_precision_macro</td><td>▁</td></tr><tr><td>test_precision_weighted</td><td>▁</td></tr><tr><td>test_recall_macro</td><td>▁</td></tr><tr><td>test_recall_weighted</td><td>▁</td></tr><tr><td>test_roc_auc_ovo</td><td>▁</td></tr><tr><td>test_roc_auc_ovr</td><td>▁</td></tr><tr><td>train_loss</td><td>█▅▄▄▃▃▂▃▂▂▂▂▂▂▂▂▂▂▂▂▂▂▂▁▂▁▁▁▁▁▁▁▁▁▁▁▁▁▁▁</td></tr></table><br/></div><div class=\"wandb-col\"><h3>Run summary:</h3><br/><table class=\"wandb\"><tr><td>epoch</td><td>79</td></tr><tr><td>test_accuracy</td><td>0.45242</td></tr><tr><td>test_f1_macro</td><td>0.33919</td></tr><tr><td>test_f1_weighted</td><td>0.49823</td></tr><tr><td>test_loss</td><td>1.26775</td></tr><tr><td>test_precision_macro</td><td>0.33839</td></tr><tr><td>test_precision_weighted</td><td>0.67186</td></tr><tr><td>test_recall_macro</td><td>0.57288</td></tr><tr><td>test_recall_weighted</td><td>0.45242</td></tr><tr><td>test_roc_auc_ovo</td><td>0.88777</td></tr><tr><td>test_roc_auc_ovr</td><td>0.85909</td></tr><tr><td>train_loss</td><td>1.21135</td></tr></table><br/></div></div>"
      ],
      "text/plain": [
       "<IPython.core.display.HTML object>"
      ]
     },
     "metadata": {},
     "output_type": "display_data"
    },
    {
     "data": {
      "text/html": [
       " View run <strong style=\"color:#cdcd00\">TFG_MUL_bs(128)_lr(0.001)_hs(49)_e(80)</strong> at: <a href='https://wandb.ai/TFG_Hugo/TFG_MUL_EVAL_2/runs/l5i1pffd' target=\"_blank\">https://wandb.ai/TFG_Hugo/TFG_MUL_EVAL_2/runs/l5i1pffd</a><br> View project at: <a href='https://wandb.ai/TFG_Hugo/TFG_MUL_EVAL_2' target=\"_blank\">https://wandb.ai/TFG_Hugo/TFG_MUL_EVAL_2</a><br>Synced 5 W&B file(s), 2 media file(s), 2 artifact file(s) and 1 other file(s)"
      ],
      "text/plain": [
       "<IPython.core.display.HTML object>"
      ]
     },
     "metadata": {},
     "output_type": "display_data"
    },
    {
     "data": {
      "text/html": [
       "Find logs at: <code>./wandb/run-20250604_143329-l5i1pffd/logs</code>"
      ],
      "text/plain": [
       "<IPython.core.display.HTML object>"
      ]
     },
     "metadata": {},
     "output_type": "display_data"
    },
    {
     "data": {
      "text/html": [
       "Tracking run with wandb version 0.19.10"
      ],
      "text/plain": [
       "<IPython.core.display.HTML object>"
      ]
     },
     "metadata": {},
     "output_type": "display_data"
    },
    {
     "data": {
      "text/html": [
       "Run data is saved locally in <code>/home/hugo/TFG/Notebooks/wandb/run-20250604_143424-m0h1d7ol</code>"
      ],
      "text/plain": [
       "<IPython.core.display.HTML object>"
      ]
     },
     "metadata": {},
     "output_type": "display_data"
    },
    {
     "data": {
      "text/html": [
       "Syncing run <strong><a href='https://wandb.ai/TFG_Hugo/TFG_MUL_EVAL_2/runs/m0h1d7ol' target=\"_blank\">TFG_MUL_bs(64)_lr(0.001)_hs(49)_e(50)</a></strong> to <a href='https://wandb.ai/TFG_Hugo/TFG_MUL_EVAL_2' target=\"_blank\">Weights & Biases</a> (<a href='https://wandb.me/developer-guide' target=\"_blank\">docs</a>)<br>"
      ],
      "text/plain": [
       "<IPython.core.display.HTML object>"
      ]
     },
     "metadata": {},
     "output_type": "display_data"
    },
    {
     "data": {
      "text/html": [
       " View project at <a href='https://wandb.ai/TFG_Hugo/TFG_MUL_EVAL_2' target=\"_blank\">https://wandb.ai/TFG_Hugo/TFG_MUL_EVAL_2</a>"
      ],
      "text/plain": [
       "<IPython.core.display.HTML object>"
      ]
     },
     "metadata": {},
     "output_type": "display_data"
    },
    {
     "data": {
      "text/html": [
       " View run at <a href='https://wandb.ai/TFG_Hugo/TFG_MUL_EVAL_2/runs/m0h1d7ol' target=\"_blank\">https://wandb.ai/TFG_Hugo/TFG_MUL_EVAL_2/runs/m0h1d7ol</a>"
      ],
      "text/plain": [
       "<IPython.core.display.HTML object>"
      ]
     },
     "metadata": {},
     "output_type": "display_data"
    },
    {
     "name": "stdout",
     "output_type": "stream",
     "text": [
      "\n",
      "Entrenando modelo multiclase con: bs=64, lr=0.001, hs=49, e=50\n",
      "\n",
      "Evaluación del modelo para la configuracií bs=64, lr=0.001 finalizada\n"
     ]
    },
    {
     "data": {
      "text/html": [],
      "text/plain": [
       "<IPython.core.display.HTML object>"
      ]
     },
     "metadata": {},
     "output_type": "display_data"
    },
    {
     "data": {
      "text/html": [
       "<br>    <style><br>        .wandb-row {<br>            display: flex;<br>            flex-direction: row;<br>            flex-wrap: wrap;<br>            justify-content: flex-start;<br>            width: 100%;<br>        }<br>        .wandb-col {<br>            display: flex;<br>            flex-direction: column;<br>            flex-basis: 100%;<br>            flex: 1;<br>            padding: 10px;<br>        }<br>    </style><br><div class=\"wandb-row\"><div class=\"wandb-col\"><h3>Run history:</h3><br/><table class=\"wandb\"><tr><td>epoch</td><td>▁▁▁▁▂▂▂▂▂▂▃▃▃▃▃▄▄▄▄▄▄▅▅▅▅▅▆▆▆▆▆▆▇▇▇▇▇▇██</td></tr><tr><td>test_accuracy</td><td>▁</td></tr><tr><td>test_f1_macro</td><td>▁</td></tr><tr><td>test_f1_weighted</td><td>▁</td></tr><tr><td>test_loss</td><td>▁</td></tr><tr><td>test_precision_macro</td><td>▁</td></tr><tr><td>test_precision_weighted</td><td>▁</td></tr><tr><td>test_recall_macro</td><td>▁</td></tr><tr><td>test_recall_weighted</td><td>▁</td></tr><tr><td>test_roc_auc_ovo</td><td>▁</td></tr><tr><td>test_roc_auc_ovr</td><td>▁</td></tr><tr><td>train_loss</td><td>█▅▄▄▄▃▃▃▃▂▂▂▂▂▂▂▂▂▂▂▂▁▁▂▂▁▁▁▁▁▁▁▁▁▁▁▁▁▁▁</td></tr></table><br/></div><div class=\"wandb-col\"><h3>Run summary:</h3><br/><table class=\"wandb\"><tr><td>epoch</td><td>49</td></tr><tr><td>test_accuracy</td><td>0.46162</td></tr><tr><td>test_f1_macro</td><td>0.32578</td></tr><tr><td>test_f1_weighted</td><td>0.50107</td></tr><tr><td>test_loss</td><td>1.33608</td></tr><tr><td>test_precision_macro</td><td>0.32653</td></tr><tr><td>test_precision_weighted</td><td>0.64865</td></tr><tr><td>test_recall_macro</td><td>0.55538</td></tr><tr><td>test_recall_weighted</td><td>0.46162</td></tr><tr><td>test_roc_auc_ovo</td><td>0.87791</td></tr><tr><td>test_roc_auc_ovr</td><td>0.84868</td></tr><tr><td>train_loss</td><td>1.27613</td></tr></table><br/></div></div>"
      ],
      "text/plain": [
       "<IPython.core.display.HTML object>"
      ]
     },
     "metadata": {},
     "output_type": "display_data"
    },
    {
     "data": {
      "text/html": [
       " View run <strong style=\"color:#cdcd00\">TFG_MUL_bs(64)_lr(0.001)_hs(49)_e(50)</strong> at: <a href='https://wandb.ai/TFG_Hugo/TFG_MUL_EVAL_2/runs/m0h1d7ol' target=\"_blank\">https://wandb.ai/TFG_Hugo/TFG_MUL_EVAL_2/runs/m0h1d7ol</a><br> View project at: <a href='https://wandb.ai/TFG_Hugo/TFG_MUL_EVAL_2' target=\"_blank\">https://wandb.ai/TFG_Hugo/TFG_MUL_EVAL_2</a><br>Synced 5 W&B file(s), 2 media file(s), 2 artifact file(s) and 1 other file(s)"
      ],
      "text/plain": [
       "<IPython.core.display.HTML object>"
      ]
     },
     "metadata": {},
     "output_type": "display_data"
    },
    {
     "data": {
      "text/html": [
       "Find logs at: <code>./wandb/run-20250604_143424-m0h1d7ol/logs</code>"
      ],
      "text/plain": [
       "<IPython.core.display.HTML object>"
      ]
     },
     "metadata": {},
     "output_type": "display_data"
    },
    {
     "data": {
      "text/html": [
       "Tracking run with wandb version 0.19.10"
      ],
      "text/plain": [
       "<IPython.core.display.HTML object>"
      ]
     },
     "metadata": {},
     "output_type": "display_data"
    },
    {
     "data": {
      "text/html": [
       "Run data is saved locally in <code>/home/hugo/TFG/Notebooks/wandb/run-20250604_143516-iz6o8rxx</code>"
      ],
      "text/plain": [
       "<IPython.core.display.HTML object>"
      ]
     },
     "metadata": {},
     "output_type": "display_data"
    },
    {
     "data": {
      "text/html": [
       "Syncing run <strong><a href='https://wandb.ai/TFG_Hugo/TFG_MUL_EVAL_2/runs/iz6o8rxx' target=\"_blank\">TFG_MUL_bs(256)_lr(0.001)_hs(49)_e(80)</a></strong> to <a href='https://wandb.ai/TFG_Hugo/TFG_MUL_EVAL_2' target=\"_blank\">Weights & Biases</a> (<a href='https://wandb.me/developer-guide' target=\"_blank\">docs</a>)<br>"
      ],
      "text/plain": [
       "<IPython.core.display.HTML object>"
      ]
     },
     "metadata": {},
     "output_type": "display_data"
    },
    {
     "data": {
      "text/html": [
       " View project at <a href='https://wandb.ai/TFG_Hugo/TFG_MUL_EVAL_2' target=\"_blank\">https://wandb.ai/TFG_Hugo/TFG_MUL_EVAL_2</a>"
      ],
      "text/plain": [
       "<IPython.core.display.HTML object>"
      ]
     },
     "metadata": {},
     "output_type": "display_data"
    },
    {
     "data": {
      "text/html": [
       " View run at <a href='https://wandb.ai/TFG_Hugo/TFG_MUL_EVAL_2/runs/iz6o8rxx' target=\"_blank\">https://wandb.ai/TFG_Hugo/TFG_MUL_EVAL_2/runs/iz6o8rxx</a>"
      ],
      "text/plain": [
       "<IPython.core.display.HTML object>"
      ]
     },
     "metadata": {},
     "output_type": "display_data"
    },
    {
     "name": "stdout",
     "output_type": "stream",
     "text": [
      "\n",
      "Entrenando modelo multiclase con: bs=256, lr=0.001, hs=49, e=80\n",
      "\n",
      "Evaluación del modelo para la configuracií bs=256, lr=0.001 finalizada\n"
     ]
    },
    {
     "data": {
      "text/html": [],
      "text/plain": [
       "<IPython.core.display.HTML object>"
      ]
     },
     "metadata": {},
     "output_type": "display_data"
    },
    {
     "data": {
      "text/html": [
       "<br>    <style><br>        .wandb-row {<br>            display: flex;<br>            flex-direction: row;<br>            flex-wrap: wrap;<br>            justify-content: flex-start;<br>            width: 100%;<br>        }<br>        .wandb-col {<br>            display: flex;<br>            flex-direction: column;<br>            flex-basis: 100%;<br>            flex: 1;<br>            padding: 10px;<br>        }<br>    </style><br><div class=\"wandb-row\"><div class=\"wandb-col\"><h3>Run history:</h3><br/><table class=\"wandb\"><tr><td>epoch</td><td>▁▁▁▁▁▂▂▂▂▂▃▃▃▃▃▃▄▄▄▄▄▄▅▅▅▅▅▅▅▆▆▆▆▆▇▇▇███</td></tr><tr><td>test_accuracy</td><td>▁</td></tr><tr><td>test_f1_macro</td><td>▁</td></tr><tr><td>test_f1_weighted</td><td>▁</td></tr><tr><td>test_loss</td><td>▁</td></tr><tr><td>test_precision_macro</td><td>▁</td></tr><tr><td>test_precision_weighted</td><td>▁</td></tr><tr><td>test_recall_macro</td><td>▁</td></tr><tr><td>test_recall_weighted</td><td>▁</td></tr><tr><td>test_roc_auc_ovo</td><td>▁</td></tr><tr><td>test_roc_auc_ovr</td><td>▁</td></tr><tr><td>train_loss</td><td>█▆▆▅▅▄▄▄▄▄▃▃▃▃▃▃▃▃▂▃▂▂▂▂▂▂▂▂▂▁▁▁▁▁▁▁▁▁▁▁</td></tr></table><br/></div><div class=\"wandb-col\"><h3>Run summary:</h3><br/><table class=\"wandb\"><tr><td>epoch</td><td>79</td></tr><tr><td>test_accuracy</td><td>0.48659</td></tr><tr><td>test_f1_macro</td><td>0.3688</td></tr><tr><td>test_f1_weighted</td><td>0.51665</td></tr><tr><td>test_loss</td><td>1.29964</td></tr><tr><td>test_precision_macro</td><td>0.34893</td></tr><tr><td>test_precision_weighted</td><td>0.65766</td></tr><tr><td>test_recall_macro</td><td>0.56093</td></tr><tr><td>test_recall_weighted</td><td>0.48659</td></tr><tr><td>test_roc_auc_ovo</td><td>0.88313</td></tr><tr><td>test_roc_auc_ovr</td><td>0.85087</td></tr><tr><td>train_loss</td><td>1.18412</td></tr></table><br/></div></div>"
      ],
      "text/plain": [
       "<IPython.core.display.HTML object>"
      ]
     },
     "metadata": {},
     "output_type": "display_data"
    },
    {
     "data": {
      "text/html": [
       " View run <strong style=\"color:#cdcd00\">TFG_MUL_bs(256)_lr(0.001)_hs(49)_e(80)</strong> at: <a href='https://wandb.ai/TFG_Hugo/TFG_MUL_EVAL_2/runs/iz6o8rxx' target=\"_blank\">https://wandb.ai/TFG_Hugo/TFG_MUL_EVAL_2/runs/iz6o8rxx</a><br> View project at: <a href='https://wandb.ai/TFG_Hugo/TFG_MUL_EVAL_2' target=\"_blank\">https://wandb.ai/TFG_Hugo/TFG_MUL_EVAL_2</a><br>Synced 5 W&B file(s), 2 media file(s), 2 artifact file(s) and 1 other file(s)"
      ],
      "text/plain": [
       "<IPython.core.display.HTML object>"
      ]
     },
     "metadata": {},
     "output_type": "display_data"
    },
    {
     "data": {
      "text/html": [
       "Find logs at: <code>./wandb/run-20250604_143516-iz6o8rxx/logs</code>"
      ],
      "text/plain": [
       "<IPython.core.display.HTML object>"
      ]
     },
     "metadata": {},
     "output_type": "display_data"
    },
    {
     "data": {
      "text/html": [
       "Tracking run with wandb version 0.19.10"
      ],
      "text/plain": [
       "<IPython.core.display.HTML object>"
      ]
     },
     "metadata": {},
     "output_type": "display_data"
    },
    {
     "data": {
      "text/html": [
       "Run data is saved locally in <code>/home/hugo/TFG/Notebooks/wandb/run-20250604_143558-9kkf3xqm</code>"
      ],
      "text/plain": [
       "<IPython.core.display.HTML object>"
      ]
     },
     "metadata": {},
     "output_type": "display_data"
    },
    {
     "data": {
      "text/html": [
       "Syncing run <strong><a href='https://wandb.ai/TFG_Hugo/TFG_MUL_EVAL_2/runs/9kkf3xqm' target=\"_blank\">TFG_MUL_bs(256)_lr(0.001)_hs(98)_e(100)</a></strong> to <a href='https://wandb.ai/TFG_Hugo/TFG_MUL_EVAL_2' target=\"_blank\">Weights & Biases</a> (<a href='https://wandb.me/developer-guide' target=\"_blank\">docs</a>)<br>"
      ],
      "text/plain": [
       "<IPython.core.display.HTML object>"
      ]
     },
     "metadata": {},
     "output_type": "display_data"
    },
    {
     "data": {
      "text/html": [
       " View project at <a href='https://wandb.ai/TFG_Hugo/TFG_MUL_EVAL_2' target=\"_blank\">https://wandb.ai/TFG_Hugo/TFG_MUL_EVAL_2</a>"
      ],
      "text/plain": [
       "<IPython.core.display.HTML object>"
      ]
     },
     "metadata": {},
     "output_type": "display_data"
    },
    {
     "data": {
      "text/html": [
       " View run at <a href='https://wandb.ai/TFG_Hugo/TFG_MUL_EVAL_2/runs/9kkf3xqm' target=\"_blank\">https://wandb.ai/TFG_Hugo/TFG_MUL_EVAL_2/runs/9kkf3xqm</a>"
      ],
      "text/plain": [
       "<IPython.core.display.HTML object>"
      ]
     },
     "metadata": {},
     "output_type": "display_data"
    },
    {
     "name": "stdout",
     "output_type": "stream",
     "text": [
      "\n",
      "Entrenando modelo multiclase con: bs=256, lr=0.001, hs=98, e=100\n",
      "\n",
      "Evaluación del modelo para la configuracií bs=256, lr=0.001 finalizada\n"
     ]
    },
    {
     "data": {
      "text/html": [],
      "text/plain": [
       "<IPython.core.display.HTML object>"
      ]
     },
     "metadata": {},
     "output_type": "display_data"
    },
    {
     "data": {
      "text/html": [
       "<br>    <style><br>        .wandb-row {<br>            display: flex;<br>            flex-direction: row;<br>            flex-wrap: wrap;<br>            justify-content: flex-start;<br>            width: 100%;<br>        }<br>        .wandb-col {<br>            display: flex;<br>            flex-direction: column;<br>            flex-basis: 100%;<br>            flex: 1;<br>            padding: 10px;<br>        }<br>    </style><br><div class=\"wandb-row\"><div class=\"wandb-col\"><h3>Run history:</h3><br/><table class=\"wandb\"><tr><td>epoch</td><td>▁▁▁▂▂▂▂▂▂▂▃▃▃▃▃▃▃▃▄▄▄▄▅▅▅▅▆▆▆▆▆▆▇▇▇▇▇███</td></tr><tr><td>test_accuracy</td><td>▁</td></tr><tr><td>test_f1_macro</td><td>▁</td></tr><tr><td>test_f1_weighted</td><td>▁</td></tr><tr><td>test_loss</td><td>▁</td></tr><tr><td>test_precision_macro</td><td>▁</td></tr><tr><td>test_precision_weighted</td><td>▁</td></tr><tr><td>test_recall_macro</td><td>▁</td></tr><tr><td>test_recall_weighted</td><td>▁</td></tr><tr><td>test_roc_auc_ovo</td><td>▁</td></tr><tr><td>test_roc_auc_ovr</td><td>▁</td></tr><tr><td>train_loss</td><td>█▆▅▄▄▄▄▄▃▃▃▃▃▃▃▂▂▂▂▂▂▂▂▂▂▁▁▁▁▁▁▁▁▁▁▁▁▁▁▁</td></tr></table><br/></div><div class=\"wandb-col\"><h3>Run summary:</h3><br/><table class=\"wandb\"><tr><td>epoch</td><td>99</td></tr><tr><td>test_accuracy</td><td>0.44704</td></tr><tr><td>test_f1_macro</td><td>0.33947</td></tr><tr><td>test_f1_weighted</td><td>0.50643</td></tr><tr><td>test_loss</td><td>1.33754</td></tr><tr><td>test_precision_macro</td><td>0.36862</td></tr><tr><td>test_precision_weighted</td><td>0.70009</td></tr><tr><td>test_recall_macro</td><td>0.57813</td></tr><tr><td>test_recall_weighted</td><td>0.44704</td></tr><tr><td>test_roc_auc_ovo</td><td>0.88808</td></tr><tr><td>test_roc_auc_ovr</td><td>0.85987</td></tr><tr><td>train_loss</td><td>1.12091</td></tr></table><br/></div></div>"
      ],
      "text/plain": [
       "<IPython.core.display.HTML object>"
      ]
     },
     "metadata": {},
     "output_type": "display_data"
    },
    {
     "data": {
      "text/html": [
       " View run <strong style=\"color:#cdcd00\">TFG_MUL_bs(256)_lr(0.001)_hs(98)_e(100)</strong> at: <a href='https://wandb.ai/TFG_Hugo/TFG_MUL_EVAL_2/runs/9kkf3xqm' target=\"_blank\">https://wandb.ai/TFG_Hugo/TFG_MUL_EVAL_2/runs/9kkf3xqm</a><br> View project at: <a href='https://wandb.ai/TFG_Hugo/TFG_MUL_EVAL_2' target=\"_blank\">https://wandb.ai/TFG_Hugo/TFG_MUL_EVAL_2</a><br>Synced 5 W&B file(s), 2 media file(s), 2 artifact file(s) and 1 other file(s)"
      ],
      "text/plain": [
       "<IPython.core.display.HTML object>"
      ]
     },
     "metadata": {},
     "output_type": "display_data"
    },
    {
     "data": {
      "text/html": [
       "Find logs at: <code>./wandb/run-20250604_143558-9kkf3xqm/logs</code>"
      ],
      "text/plain": [
       "<IPython.core.display.HTML object>"
      ]
     },
     "metadata": {},
     "output_type": "display_data"
    },
    {
     "data": {
      "text/html": [
       "Tracking run with wandb version 0.19.10"
      ],
      "text/plain": [
       "<IPython.core.display.HTML object>"
      ]
     },
     "metadata": {},
     "output_type": "display_data"
    },
    {
     "data": {
      "text/html": [
       "Run data is saved locally in <code>/home/hugo/TFG/Notebooks/wandb/run-20250604_143650-nufa751e</code>"
      ],
      "text/plain": [
       "<IPython.core.display.HTML object>"
      ]
     },
     "metadata": {},
     "output_type": "display_data"
    },
    {
     "data": {
      "text/html": [
       "Syncing run <strong><a href='https://wandb.ai/TFG_Hugo/TFG_MUL_EVAL_2/runs/nufa751e' target=\"_blank\">TFG_MUL_bs(256)_lr(0.001)_hs(98)_e(80)</a></strong> to <a href='https://wandb.ai/TFG_Hugo/TFG_MUL_EVAL_2' target=\"_blank\">Weights & Biases</a> (<a href='https://wandb.me/developer-guide' target=\"_blank\">docs</a>)<br>"
      ],
      "text/plain": [
       "<IPython.core.display.HTML object>"
      ]
     },
     "metadata": {},
     "output_type": "display_data"
    },
    {
     "data": {
      "text/html": [
       " View project at <a href='https://wandb.ai/TFG_Hugo/TFG_MUL_EVAL_2' target=\"_blank\">https://wandb.ai/TFG_Hugo/TFG_MUL_EVAL_2</a>"
      ],
      "text/plain": [
       "<IPython.core.display.HTML object>"
      ]
     },
     "metadata": {},
     "output_type": "display_data"
    },
    {
     "data": {
      "text/html": [
       " View run at <a href='https://wandb.ai/TFG_Hugo/TFG_MUL_EVAL_2/runs/nufa751e' target=\"_blank\">https://wandb.ai/TFG_Hugo/TFG_MUL_EVAL_2/runs/nufa751e</a>"
      ],
      "text/plain": [
       "<IPython.core.display.HTML object>"
      ]
     },
     "metadata": {},
     "output_type": "display_data"
    },
    {
     "name": "stdout",
     "output_type": "stream",
     "text": [
      "\n",
      "Entrenando modelo multiclase con: bs=256, lr=0.001, hs=98, e=80\n",
      "\n",
      "Evaluación del modelo para la configuracií bs=256, lr=0.001 finalizada\n"
     ]
    },
    {
     "data": {
      "text/html": [],
      "text/plain": [
       "<IPython.core.display.HTML object>"
      ]
     },
     "metadata": {},
     "output_type": "display_data"
    },
    {
     "data": {
      "text/html": [
       "<br>    <style><br>        .wandb-row {<br>            display: flex;<br>            flex-direction: row;<br>            flex-wrap: wrap;<br>            justify-content: flex-start;<br>            width: 100%;<br>        }<br>        .wandb-col {<br>            display: flex;<br>            flex-direction: column;<br>            flex-basis: 100%;<br>            flex: 1;<br>            padding: 10px;<br>        }<br>    </style><br><div class=\"wandb-row\"><div class=\"wandb-col\"><h3>Run history:</h3><br/><table class=\"wandb\"><tr><td>epoch</td><td>▁▁▁▁▁▂▂▂▂▂▃▃▃▃▃▃▄▄▄▄▅▅▅▅▅▅▆▆▆▆▇▇▇▇▇▇████</td></tr><tr><td>test_accuracy</td><td>▁</td></tr><tr><td>test_f1_macro</td><td>▁</td></tr><tr><td>test_f1_weighted</td><td>▁</td></tr><tr><td>test_loss</td><td>▁</td></tr><tr><td>test_precision_macro</td><td>▁</td></tr><tr><td>test_precision_weighted</td><td>▁</td></tr><tr><td>test_recall_macro</td><td>▁</td></tr><tr><td>test_recall_weighted</td><td>▁</td></tr><tr><td>test_roc_auc_ovo</td><td>▁</td></tr><tr><td>test_roc_auc_ovr</td><td>▁</td></tr><tr><td>train_loss</td><td>█▄▄▄▄▃▃▃▂▂▂▂▂▂▂▂▂▂▂▂▂▂▁▁▁▁▁▁▁▁▁▁▁▁▁▁▁▁▁▁</td></tr></table><br/></div><div class=\"wandb-col\"><h3>Run summary:</h3><br/><table class=\"wandb\"><tr><td>epoch</td><td>79</td></tr><tr><td>test_accuracy</td><td>0.45618</td></tr><tr><td>test_f1_macro</td><td>0.3457</td></tr><tr><td>test_f1_weighted</td><td>0.50909</td></tr><tr><td>test_loss</td><td>1.26156</td></tr><tr><td>test_precision_macro</td><td>0.35587</td></tr><tr><td>test_precision_weighted</td><td>0.69038</td></tr><tr><td>test_recall_macro</td><td>0.58381</td></tr><tr><td>test_recall_weighted</td><td>0.45618</td></tr><tr><td>test_roc_auc_ovo</td><td>0.89055</td></tr><tr><td>test_roc_auc_ovr</td><td>0.85747</td></tr><tr><td>train_loss</td><td>1.1328</td></tr></table><br/></div></div>"
      ],
      "text/plain": [
       "<IPython.core.display.HTML object>"
      ]
     },
     "metadata": {},
     "output_type": "display_data"
    },
    {
     "data": {
      "text/html": [
       " View run <strong style=\"color:#cdcd00\">TFG_MUL_bs(256)_lr(0.001)_hs(98)_e(80)</strong> at: <a href='https://wandb.ai/TFG_Hugo/TFG_MUL_EVAL_2/runs/nufa751e' target=\"_blank\">https://wandb.ai/TFG_Hugo/TFG_MUL_EVAL_2/runs/nufa751e</a><br> View project at: <a href='https://wandb.ai/TFG_Hugo/TFG_MUL_EVAL_2' target=\"_blank\">https://wandb.ai/TFG_Hugo/TFG_MUL_EVAL_2</a><br>Synced 5 W&B file(s), 2 media file(s), 2 artifact file(s) and 1 other file(s)"
      ],
      "text/plain": [
       "<IPython.core.display.HTML object>"
      ]
     },
     "metadata": {},
     "output_type": "display_data"
    },
    {
     "data": {
      "text/html": [
       "Find logs at: <code>./wandb/run-20250604_143650-nufa751e/logs</code>"
      ],
      "text/plain": [
       "<IPython.core.display.HTML object>"
      ]
     },
     "metadata": {},
     "output_type": "display_data"
    },
    {
     "data": {
      "text/html": [
       "Tracking run with wandb version 0.19.10"
      ],
      "text/plain": [
       "<IPython.core.display.HTML object>"
      ]
     },
     "metadata": {},
     "output_type": "display_data"
    },
    {
     "data": {
      "text/html": [
       "Run data is saved locally in <code>/home/hugo/TFG/Notebooks/wandb/run-20250604_143732-4so78t9x</code>"
      ],
      "text/plain": [
       "<IPython.core.display.HTML object>"
      ]
     },
     "metadata": {},
     "output_type": "display_data"
    },
    {
     "data": {
      "text/html": [
       "Syncing run <strong><a href='https://wandb.ai/TFG_Hugo/TFG_MUL_EVAL_2/runs/4so78t9x' target=\"_blank\">TFG_MUL_bs(512)_lr(0.01)_hs(98)_e(100)</a></strong> to <a href='https://wandb.ai/TFG_Hugo/TFG_MUL_EVAL_2' target=\"_blank\">Weights & Biases</a> (<a href='https://wandb.me/developer-guide' target=\"_blank\">docs</a>)<br>"
      ],
      "text/plain": [
       "<IPython.core.display.HTML object>"
      ]
     },
     "metadata": {},
     "output_type": "display_data"
    },
    {
     "data": {
      "text/html": [
       " View project at <a href='https://wandb.ai/TFG_Hugo/TFG_MUL_EVAL_2' target=\"_blank\">https://wandb.ai/TFG_Hugo/TFG_MUL_EVAL_2</a>"
      ],
      "text/plain": [
       "<IPython.core.display.HTML object>"
      ]
     },
     "metadata": {},
     "output_type": "display_data"
    },
    {
     "data": {
      "text/html": [
       " View run at <a href='https://wandb.ai/TFG_Hugo/TFG_MUL_EVAL_2/runs/4so78t9x' target=\"_blank\">https://wandb.ai/TFG_Hugo/TFG_MUL_EVAL_2/runs/4so78t9x</a>"
      ],
      "text/plain": [
       "<IPython.core.display.HTML object>"
      ]
     },
     "metadata": {},
     "output_type": "display_data"
    },
    {
     "name": "stdout",
     "output_type": "stream",
     "text": [
      "\n",
      "Entrenando modelo multiclase con: bs=512, lr=0.01, hs=98, e=100\n",
      "\n",
      "Evaluación del modelo para la configuracií bs=512, lr=0.01 finalizada\n"
     ]
    },
    {
     "data": {
      "text/html": [],
      "text/plain": [
       "<IPython.core.display.HTML object>"
      ]
     },
     "metadata": {},
     "output_type": "display_data"
    },
    {
     "data": {
      "text/html": [
       "<br>    <style><br>        .wandb-row {<br>            display: flex;<br>            flex-direction: row;<br>            flex-wrap: wrap;<br>            justify-content: flex-start;<br>            width: 100%;<br>        }<br>        .wandb-col {<br>            display: flex;<br>            flex-direction: column;<br>            flex-basis: 100%;<br>            flex: 1;<br>            padding: 10px;<br>        }<br>    </style><br><div class=\"wandb-row\"><div class=\"wandb-col\"><h3>Run history:</h3><br/><table class=\"wandb\"><tr><td>epoch</td><td>▁▁▁▁▂▂▂▂▂▂▃▃▃▃▃▃▄▄▄▄▄▄▅▅▅▅▅▆▆▆▆▆▆▇▇▇▇███</td></tr><tr><td>test_accuracy</td><td>▁</td></tr><tr><td>test_f1_macro</td><td>▁</td></tr><tr><td>test_f1_weighted</td><td>▁</td></tr><tr><td>test_loss</td><td>▁</td></tr><tr><td>test_precision_macro</td><td>▁</td></tr><tr><td>test_precision_weighted</td><td>▁</td></tr><tr><td>test_recall_macro</td><td>▁</td></tr><tr><td>test_recall_weighted</td><td>▁</td></tr><tr><td>test_roc_auc_ovo</td><td>▁</td></tr><tr><td>test_roc_auc_ovr</td><td>▁</td></tr><tr><td>train_loss</td><td>█▆▅▄▃▃▃▃▂▂▂▂▂▂▂▂▁▂▁▁▁▁▁▁▁▁▁▁▁▁▁▁▁▁▁▁▁▁▁▁</td></tr></table><br/></div><div class=\"wandb-col\"><h3>Run summary:</h3><br/><table class=\"wandb\"><tr><td>epoch</td><td>99</td></tr><tr><td>test_accuracy</td><td>0.46009</td></tr><tr><td>test_f1_macro</td><td>0.35996</td></tr><tr><td>test_f1_weighted</td><td>0.49239</td></tr><tr><td>test_loss</td><td>1.38911</td></tr><tr><td>test_precision_macro</td><td>0.34813</td></tr><tr><td>test_precision_weighted</td><td>0.64668</td></tr><tr><td>test_recall_macro</td><td>0.57329</td></tr><tr><td>test_recall_weighted</td><td>0.46009</td></tr><tr><td>test_roc_auc_ovo</td><td>0.87983</td></tr><tr><td>test_roc_auc_ovr</td><td>0.85895</td></tr><tr><td>train_loss</td><td>1.08871</td></tr></table><br/></div></div>"
      ],
      "text/plain": [
       "<IPython.core.display.HTML object>"
      ]
     },
     "metadata": {},
     "output_type": "display_data"
    },
    {
     "data": {
      "text/html": [
       " View run <strong style=\"color:#cdcd00\">TFG_MUL_bs(512)_lr(0.01)_hs(98)_e(100)</strong> at: <a href='https://wandb.ai/TFG_Hugo/TFG_MUL_EVAL_2/runs/4so78t9x' target=\"_blank\">https://wandb.ai/TFG_Hugo/TFG_MUL_EVAL_2/runs/4so78t9x</a><br> View project at: <a href='https://wandb.ai/TFG_Hugo/TFG_MUL_EVAL_2' target=\"_blank\">https://wandb.ai/TFG_Hugo/TFG_MUL_EVAL_2</a><br>Synced 5 W&B file(s), 2 media file(s), 2 artifact file(s) and 1 other file(s)"
      ],
      "text/plain": [
       "<IPython.core.display.HTML object>"
      ]
     },
     "metadata": {},
     "output_type": "display_data"
    },
    {
     "data": {
      "text/html": [
       "Find logs at: <code>./wandb/run-20250604_143732-4so78t9x/logs</code>"
      ],
      "text/plain": [
       "<IPython.core.display.HTML object>"
      ]
     },
     "metadata": {},
     "output_type": "display_data"
    },
    {
     "data": {
      "text/html": [
       "Tracking run with wandb version 0.19.10"
      ],
      "text/plain": [
       "<IPython.core.display.HTML object>"
      ]
     },
     "metadata": {},
     "output_type": "display_data"
    },
    {
     "data": {
      "text/html": [
       "Run data is saved locally in <code>/home/hugo/TFG/Notebooks/wandb/run-20250604_143818-y3be2l11</code>"
      ],
      "text/plain": [
       "<IPython.core.display.HTML object>"
      ]
     },
     "metadata": {},
     "output_type": "display_data"
    },
    {
     "data": {
      "text/html": [
       "Syncing run <strong><a href='https://wandb.ai/TFG_Hugo/TFG_MUL_EVAL_2/runs/y3be2l11' target=\"_blank\">TFG_MUL_bs(64)_lr(0.001)_hs(98)_e(80)</a></strong> to <a href='https://wandb.ai/TFG_Hugo/TFG_MUL_EVAL_2' target=\"_blank\">Weights & Biases</a> (<a href='https://wandb.me/developer-guide' target=\"_blank\">docs</a>)<br>"
      ],
      "text/plain": [
       "<IPython.core.display.HTML object>"
      ]
     },
     "metadata": {},
     "output_type": "display_data"
    },
    {
     "data": {
      "text/html": [
       " View project at <a href='https://wandb.ai/TFG_Hugo/TFG_MUL_EVAL_2' target=\"_blank\">https://wandb.ai/TFG_Hugo/TFG_MUL_EVAL_2</a>"
      ],
      "text/plain": [
       "<IPython.core.display.HTML object>"
      ]
     },
     "metadata": {},
     "output_type": "display_data"
    },
    {
     "data": {
      "text/html": [
       " View run at <a href='https://wandb.ai/TFG_Hugo/TFG_MUL_EVAL_2/runs/y3be2l11' target=\"_blank\">https://wandb.ai/TFG_Hugo/TFG_MUL_EVAL_2/runs/y3be2l11</a>"
      ],
      "text/plain": [
       "<IPython.core.display.HTML object>"
      ]
     },
     "metadata": {},
     "output_type": "display_data"
    },
    {
     "name": "stdout",
     "output_type": "stream",
     "text": [
      "\n",
      "Entrenando modelo multiclase con: bs=64, lr=0.001, hs=98, e=80\n",
      "\n",
      "Evaluación del modelo para la configuracií bs=64, lr=0.001 finalizada\n"
     ]
    },
    {
     "data": {
      "text/html": [],
      "text/plain": [
       "<IPython.core.display.HTML object>"
      ]
     },
     "metadata": {},
     "output_type": "display_data"
    },
    {
     "data": {
      "text/html": [
       "<br>    <style><br>        .wandb-row {<br>            display: flex;<br>            flex-direction: row;<br>            flex-wrap: wrap;<br>            justify-content: flex-start;<br>            width: 100%;<br>        }<br>        .wandb-col {<br>            display: flex;<br>            flex-direction: column;<br>            flex-basis: 100%;<br>            flex: 1;<br>            padding: 10px;<br>        }<br>    </style><br><div class=\"wandb-row\"><div class=\"wandb-col\"><h3>Run history:</h3><br/><table class=\"wandb\"><tr><td>epoch</td><td>▁▁▁▁▂▂▂▂▂▂▃▃▃▃▄▄▄▄▄▄▅▅▅▅▅▅▅▆▆▆▆▆▇▇▇▇▇███</td></tr><tr><td>test_accuracy</td><td>▁</td></tr><tr><td>test_f1_macro</td><td>▁</td></tr><tr><td>test_f1_weighted</td><td>▁</td></tr><tr><td>test_loss</td><td>▁</td></tr><tr><td>test_precision_macro</td><td>▁</td></tr><tr><td>test_precision_weighted</td><td>▁</td></tr><tr><td>test_recall_macro</td><td>▁</td></tr><tr><td>test_recall_weighted</td><td>▁</td></tr><tr><td>test_roc_auc_ovo</td><td>▁</td></tr><tr><td>test_roc_auc_ovr</td><td>▁</td></tr><tr><td>train_loss</td><td>█▆▅▄▃▃▃▂▂▂▂▂▂▂▂▂▂▂▂▂▂▂▁▁▁▁▁▁▁▁▁▁▁▁▁▁▁▁▁▁</td></tr></table><br/></div><div class=\"wandb-col\"><h3>Run summary:</h3><br/><table class=\"wandb\"><tr><td>epoch</td><td>79</td></tr><tr><td>test_accuracy</td><td>0.54594</td></tr><tr><td>test_f1_macro</td><td>0.37585</td></tr><tr><td>test_f1_weighted</td><td>0.5685</td></tr><tr><td>test_loss</td><td>1.30651</td></tr><tr><td>test_precision_macro</td><td>0.3657</td></tr><tr><td>test_precision_weighted</td><td>0.66309</td></tr><tr><td>test_recall_macro</td><td>0.57435</td></tr><tr><td>test_recall_weighted</td><td>0.54594</td></tr><tr><td>test_roc_auc_ovo</td><td>0.88844</td></tr><tr><td>test_roc_auc_ovr</td><td>0.86511</td></tr><tr><td>train_loss</td><td>1.22118</td></tr></table><br/></div></div>"
      ],
      "text/plain": [
       "<IPython.core.display.HTML object>"
      ]
     },
     "metadata": {},
     "output_type": "display_data"
    },
    {
     "data": {
      "text/html": [
       " View run <strong style=\"color:#cdcd00\">TFG_MUL_bs(64)_lr(0.001)_hs(98)_e(80)</strong> at: <a href='https://wandb.ai/TFG_Hugo/TFG_MUL_EVAL_2/runs/y3be2l11' target=\"_blank\">https://wandb.ai/TFG_Hugo/TFG_MUL_EVAL_2/runs/y3be2l11</a><br> View project at: <a href='https://wandb.ai/TFG_Hugo/TFG_MUL_EVAL_2' target=\"_blank\">https://wandb.ai/TFG_Hugo/TFG_MUL_EVAL_2</a><br>Synced 5 W&B file(s), 2 media file(s), 2 artifact file(s) and 1 other file(s)"
      ],
      "text/plain": [
       "<IPython.core.display.HTML object>"
      ]
     },
     "metadata": {},
     "output_type": "display_data"
    },
    {
     "data": {
      "text/html": [
       "Find logs at: <code>./wandb/run-20250604_143818-y3be2l11/logs</code>"
      ],
      "text/plain": [
       "<IPython.core.display.HTML object>"
      ]
     },
     "metadata": {},
     "output_type": "display_data"
    },
    {
     "data": {
      "text/html": [
       "Tracking run with wandb version 0.19.10"
      ],
      "text/plain": [
       "<IPython.core.display.HTML object>"
      ]
     },
     "metadata": {},
     "output_type": "display_data"
    },
    {
     "data": {
      "text/html": [
       "Run data is saved locally in <code>/home/hugo/TFG/Notebooks/wandb/run-20250604_143943-51fosudv</code>"
      ],
      "text/plain": [
       "<IPython.core.display.HTML object>"
      ]
     },
     "metadata": {},
     "output_type": "display_data"
    },
    {
     "data": {
      "text/html": [
       "Syncing run <strong><a href='https://wandb.ai/TFG_Hugo/TFG_MUL_EVAL_2/runs/51fosudv' target=\"_blank\">TFG_MUL_bs(256)_lr(0.001)_hs(98)_e(50)</a></strong> to <a href='https://wandb.ai/TFG_Hugo/TFG_MUL_EVAL_2' target=\"_blank\">Weights & Biases</a> (<a href='https://wandb.me/developer-guide' target=\"_blank\">docs</a>)<br>"
      ],
      "text/plain": [
       "<IPython.core.display.HTML object>"
      ]
     },
     "metadata": {},
     "output_type": "display_data"
    },
    {
     "data": {
      "text/html": [
       " View project at <a href='https://wandb.ai/TFG_Hugo/TFG_MUL_EVAL_2' target=\"_blank\">https://wandb.ai/TFG_Hugo/TFG_MUL_EVAL_2</a>"
      ],
      "text/plain": [
       "<IPython.core.display.HTML object>"
      ]
     },
     "metadata": {},
     "output_type": "display_data"
    },
    {
     "data": {
      "text/html": [
       " View run at <a href='https://wandb.ai/TFG_Hugo/TFG_MUL_EVAL_2/runs/51fosudv' target=\"_blank\">https://wandb.ai/TFG_Hugo/TFG_MUL_EVAL_2/runs/51fosudv</a>"
      ],
      "text/plain": [
       "<IPython.core.display.HTML object>"
      ]
     },
     "metadata": {},
     "output_type": "display_data"
    },
    {
     "name": "stdout",
     "output_type": "stream",
     "text": [
      "\n",
      "Entrenando modelo multiclase con: bs=256, lr=0.001, hs=98, e=50\n",
      "\n",
      "Evaluación del modelo para la configuracií bs=256, lr=0.001 finalizada\n"
     ]
    },
    {
     "data": {
      "text/html": [],
      "text/plain": [
       "<IPython.core.display.HTML object>"
      ]
     },
     "metadata": {},
     "output_type": "display_data"
    },
    {
     "data": {
      "text/html": [
       "<br>    <style><br>        .wandb-row {<br>            display: flex;<br>            flex-direction: row;<br>            flex-wrap: wrap;<br>            justify-content: flex-start;<br>            width: 100%;<br>        }<br>        .wandb-col {<br>            display: flex;<br>            flex-direction: column;<br>            flex-basis: 100%;<br>            flex: 1;<br>            padding: 10px;<br>        }<br>    </style><br><div class=\"wandb-row\"><div class=\"wandb-col\"><h3>Run history:</h3><br/><table class=\"wandb\"><tr><td>epoch</td><td>▁▁▁▁▂▂▂▂▂▃▃▃▃▃▃▄▄▄▄▄▅▅▅▅▅▅▆▆▆▆▆▆▇▇▇▇▇███</td></tr><tr><td>test_accuracy</td><td>▁</td></tr><tr><td>test_f1_macro</td><td>▁</td></tr><tr><td>test_f1_weighted</td><td>▁</td></tr><tr><td>test_loss</td><td>▁</td></tr><tr><td>test_precision_macro</td><td>▁</td></tr><tr><td>test_precision_weighted</td><td>▁</td></tr><tr><td>test_recall_macro</td><td>▁</td></tr><tr><td>test_recall_weighted</td><td>▁</td></tr><tr><td>test_roc_auc_ovo</td><td>▁</td></tr><tr><td>test_roc_auc_ovr</td><td>▁</td></tr><tr><td>train_loss</td><td>█▇▆▆▅▅▅▄▄▄▃▄▃▃▃▃▃▃▃▂▂▂▂▂▂▂▂▂▂▂▂▂▁▁▁▁▁▁▁▁</td></tr></table><br/></div><div class=\"wandb-col\"><h3>Run summary:</h3><br/><table class=\"wandb\"><tr><td>epoch</td><td>49</td></tr><tr><td>test_accuracy</td><td>0.42479</td></tr><tr><td>test_f1_macro</td><td>0.31559</td></tr><tr><td>test_f1_weighted</td><td>0.46503</td></tr><tr><td>test_loss</td><td>1.28748</td></tr><tr><td>test_precision_macro</td><td>0.32426</td></tr><tr><td>test_precision_weighted</td><td>0.6585</td></tr><tr><td>test_recall_macro</td><td>0.56769</td></tr><tr><td>test_recall_weighted</td><td>0.42479</td></tr><tr><td>test_roc_auc_ovo</td><td>0.88478</td></tr><tr><td>test_roc_auc_ovr</td><td>0.84707</td></tr><tr><td>train_loss</td><td>1.16698</td></tr></table><br/></div></div>"
      ],
      "text/plain": [
       "<IPython.core.display.HTML object>"
      ]
     },
     "metadata": {},
     "output_type": "display_data"
    },
    {
     "data": {
      "text/html": [
       " View run <strong style=\"color:#cdcd00\">TFG_MUL_bs(256)_lr(0.001)_hs(98)_e(50)</strong> at: <a href='https://wandb.ai/TFG_Hugo/TFG_MUL_EVAL_2/runs/51fosudv' target=\"_blank\">https://wandb.ai/TFG_Hugo/TFG_MUL_EVAL_2/runs/51fosudv</a><br> View project at: <a href='https://wandb.ai/TFG_Hugo/TFG_MUL_EVAL_2' target=\"_blank\">https://wandb.ai/TFG_Hugo/TFG_MUL_EVAL_2</a><br>Synced 5 W&B file(s), 2 media file(s), 2 artifact file(s) and 1 other file(s)"
      ],
      "text/plain": [
       "<IPython.core.display.HTML object>"
      ]
     },
     "metadata": {},
     "output_type": "display_data"
    },
    {
     "data": {
      "text/html": [
       "Find logs at: <code>./wandb/run-20250604_143943-51fosudv/logs</code>"
      ],
      "text/plain": [
       "<IPython.core.display.HTML object>"
      ]
     },
     "metadata": {},
     "output_type": "display_data"
    }
   ],
   "source": [
    "for config in combinaciones:\n",
    "    # Se configura wandb para esta combinación\n",
    "    nombre_experimento = f\"TFG_MUL_bs({config['batch_size']})_lr({config['learning_rate']})_hs({config['hidden_size']})_e({config['epochs']})\"\n",
    "    \n",
    "    wandb.init(\n",
    "        project=\"TFG_MUL_EVAL_2\",\n",
    "        name=nombre_experimento,\n",
    "        config=config\n",
    "    )\n",
    "    \n",
    "    # Se entrena el modelo con todos los datos de entrenamiento\n",
    "    modelo = ModeloMulticlase(\n",
    "        input_dim=X_entrena_tensor.shape[1],\n",
    "        ventanaOculta=config['hidden_size'],\n",
    "        numClases=num_classes\n",
    "    )\n",
    "    optimizador = optim.AdamW(modelo.parameters(), lr=config['learning_rate'])\n",
    "    perdida = nn.CrossEntropyLoss(weight=weights_tensor)\n",
    "    \n",
    "    train_loader = DataLoader(\n",
    "        DatasetTFG(X_entrena_tensor, Y_entrena_tensor),\n",
    "        batch_size=config['batch_size'],\n",
    "        shuffle=True\n",
    "    )\n",
    "    \n",
    "    print(f\"\\nEntrenando modelo multiclase con: bs={config['batch_size']}, \"\n",
    "          f\"lr={config['learning_rate']}, hs={config['hidden_size']}, e={config['epochs']}\")\n",
    "    \n",
    "    for epoch in range(config['epochs']):\n",
    "        modelo.train()\n",
    "        total_loss = 0\n",
    "        for batch_X, batch_Y in train_loader:\n",
    "            optimizador.zero_grad()\n",
    "            salidas = modelo(batch_X)\n",
    "            loss = perdida(salidas, batch_Y.long())\n",
    "            loss.backward()\n",
    "            optimizador.step()\n",
    "            total_loss += loss.item()\n",
    "        \n",
    "        wandb.log({\"train_loss\": total_loss/len(train_loader), \"epoch\": epoch})\n",
    "    \n",
    "    # Se guarda el modelo\n",
    "    nombre_modelo = f\"{nombre_experimento}.pth\"\n",
    "    torch.save(modelo.state_dict(), f'ModelosMUL2/{nombre_modelo}')\n",
    "    wandb.save(f'ModelosMUL2/{nombre_modelo}')\n",
    "    \n",
    "    # Se evalua el modelo en el conjunto de prueba\n",
    "    test_loader = DataLoader(test_dataset, batch_size=config['batch_size'])\n",
    "    \n",
    "    modelo.eval()\n",
    "    test_preds, test_probs, test_targets = [], [], []\n",
    "    test_loss = 0.0\n",
    "    \n",
    "    with torch.no_grad():\n",
    "        for batch_X_test, batch_Y_test in test_loader:\n",
    "            salidas_test = modelo(batch_X_test)\n",
    "            test_loss += perdida(salidas_test, batch_Y_test.long()).item()\n",
    "            \n",
    "            probs = torch.softmax(salidas_test, dim=1)\n",
    "            preds = torch.argmax(probs, dim=1)\n",
    "            \n",
    "            test_probs.extend(probs.cpu().numpy())\n",
    "            test_preds.extend(preds.cpu().numpy())\n",
    "            test_targets.extend(batch_Y_test.cpu().numpy())\n",
    "    \n",
    "    # Se calculan las métricas\n",
    "    test_loss /= len(test_loader)\n",
    "    cm = confusion_matrix(test_targets, test_preds)\n",
    "    \n",
    "    metrics = {\n",
    "        \"test_loss\": test_loss,\n",
    "        \"test_accuracy\": accuracy_score(test_targets, test_preds),\n",
    "        \"test_precision_macro\": precision_score(test_targets, test_preds, average='macro'),\n",
    "        \"test_recall_macro\": recall_score(test_targets, test_preds, average='macro'),\n",
    "        \"test_f1_macro\": f1_score(test_targets, test_preds, average='macro'),\n",
    "        \"test_precision_weighted\": precision_score(test_targets, test_preds, average='weighted'),\n",
    "        \"test_recall_weighted\": recall_score(test_targets, test_preds, average='weighted'),\n",
    "        \"test_f1_weighted\": f1_score(test_targets, test_preds, average='weighted'),\n",
    "    }\n",
    "    \n",
    "    # ROC AUC (solo si es computacionalmente factible)\n",
    "    try:\n",
    "        metrics[\"test_roc_auc_ovo\"] = roc_auc_score(test_targets, test_probs, multi_class='ovo', average='macro')\n",
    "        metrics[\"test_roc_auc_ovr\"] = roc_auc_score(test_targets, test_probs, multi_class='ovr', average='macro')\n",
    "    except:\n",
    "        metrics[\"test_roc_auc_ovo\"] = -1\n",
    "        metrics[\"test_roc_auc_ovr\"] = -1\n",
    "    \n",
    "    # Visualización de la matriz de confusión\n",
    "    plt.figure(figsize=(10, 8))\n",
    "    sns.heatmap(cm, annot=True, fmt=\"d\")\n",
    "    plt.title(f\"Matriz de Confusión (bs={config['batch_size']}, lr={config['learning_rate']})\")\n",
    "    \n",
    "    # Registrar todo en W&B\n",
    "    wandb.log({\n",
    "        **metrics,\n",
    "        \"test_confusion_matrix\": wandb.plot.confusion_matrix(\n",
    "            probs=None,\n",
    "            y_true=test_targets,\n",
    "            preds=test_preds,\n",
    "            class_names=[str(i) for i in range(num_classes)]\n",
    "        ),\n",
    "        \"test_confusion_matrix_image\": wandb.Image(plt)\n",
    "    })\n",
    "    \n",
    "    plt.close()\n",
    "    \n",
    "    print(f\"\\nEvaluación del modelo para la configuracií bs={config['batch_size']}, lr={config['learning_rate']} finalizada\")\n",
    "    \n",
    "    wandb.finish()"
   ]
  }
 ],
 "metadata": {
  "kernelspec": {
   "display_name": "base",
   "language": "python",
   "name": "python3"
  },
  "language_info": {
   "codemirror_mode": {
    "name": "ipython",
    "version": 3
   },
   "file_extension": ".py",
   "mimetype": "text/x-python",
   "name": "python",
   "nbconvert_exporter": "python",
   "pygments_lexer": "ipython3",
   "version": "3.12.7"
  }
 },
 "nbformat": 4,
 "nbformat_minor": 5
}
